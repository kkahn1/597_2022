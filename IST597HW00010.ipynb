{
  "cells": [
    {
      "cell_type": "markdown",
      "metadata": {
        "id": "CL3yb9Ahzg6q"
      },
      "source": [
        "Install necessary packages. Pip has ! in front because it is a command line tool"
      ]
    },
    {
      "cell_type": "code",
      "execution_count": 1,
      "metadata": {
        "id": "ctqjrtkNvhXQ"
      },
      "outputs": [],
      "source": [
        "#!pip install os\n",
        "#!pip install numpy\n",
        "#!pip install time\n",
        "#!pip install tensorflow-gpu\n",
        "#!pip install statistics"
      ]
    },
    {
      "cell_type": "markdown",
      "metadata": {
        "id": "7lXvGGtDzfGn"
      },
      "source": [
        "Import packages"
      ]
    },
    {
      "cell_type": "code",
      "execution_count": 1,
      "metadata": {
        "id": "HBFpxOh10INw"
      },
      "outputs": [],
      "source": [
        "import os\n",
        "import numpy as np\n",
        "import time\n",
        "import tensorflow as tf\n",
        "import matplotlib as mpl\n",
        "import matplotlib.pyplot as plt\n",
        "import statistics"
      ]
    },
    {
      "cell_type": "markdown",
      "metadata": {
        "id": "SH_VJDpv0TxX"
      },
      "source": [
        "Check which version of tensorflow, set seed, get number of gpu in system"
      ]
    },
    {
      "cell_type": "code",
      "execution_count": 3,
      "metadata": {
        "colab": {
          "base_uri": "https://localhost:8080/"
        },
        "id": "l8xjdCOf1hfJ",
        "outputId": "2bf2c61d-4360-45b9-acda-5f840a6cb46f"
      },
      "outputs": [
        {
          "output_type": "stream",
          "name": "stdout",
          "text": [
            "2.7.0\n"
          ]
        },
        {
          "output_type": "execute_result",
          "data": {
            "text/plain": [
              "[]"
            ]
          },
          "metadata": {},
          "execution_count": 3
        }
      ],
      "source": [
        "print(tf.__version__)\n",
        "np.random.seed(975008430)\n",
        "tf.random.set_seed(975008430)\n",
        "tf.config.list_physical_devices('GPU')"
      ]
    },
    {
      "cell_type": "markdown",
      "metadata": {
        "id": "613XJcWM2l_L"
      },
      "source": [
        "Import data to use in the nn\n",
        "\n"
      ]
    },
    {
      "cell_type": "code",
      "execution_count": 4,
      "metadata": {
        "colab": {
          "base_uri": "https://localhost:8080/"
        },
        "id": "_ZIYfXxcusj5",
        "outputId": "59a1ea10-54ff-443f-a442-fa8647102d90"
      },
      "outputs": [
        {
          "output_type": "stream",
          "name": "stdout",
          "text": [
            "Downloading data from https://storage.googleapis.com/tensorflow/tf-keras-datasets/mnist.npz\n",
            "11493376/11490434 [==============================] - 0s 0us/step\n",
            "11501568/11490434 [==============================] - 0s 0us/step\n"
          ]
        }
      ],
      "source": [
        "\n",
        "(train_images, train_labels), (test_images, test_labels) = tf.keras.datasets.mnist.load_data()"
      ]
    },
    {
      "cell_type": "code",
      "execution_count": 5,
      "metadata": {
        "id": "uiSiY9IrsiYF",
        "colab": {
          "base_uri": "https://localhost:8080/"
        },
        "outputId": "79eaa4a4-eb00-4524-faba-52b62e49412b"
      },
      "outputs": [
        {
          "output_type": "stream",
          "name": "stdout",
          "text": [
            "[[[0 0 0 ... 0 0 0]\n",
            "  [0 0 0 ... 0 0 0]\n",
            "  [0 0 0 ... 0 0 0]\n",
            "  ...\n",
            "  [0 0 0 ... 0 0 0]\n",
            "  [0 0 0 ... 0 0 0]\n",
            "  [0 0 0 ... 0 0 0]]\n",
            "\n",
            " [[0 0 0 ... 0 0 0]\n",
            "  [0 0 0 ... 0 0 0]\n",
            "  [0 0 0 ... 0 0 0]\n",
            "  ...\n",
            "  [0 0 0 ... 0 0 0]\n",
            "  [0 0 0 ... 0 0 0]\n",
            "  [0 0 0 ... 0 0 0]]\n",
            "\n",
            " [[0 0 0 ... 0 0 0]\n",
            "  [0 0 0 ... 0 0 0]\n",
            "  [0 0 0 ... 0 0 0]\n",
            "  ...\n",
            "  [0 0 0 ... 0 0 0]\n",
            "  [0 0 0 ... 0 0 0]\n",
            "  [0 0 0 ... 0 0 0]]\n",
            "\n",
            " ...\n",
            "\n",
            " [[0 0 0 ... 0 0 0]\n",
            "  [0 0 0 ... 0 0 0]\n",
            "  [0 0 0 ... 0 0 0]\n",
            "  ...\n",
            "  [0 0 0 ... 0 0 0]\n",
            "  [0 0 0 ... 0 0 0]\n",
            "  [0 0 0 ... 0 0 0]]\n",
            "\n",
            " [[0 0 0 ... 0 0 0]\n",
            "  [0 0 0 ... 0 0 0]\n",
            "  [0 0 0 ... 0 0 0]\n",
            "  ...\n",
            "  [0 0 0 ... 0 0 0]\n",
            "  [0 0 0 ... 0 0 0]\n",
            "  [0 0 0 ... 0 0 0]]\n",
            "\n",
            " [[0 0 0 ... 0 0 0]\n",
            "  [0 0 0 ... 0 0 0]\n",
            "  [0 0 0 ... 0 0 0]\n",
            "  ...\n",
            "  [0 0 0 ... 0 0 0]\n",
            "  [0 0 0 ... 0 0 0]\n",
            "  [0 0 0 ... 0 0 0]]]\n"
          ]
        }
      ],
      "source": [
        "# see what train_images looks like\n",
        "print(train_images)"
      ]
    },
    {
      "cell_type": "code",
      "execution_count": 6,
      "metadata": {
        "colab": {
          "base_uri": "https://localhost:8080/",
          "height": 265
        },
        "id": "ygC5pgVx_bPm",
        "outputId": "7522bb7c-8afe-4b9a-8c8e-4883a87ca508"
      },
      "outputs": [
        {
          "output_type": "display_data",
          "data": {
            "image/png": "[encoded data removed]",
            "text/plain": [
              "<Figure size 432x288 with 1 Axes>"
            ]
          },
          "metadata": {
            "needs_background": "light"
          }
        },
        {
          "output_type": "execute_result",
          "data": {
            "text/plain": [
              "5"
            ]
          },
          "metadata": {},
          "execution_count": 6
        }
      ],
      "source": [
        "some_digit = train_images[0]\n",
        "plt.imshow(some_digit, cmap=\"binary\")\n",
        "plt.axis(\"off\")\n",
        "plt.show()\n",
        "train_labels[0]"
      ]
    },
    {
      "cell_type": "markdown",
      "metadata": {
        "id": "eWfAHgbg80Te"
      },
      "source": [
        "See what the data look like because it will need to be scaled and/or converted to one hot encoding. From above print(tf.shape(train_images)) and print(tf.shape(test_images)) we know these are [60000, 28, 28] and [10000, 28, 28] respectively but need to be [60000, 784] and [10000, 784] respectively"
      ]
    },
    {
      "cell_type": "code",
      "execution_count": 7,
      "metadata": {
        "id": "fSOst0MI8TtO"
      },
      "outputs": [],
      "source": [
        "#normalize X\n",
        "train_images = train_images/255.0\n",
        "test_images = test_images/255.0\n",
        "# reshape train and test images (input data)\n",
        "train_images = train_images.reshape(train_images.shape[0],28*28)\n",
        "test_images = test_images.reshape(test_images.shape[0],28*28)\n",
        "\n",
        "# one hot encoding of train and test labels (output)\n",
        "train_labels = tf.one_hot(train_labels,10)\n",
        "test_labels = tf.one_hot(test_labels,10)"
      ]
    },
    {
      "cell_type": "markdown",
      "metadata": {
        "id": "PLF6r8488asf"
      },
      "source": [
        "Preparing the data to use in the mlp"
      ]
    },
    {
      "cell_type": "code",
      "execution_count": 8,
      "metadata": {
        "id": "MKZmwevfDlk9"
      },
      "outputs": [],
      "source": [
        "from tensorflow.python.ops.gen_array_ops import size\n",
        "# data\n",
        "# (train_images, train_labels), (test_images, test_labels) = tf.keras.datasets.mnist.load_data()\n",
        "# Input layer, tensor (seen in chunk above) is shape [x, 28*28]\n",
        "size_input = 28*28\n",
        "size_first_hidden = 256\n",
        "size_second_hidden = 256\n",
        "size_output = 10\n",
        "number_of_train_examples = train_images.shape[0]\n",
        "number_of_test_examples = test_images.shape[0]\n",
        "\n",
        "# train and test sets\n",
        "\n",
        "X_train = train_images\n",
        "y_train = train_labels\n",
        "X_test = test_images\n",
        "y_test = test_labels\n",
        "\n",
        "## last 10000 training for validation\n",
        "# images\n",
        "X_train, X_validation = X_train[:-10000], X_train[-10000:]\n",
        "# labels\n",
        "y_train, y_validation = y_train[:-10000], y_train[-10000:]"
      ]
    },
    {
      "cell_type": "markdown",
      "metadata": {
        "id": "rORDPsn6tkkt"
      },
      "source": [
        "Quick look at what X_train and y_train look like to make sure nothing went wrong when reshaping"
      ]
    },
    {
      "cell_type": "code",
      "execution_count": 9,
      "metadata": {
        "colab": {
          "base_uri": "https://localhost:8080/"
        },
        "id": "dGqfeQfPrNlb",
        "outputId": "db383444-9210-4fc5-ae02-5261e7b85e67"
      },
      "outputs": [
        {
          "output_type": "stream",
          "name": "stdout",
          "text": [
            "[[0. 0. 0. ... 0. 0. 0.]\n",
            " [0. 0. 0. ... 0. 0. 0.]\n",
            " [0. 0. 0. ... 0. 0. 0.]\n",
            " ...\n",
            " [0. 0. 0. ... 0. 0. 0.]\n",
            " [0. 0. 0. ... 0. 0. 0.]\n",
            " [0. 0. 0. ... 0. 0. 0.]]\n",
            "tf.Tensor([50000   784], shape=(2,), dtype=int32)\n",
            "tf.Tensor(\n",
            "[[0. 0. 0. ... 0. 0. 0.]\n",
            " [1. 0. 0. ... 0. 0. 0.]\n",
            " [0. 0. 0. ... 0. 0. 0.]\n",
            " ...\n",
            " [0. 0. 0. ... 0. 1. 0.]\n",
            " [0. 0. 0. ... 0. 0. 0.]\n",
            " [0. 0. 0. ... 0. 1. 0.]], shape=(50000, 10), dtype=float32)\n",
            "tf.Tensor([10000    10], shape=(2,), dtype=int32)\n",
            "tf.Tensor([10000   784], shape=(2,), dtype=int32)\n"
          ]
        }
      ],
      "source": [
        "print(X_train)\n",
        "print(tf.shape(X_train))\n",
        "print(y_train)\n",
        "print(tf.shape(test_labels))\n",
        "print(tf.shape(test_images))"
      ]
    },
    {
      "cell_type": "code",
      "execution_count": 10,
      "metadata": {
        "id": "XhKLm8XmZRnw"
      },
      "outputs": [],
      "source": [
        "# split into batches\n",
        "train_ds = tf.data.Dataset.from_tensor_slices((X_train, y_train)).batch(64)\n",
        "val_ds = tf.data.Dataset.from_tensor_slices((X_validation, y_validation)).batch(16) # although this gets redone in training...\n",
        "test_ds = tf.data.Dataset.from_tensor_slices((X_test, y_test)).batch(16)"
      ]
    },
    {
      "cell_type": "markdown",
      "metadata": {
        "id": "nYlE9zszPVXF"
      },
      "source": [
        "Build MLP model. this one has no regularization"
      ]
    },
    {
      "cell_type": "code",
      "execution_count": 11,
      "metadata": {
        "id": "B-4ystjrFwXb"
      },
      "outputs": [],
      "source": [
        "# define class to build mlp model\n",
        "class MLP(object):\n",
        "  def __init__(self, size_input, size_first_hidden, size_second_hidden, size_output, device=None):\n",
        "    '''\n",
        "    size_input: int, size of input layer\n",
        "    size_first_hidden: int, size of first hidden layer\n",
        "    size_second_hidden: int, size of second hidden layer\n",
        "    size_output: int, size of output layer\n",
        "    device: str or None, either 'cpu' or 'gpu' or None. If None, the device to be used will be decided automatically during Eager Execution\n",
        "    '''\n",
        "    self.size_input, self.size_first_hidden, self.size_second_hidden, self.size_output, self.device =\\\n",
        "    size_input, size_first_hidden, size_second_hidden, size_output, device\n",
        "\n",
        "    # initialize weights between input layer and first hidden layer\n",
        "    self.W1 = tf.Variable(tf.random.normal([self.size_input, self.size_first_hidden]))\n",
        "    # initialize weights between first hidden layer and second hidden layer\n",
        "    self.W2 = tf.Variable(tf.random.normal([self.size_first_hidden, self.size_second_hidden]))\n",
        "    # initialize weights between second hidden layer and output layer\n",
        "    self.W3 = tf.Variable(tf.random.normal([self.size_second_hidden, self.size_output]))\n",
        "    # initialise biases for first hidden layer\n",
        "    self.b1 = tf.Variable(tf.random.normal([1, self.size_first_hidden]))\n",
        "    # initialise biases for second hidden layer\n",
        "    self.b2 = tf.Variable(tf.random.normal([1, self.size_second_hidden]))\n",
        "    # initialise biases for output layer\n",
        "    self.b3 = tf.Variable(tf.random.normal([1, self.size_output]))\n",
        "\n",
        "    # define variables to be updated during backprop\n",
        "    self.variables = [self.W1, self.W2, self.W3, self.b1, self.b2, self.b3]\n",
        "  \n",
        "  # forward pass\n",
        "  def forward(self, X):\n",
        "    '''\n",
        "    forward pass\n",
        "    X: Tensor, inputs\n",
        "    '''\n",
        "    if self.device is not None:\n",
        "      with tf.device('gpu:0' if self.device=='gpu' else 'cpu'):\n",
        "        self.y = self.compute_output(X)\n",
        "    else:\n",
        "      self.y = self.compute_output(X)\n",
        "    \n",
        "    return self.y\n",
        "  \n",
        "  #loss function. cross entropy\n",
        "  def loss(self, y_pred, y_true):\n",
        "    '''\n",
        "    y_pred - Tensor of shape (batch_size, size_output)\n",
        "    y_true - Tensor of shape (batch_size, size_output)\n",
        "    '''\n",
        "    #y_true_tf = tf.cast(tf.reshape(y_true, (-1, self.size_output)), dtype=tf.float32)\n",
        "    y_pred_tf = tf.cast(y_pred, dtype=tf.float32)\n",
        "    y_true_tf = tf.cast(y_true, dtype=tf.float32)\n",
        "    return tf.nn.softmax_cross_entropy_with_logits(y_true_tf, y_pred_tf)\n",
        "    #scce = tf.keras.losses.SparseCategoricalCrossentropy()\n",
        "    #temp = scce(y_true_tf, y_pred_tf).numpy()\n",
        "    #print(temp)\n",
        "    #return scce(y_true_tf, y_pred_tf).numpy()\n",
        "  \n",
        "  # backward pass\n",
        "  def backward(self, X_train, y_train):\n",
        "    '''\n",
        "    backward pass\n",
        "    '''\n",
        "    optimizer = tf.keras.optimizers.SGD(learning_rate=1e-4)\n",
        "    with tf.GradientTape() as tape:\n",
        "      predicted = self.forward(X_train)\n",
        "      current_loss = self.loss(predicted, y_train)\n",
        "    \n",
        "    grads = tape.gradient(current_loss, self.variables)\n",
        "    #print(type(grads))\n",
        "    #lr = 1e-4\n",
        "    #dws = grads\n",
        "    #dws_new = [i * lr for i in dws]\n",
        "    #print(type(dws[0:1]))\n",
        "    #Wt = [a_i - b_i for a_i, b_i in zip(self.variables, dws_new)]\n",
        "    #W = self.variables[0]\n",
        "    #W.assign(Wt[0])\n",
        "    #W1 = self.variables[1]\n",
        "    #W1.assign(Wt[1])\n",
        "    #W2 = self.variables[2]\n",
        "    #W2.assign(Wt[2])\n",
        "    #B = self.variables[3]\n",
        "    #B.assign(Wt[3])\n",
        "    #B1 = self.variables[4]\n",
        "    #B1.assign(Wt[4])\n",
        "    #B2 = self.variables[5]\n",
        "    #B2.assign(Wt[5])\n",
        "    #return grads\n",
        "    optimizer.apply_gradients(zip(grads, self.variables))\n",
        "  \n",
        "  def vanillasgd(self, grads, lr = 1e-4):\n",
        "    '''\n",
        "    one-step of sgd to update weights\n",
        "    '''\n",
        "    print(self.variables[0])\n",
        "    print(grads[3:4])\n",
        "\n",
        "    self.variables[0] = self.variables[0] - tf.math.scalar_mul(lr,dws[0,1])\n",
        "    self.variables[1] = self.variables[1] - lr*grads[1,2]\n",
        "    self.variables[2] = self.variables[2] - lr*grads[2,3]\n",
        "    self.variables[3] = self.variables[3] - lr*grads[3,4]\n",
        "    self.variables[4] = self.variables[4] - lr*grads[4,5]\n",
        "    self.variables[5] = self.variables[5] - lr*grads[5,6]\n",
        "  \n",
        "  # compute output\n",
        "  def compute_output(self, X):\n",
        "    '''\n",
        "    obtain output tensor during forward pass\n",
        "    '''\n",
        "    # cast X to float32\n",
        "    X_tf = tf.cast(X, dtype=tf.float32)\n",
        "    # remember to normalize dataset before moving forward\n",
        "    # compute values in first hidden layer\n",
        "    # softmax for multiclass classification\n",
        "    what = tf.matmul(X_tf, self.W1) + self.b1\n",
        "    hhat = tf.nn.relu(what)\n",
        "    # compute values in second hidden layer\n",
        "    w2hat = tf.matmul(hhat, self.W2) + self.b2\n",
        "    h2hat = tf.nn.relu(w2hat)\n",
        "    # compute output\n",
        "    output = tf.matmul(h2hat, self.W3) + self.b3\n",
        "    output_softmax = tf.nn.softmax(output)\n",
        "    return output_softmax\n",
        "\n",
        "\n"
      ]
    },
    {
      "cell_type": "markdown",
      "metadata": {
        "id": "9xaVATaNx13x"
      },
      "source": [
        "Train model with validation"
      ]
    },
    {
      "cell_type": "code",
      "execution_count": 12,
      "metadata": {
        "colab": {
          "base_uri": "https://localhost:8080/"
        },
        "id": "QY0Q2ZM9x0ca",
        "outputId": "8dd0c181-b1df-4c4f-e6bf-87d64558736d"
      },
      "outputs": [
        {
          "output_type": "stream",
          "name": "stdout",
          "text": [
            "Number of Epoch = 1 - Average Training Loss (CE) = 2.29429, Training Accuracy 0.827500\n",
            "Average Validation Loss (CE) = 0.47186, Validation Accuracy = 0.80500\n",
            "Number of Epoch = 2 - Average Training Loss (CE) = 2.26847, Training Accuracy 0.828750\n",
            "Average Validation Loss (CE) = 0.47241, Validation Accuracy = 0.80875\n",
            "Number of Epoch = 3 - Average Training Loss (CE) = 2.25303, Training Accuracy 0.840000\n",
            "Average Validation Loss (CE) = 0.47229, Validation Accuracy = 0.80875\n",
            "Number of Epoch = 4 - Average Training Loss (CE) = 2.23281, Training Accuracy 0.838750\n",
            "Average Validation Loss (CE) = 0.47200, Validation Accuracy = 0.79625\n",
            "Number of Epoch = 5 - Average Training Loss (CE) = 2.20796, Training Accuracy 0.850000\n",
            "Average Validation Loss (CE) = 0.47179, Validation Accuracy = 0.81625\n",
            "Number of Epoch = 6 - Average Training Loss (CE) = 2.18145, Training Accuracy 0.855000\n",
            "Average Validation Loss (CE) = 0.47154, Validation Accuracy = 0.81625\n",
            "Number of Epoch = 7 - Average Training Loss (CE) = 2.15968, Training Accuracy 0.853750\n",
            "Average Validation Loss (CE) = 0.47212, Validation Accuracy = 0.80750\n",
            "Number of Epoch = 8 - Average Training Loss (CE) = 2.14752, Training Accuracy 0.850000\n",
            "Average Validation Loss (CE) = 0.47299, Validation Accuracy = 0.80250\n",
            "Number of Epoch = 9 - Average Training Loss (CE) = 2.13620, Training Accuracy 0.855000\n",
            "Average Validation Loss (CE) = 0.47043, Validation Accuracy = 0.80250\n",
            "Number of Epoch = 10 - Average Training Loss (CE) = 2.12663, Training Accuracy 0.863750\n",
            "Average Validation Loss (CE) = 0.47245, Validation Accuracy = 0.81250\n",
            "\n",
            "Total time taken (in seconds): 311.23\n"
          ]
        }
      ],
      "source": [
        "# Set number of epochs\n",
        "NUM_EPOCHS = 10\n",
        "# save results into here to plot\n",
        "train_loss_results = []\n",
        "train_accuracy_results = []\n",
        "val_loss_results = []\n",
        "val_accuracy_results = []\n",
        "train_mse_results = []\n",
        "val_mse_results = []\n",
        "\n",
        "# Initialize model using GPU\n",
        "mlp_on_gpu = MLP(size_input, size_first_hidden, size_second_hidden, size_output, device='gpu')\n",
        "\n",
        "time_start = time.time()\n",
        "for epoch in range(NUM_EPOCHS):\n",
        "  loss_total_gpu = tf.zeros([1,1], dtype=tf.float32)\n",
        "  lt = 0\n",
        "  train_ds = tf.data.Dataset.from_tensor_slices((X_train, y_train)).shuffle(25, seed=epoch*(975008430)).batch(80)\n",
        "  for inputs, outputs in train_ds:\n",
        "    preds = mlp_on_gpu.forward(inputs)\n",
        "    loss_total_gpu = loss_total_gpu + mlp_on_gpu.loss(preds, outputs)\n",
        "    lt = lt + mlp_on_gpu.loss(preds, outputs)\n",
        "    mlp_on_gpu.backward(inputs, outputs)\n",
        "    accuracy_train = tf.keras.metrics.Accuracy()\n",
        "    accuracy_train.update_state(preds, outputs)\n",
        "    accuracy_train.result().numpy()\n",
        "    mse_train = tf.keras.metrics.mean_squared_error(preds, outputs)\n",
        "  val_loss_total = tf.Variable(0, dtype=tf.float32)\n",
        "  val_ds = tf.data.Dataset.from_tensor_slices((X_validation, y_validation)).shuffle(25, seed=epoch*(975008430)).batch(80)\n",
        "  for input, outputs in val_ds:\n",
        "    preds_val = mlp_on_gpu.forward(inputs)\n",
        "    val_loss_total = val_loss_total + mlp_on_gpu.loss(preds_val, outputs)\n",
        "    accuracy_val = tf.keras.metrics.Accuracy()\n",
        "    accuracy_val.update_state(preds_val, outputs)\n",
        "    accuracy_val.result().numpy()\n",
        "    mse_val = tf.keras.metrics.mean_squared_error(preds_val, outputs)\n",
        "   # End epoch\n",
        "  train_loss_results.append(np.sum(loss_total_gpu) / X_train.shape[0])\n",
        "  train_accuracy_results.append(accuracy_train.result())\n",
        "  val_loss_results.append(np.sum(val_loss_total)/ X_train.shape[0])\n",
        "  val_accuracy_results.append(accuracy_val.result())\n",
        "  train_mse_results.append(np.sum(mse_train))\n",
        "  val_mse_results.append(np.sum(mse_val))\n",
        "    #correct_prediction_val = tf.math.equal(tf.argmax(y_validation,1), tf.argmax(preds_val,1))\n",
        "    #accuracy_val = tf.reduce_mean(tf.cast(correct_prediction_val, tf.float32))\n",
        "  print('Number of Epoch = {} - Average Training Loss (CE) = {:.5f}, Training Accuracy {:5f}'.format(epoch + 1, np.sum(loss_total_gpu) / X_train.shape[0], accuracy_train.result().numpy()))\n",
        "  #print('Training Accuracy = {:.5f}'.format(np.sum(accuracy_train)/ X_train.shape[0]))\n",
        "  print('Average Validation Loss (CE) = {:.5f}, Validation Accuracy = {:.5f}'.format(np.sum(val_loss_total)/ X_train.shape[0], accuracy_val.result().numpy()))\n",
        "  #print('Validation Accuracy = {:.5f}'.format(np.sum(accuracy_val)/ X_train.shape[0])\n",
        "time_taken = time.time() - time_start\n",
        "\n",
        "print('\\nTotal time taken (in seconds): {:.2f}'.format(time_taken))"
      ]
    },
    {
      "cell_type": "markdown",
      "metadata": {
        "id": "xF5rXJ9muwz0"
      },
      "source": [
        "Test model"
      ]
    },
    {
      "cell_type": "code",
      "execution_count": 13,
      "metadata": {
        "colab": {
          "base_uri": "https://localhost:8080/"
        },
        "id": "fAYNHkkXurUS",
        "outputId": "468b28ea-f817-4589-d89b-6312824c5317"
      },
      "outputs": [
        {
          "output_type": "stream",
          "name": "stdout",
          "text": [
            "Test CE Loss = 0.42297, Test Accuracy = 0.88750\n"
          ]
        }
      ],
      "source": [
        "test_loss_total = tf.Variable(0, dtype=tf.float32)\n",
        "test_ds_outputs = []\n",
        "test_ds_trues = []\n",
        "#test_loss_total = 0.0\n",
        "for inputs, outputs in test_ds:\n",
        "  preds = mlp_on_gpu.forward(inputs)\n",
        "  #b = mlp_on_default.loss(preds, outputs)\n",
        "  test_loss_total = test_loss_total + mlp_on_gpu.loss(preds, outputs)\n",
        "  accuracy_test = tf.keras.metrics.Accuracy()\n",
        "  accuracy_test.update_state(preds, outputs)\n",
        "  accuracy_test.result().numpy()\n",
        "  test_ds_outputs.append(outputs)\n",
        "  test_ds_trues.append(y_test)\n",
        "# a = (test_loss_total.numpy() / X_train.shape[0])\n",
        "# print(X_train.shape[0])\n",
        "# print(test_loss_total.numpy())\n",
        "# print(b)\n",
        "print('Test CE Loss = {:.5f}, Test Accuracy = {:.5f}'.format(np.sum(test_loss_total) / X_train.shape[0], accuracy_test.result().numpy()))"
      ]
    },
    {
      "cell_type": "code",
      "source": [
        ""
      ],
      "metadata": {
        "id": "7KQzlsKMyGKU"
      },
      "execution_count": 13,
      "outputs": []
    },
    {
      "cell_type": "markdown",
      "metadata": {
        "id": "dxLFYEIjDOwO"
      },
      "source": [
        "Plotting training and validation \n",
        "Loss and Accuracy"
      ]
    },
    {
      "cell_type": "code",
      "execution_count": 14,
      "metadata": {
        "id": "dOSdNkXIb3aP"
      },
      "outputs": [],
      "source": [
        "#from google.colab import files"
      ]
    },
    {
      "cell_type": "code",
      "execution_count": 15,
      "metadata": {
        "colab": {
          "base_uri": "https://localhost:8080/",
          "height": 295
        },
        "id": "PX1vzBMADOXB",
        "outputId": "c9764c14-15e6-4ea7-ae58-2f27a543ceb2"
      },
      "outputs": [
        {
          "output_type": "display_data",
          "data": {
            "image/png": "[encoded data removed]",
            "text/plain": [
              "<Figure size 432x288 with 1 Axes>"
            ]
          },
          "metadata": {
            "needs_background": "light"
          }
        }
      ],
      "source": [
        "iterations = list(range(NUM_EPOCHS))\n",
        "plt.plot(iterations, train_accuracy_results, label = 'Train')\n",
        "plt.plot(iterations, val_accuracy_results, label = 'Validation')\n",
        "plt.ylabel('Accuracy')\n",
        "plt.xlabel('Iterations')\n",
        "plt.title('MLP Without Regularization: Accuracy')\n",
        "plt.legend(loc='upper left')\n",
        "plt.show()\n",
        "#plt.savefig('mlp_noreg_acc.png')\n",
        "#files.download('mlp_noreg_acc.png')\n"
      ]
    },
    {
      "cell_type": "code",
      "execution_count": 16,
      "metadata": {
        "colab": {
          "base_uri": "https://localhost:8080/",
          "height": 295
        },
        "id": "0NcyNZEC1ecM",
        "outputId": "cc33b8e8-aec0-4211-ca44-fdddafe06838"
      },
      "outputs": [
        {
          "output_type": "display_data",
          "data": {
            "image/png": "[encoded data removed]",
            "text/plain": [
              "<Figure size 432x288 with 1 Axes>"
            ]
          },
          "metadata": {
            "needs_background": "light"
          }
        }
      ],
      "source": [
        "iterations = list(range(NUM_EPOCHS))\n",
        "plt.plot(iterations, train_loss_results, label = 'Train')\n",
        "plt.plot(iterations, val_loss_results, label = 'Validation')\n",
        "plt.ylabel('Cross Entropy Loss')\n",
        "plt.xlabel('Iterations')\n",
        "plt.title('MLP Without Regularization: Loss')\n",
        "plt.legend(loc='upper left')\n",
        "plt.show()\n",
        "#plt.savefig('mlp_noreg_loss.png')\n",
        "#files.download('mlp_noreg_loss.png')"
      ]
    },
    {
      "cell_type": "code",
      "execution_count": 17,
      "metadata": {
        "colab": {
          "base_uri": "https://localhost:8080/",
          "height": 295
        },
        "id": "WrgkHymKsj_x",
        "outputId": "0ad2465f-8319-41b1-a399-f8a418dee5f3"
      },
      "outputs": [
        {
          "output_type": "display_data",
          "data": {
            "image/png": "[encoded data removed]",
            "text/plain": [
              "<Figure size 432x288 with 1 Axes>"
            ]
          },
          "metadata": {
            "needs_background": "light"
          }
        }
      ],
      "source": [
        "iterations = list(range(NUM_EPOCHS))\n",
        "plt.plot(iterations, train_mse_results, label = 'Train')\n",
        "plt.plot(iterations, val_mse_results, label = 'Validation')\n",
        "plt.ylabel('MSE')\n",
        "plt.xlabel('Iterations')\n",
        "plt.title('MLP Without Regularization: MSE')\n",
        "plt.legend(loc='upper left')\n",
        "plt.show()"
      ]
    },
    {
      "cell_type": "markdown",
      "metadata": {
        "id": "UC_Jv9h9VNYV"
      },
      "source": [
        "Redoing the model with L2 regularization: "
      ]
    },
    {
      "cell_type": "code",
      "execution_count": 18,
      "metadata": {
        "id": "ecwsOfw38o6U"
      },
      "outputs": [],
      "source": [
        "from tensorflow.python.ops.gen_nn_ops import l2_loss\n",
        "# defint class to build mlp model\n",
        "class MLPl2(object):\n",
        "  def __init__(self, size_input, size_first_hidden, size_second_hidden, size_output, device=None):\n",
        "    '''\n",
        "    size_input: int, size of input layer\n",
        "    size_first_hidden: int, size of first hidden layer\n",
        "    size_second_hidden: int, size of second hidden layer\n",
        "    size_output: int, size of output layer\n",
        "    device: str or None, either 'cpu' or 'gpu' or None. If None, the device to be used will be decided automatically during Eager Execution\n",
        "    '''\n",
        "    self.size_input, self.size_first_hidden, self.size_second_hidden, self.size_output, self.device =\\\n",
        "    size_input, size_first_hidden, size_second_hidden, size_output, device\n",
        "\n",
        "    # initialize weights between input layer and first hidden layer\n",
        "    self.W1 = tf.Variable(tf.random.normal([self.size_input, self.size_first_hidden]))\n",
        "    # initialize weights between first hidden layer and second hidden layer\n",
        "    self.W2 = tf.Variable(tf.random.normal([self.size_first_hidden, self.size_second_hidden]))\n",
        "    # initialize weights between second hidden layer and output layer\n",
        "    self.W3 = tf.Variable(tf.random.normal([self.size_second_hidden, self.size_output]))\n",
        "    # initialise biases for first hidden layer\n",
        "    self.b1 = tf.Variable(tf.random.normal([1, self.size_first_hidden]))\n",
        "    # initialise biases for second hidden layer\n",
        "    self.b2 = tf.Variable(tf.random.normal([1, self.size_second_hidden]))\n",
        "    # initialise biases for output layer\n",
        "    self.b3 = tf.Variable(tf.random.normal([1, self.size_output]))\n",
        "\n",
        "    # define variables to be updated during backprop\n",
        "    self.variables = [self.W1, self.W2, self.W3, self.b1, self.b2, self.b3]\n",
        "  \n",
        "  # forward pass\n",
        "  def forward(self, X):\n",
        "    '''\n",
        "    forward pass\n",
        "    X: Tensor, inputs\n",
        "    '''\n",
        "    if self.device is not None:\n",
        "      with tf.device('gpu:0' if self.device=='gpu' else 'cpu'):\n",
        "        self.y = self.compute_output(X)\n",
        "    else:\n",
        "      self.y = self.compute_output(X)\n",
        "    \n",
        "    return self.y\n",
        "  \n",
        "  #loss function. cross entropy\n",
        "  def loss(self, y_pred, y_true):\n",
        "    '''\n",
        "    y_pred - Tensor of shape (batch_size, size_output)\n",
        "    y_true - Tensor of shape (batch_size, size_output)\n",
        "    '''\n",
        "    #y_true_tf = tf.cast(tf.reshape(y_true, (-1, self.size_output)), dtype=tf.float32)\n",
        "    y_pred_tf = tf.cast(y_pred, dtype=tf.float32)\n",
        "    y_true_tf = tf.cast(y_true, dtype=tf.float32)\n",
        "    return (tf.reduce_mean(.9 * tf.nn.softmax_cross_entropy_with_logits(y_true_tf, y_pred_tf)) +\n",
        "     .1 * tf.nn.l2_loss(self.W1) +\n",
        "     .1 * tf.nn.l2_loss(self.W2) +\n",
        "     .1 * tf.nn.l2_loss(self.W3))\n",
        "    #scce = tf.keras.losses.SparseCategoricalCrossentropy()\n",
        "    #temp = scce(y_true_tf, y_pred_tf).numpy()\n",
        "    #print(temp)\n",
        "    #return scce(y_true_tf, y_pred_tf).numpy() \n",
        "  \n",
        "  # backward pass\n",
        "  def backward(self, X_train, y_train):\n",
        "    '''\n",
        "    backward pass\n",
        "    '''\n",
        "    optimizer = tf.keras.optimizers.SGD(learning_rate=1e-4)\n",
        "    with tf.GradientTape() as tape:\n",
        "      predicted = self.forward(X_train)\n",
        "      current_loss = self.loss(predicted, y_train)\n",
        "    \n",
        "    grads = tape.gradient(current_loss, self.variables)\n",
        "    optimizer.apply_gradients(zip(grads, self.variables))\n",
        "  \n",
        "  def vanillasgd(self, grads, lr = 1e-4):\n",
        "    '''\n",
        "    one-step of sgd to update weights\n",
        "    '''\n",
        "    print(self.variables[0])\n",
        "    print(grads[3:4])\n",
        "\n",
        "    self.variables[0] = self.variables[0] - tf.math.scalar_mul(lr,dws[0,1])\n",
        "    self.variables[1] = self.variables[1] - lr*grads[1,2]\n",
        "    self.variables[2] = self.variables[2] - lr*grads[2,3]\n",
        "    self.variables[3] = self.variables[3] - lr*grads[3,4]\n",
        "    self.variables[4] = self.variables[4] - lr*grads[4,5]\n",
        "    self.variables[5] = self.variables[5] - lr*grads[5,6]\n",
        "  \n",
        "  # compute output\n",
        "  def compute_output(self, X):\n",
        "    '''\n",
        "    obtain output tensor during forward pass\n",
        "    '''\n",
        "    # cast X to float32\n",
        "    X_tf = tf.cast(X, dtype=tf.float32)\n",
        "    # remember to normalize dataset before moving forward\n",
        "    # compute values in first hidden layer\n",
        "    # softmax for multiclass classification\n",
        "    what = tf.matmul(X_tf, self.W1) + self.b1\n",
        "    hhat = tf.nn.relu(what)\n",
        "    # compute values in second hidden layer\n",
        "    w2hat = tf.matmul(hhat, self.W2) + self.b2\n",
        "    h2hat = tf.nn.relu(w2hat)\n",
        "    # compute output\n",
        "    output = tf.matmul(h2hat, self.W3) + self.b3\n",
        "    output_softmax = tf.nn.softmax(output)\n",
        "    return output_softmax"
      ]
    },
    {
      "cell_type": "code",
      "execution_count": 19,
      "metadata": {
        "colab": {
          "base_uri": "https://localhost:8080/"
        },
        "id": "hwJoqzM_vS1W",
        "outputId": "11b3cb86-b184-47c8-d7b3-36a89bb4e9b8"
      },
      "outputs": [
        {
          "output_type": "stream",
          "name": "stdout",
          "text": [
            "Number of Epoch = 1 - Average Training Loss (CE) = 167.46934, Training Accuracy 0.810000\n",
            "Average Validation Loss (CE) = 33.28461, Validation Accuracy = 0.82250\n",
            "Number of Epoch = 2 - Average Training Loss (CE) = 165.38937, Training Accuracy 0.813750\n",
            "Average Validation Loss (CE) = 32.87123, Validation Accuracy = 0.81500\n",
            "Number of Epoch = 3 - Average Training Loss (CE) = 163.33526, Training Accuracy 0.812500\n",
            "Average Validation Loss (CE) = 32.46293, Validation Accuracy = 0.81000\n",
            "Number of Epoch = 4 - Average Training Loss (CE) = 161.30659, Training Accuracy 0.813750\n",
            "Average Validation Loss (CE) = 32.05974, Validation Accuracy = 0.81250\n",
            "Number of Epoch = 5 - Average Training Loss (CE) = 159.30313, Training Accuracy 0.810000\n",
            "Average Validation Loss (CE) = 31.66156, Validation Accuracy = 0.80875\n",
            "Number of Epoch = 6 - Average Training Loss (CE) = 157.32458, Training Accuracy 0.810000\n",
            "Average Validation Loss (CE) = 31.26835, Validation Accuracy = 0.81500\n",
            "Number of Epoch = 7 - Average Training Loss (CE) = 155.37056, Training Accuracy 0.812500\n",
            "Average Validation Loss (CE) = 30.87998, Validation Accuracy = 0.81250\n",
            "Number of Epoch = 8 - Average Training Loss (CE) = 153.44091, Training Accuracy 0.808750\n",
            "Average Validation Loss (CE) = 30.49646, Validation Accuracy = 0.80875\n",
            "Number of Epoch = 9 - Average Training Loss (CE) = 151.53521, Training Accuracy 0.815000\n",
            "Average Validation Loss (CE) = 30.11770, Validation Accuracy = 0.81250\n",
            "Number of Epoch = 10 - Average Training Loss (CE) = 149.65312, Training Accuracy 0.807500\n",
            "Average Validation Loss (CE) = 29.74362, Validation Accuracy = 0.81625\n",
            "\n",
            "Total time taken (in seconds): 321.88\n"
          ]
        }
      ],
      "source": [
        "# Set number of epochs\n",
        "NUM_EPOCHS = 10\n",
        "# save results into here to plot\n",
        "l2train_loss_results = []\n",
        "l2train_accuracy_results = []\n",
        "l2val_loss_results = []\n",
        "l2val_accuracy_results = []\n",
        "l2train_mse_results = []\n",
        "l2val_mse_results = []\n",
        "\n",
        "# Initialize model using GPU\n",
        "mlpl2_on_gpu = MLPl2(size_input, size_first_hidden, size_second_hidden, size_output, device='gpu')\n",
        "\n",
        "time_start = time.time()\n",
        "for epoch in range(NUM_EPOCHS):\n",
        "  loss_total_gpu = tf.zeros([1,1], dtype=tf.float32)\n",
        "  lt = 0\n",
        "  train_ds = tf.data.Dataset.from_tensor_slices((X_train, y_train)).shuffle(25, seed=epoch*(975008430)).batch(80)\n",
        "  for inputs, outputs in train_ds:\n",
        "    preds = mlpl2_on_gpu.forward(inputs)\n",
        "    loss_total_gpu = loss_total_gpu + mlpl2_on_gpu.loss(preds, outputs)\n",
        "    lt = lt + mlpl2_on_gpu.loss(preds, outputs)\n",
        "    mlpl2_on_gpu.backward(inputs, outputs)\n",
        "    accuracy_train = tf.keras.metrics.Accuracy()\n",
        "    accuracy_train.update_state(preds, outputs)\n",
        "    accuracy_train.result().numpy()\n",
        "    mse_train = tf.keras.metrics.mean_squared_error(preds, outputs)\n",
        "  val_loss_total = tf.Variable(0, dtype=tf.float32)\n",
        "  val_ds = tf.data.Dataset.from_tensor_slices((X_validation, y_validation)).shuffle(25, seed=epoch*(975008430)).batch(80)\n",
        "  for input, outputs in val_ds:\n",
        "    preds_val = mlpl2_on_gpu.forward(inputs)\n",
        "    val_loss_total = val_loss_total + mlpl2_on_gpu.loss(preds_val, outputs)\n",
        "    accuracy_val = tf.keras.metrics.Accuracy()\n",
        "    accuracy_val.update_state(preds_val, outputs)\n",
        "    accuracy_val.result().numpy()\n",
        "    mse_val = tf.keras.metrics.mean_squared_error(preds_val, outputs)\n",
        "   # End epoch\n",
        "  l2train_loss_results.append(np.sum(loss_total_gpu)/ X_train.shape[0])\n",
        "  l2train_accuracy_results.append(accuracy_train.result())\n",
        "  l2val_loss_results.append(np.sum(val_loss_total)/ X_train.shape[0])\n",
        "  l2val_accuracy_results.append(accuracy_val.result())\n",
        "  l2train_mse_results.append(np.sum(mse_train))\n",
        "  l2val_mse_results.append(np.sum(mse_val))\n",
        "    #correct_prediction_val = tf.math.equal(tf.argmax(y_validation,1), tf.argmax(preds_val,1))\n",
        "    #accuracy_val = tf.reduce_mean(tf.cast(correct_prediction_val, tf.float32))\n",
        "  print('Number of Epoch = {} - Average Training Loss (CE) = {:.5f}, Training Accuracy {:5f}'.format(epoch + 1, np.sum(loss_total_gpu)/ X_train.shape[0], accuracy_train.result().numpy()))\n",
        "  #print('Training Accuracy = {:.5f}'.format(np.sum(accuracy_train)/ X_train.shape[0]))\n",
        "  print('Average Validation Loss (CE) = {:.5f}, Validation Accuracy = {:.5f}'.format(np.sum(val_loss_total)/ X_train.shape[0], accuracy_val.result().numpy()))\n",
        "  #print('Validation Accuracy = {:.5f}'.format(np.sum(accuracy_val)/ X_train.shape[0])\n",
        "time_taken = time.time() - time_start\n",
        "\n",
        "print('\\nTotal time taken (in seconds): {:.2f}'.format(time_taken))"
      ]
    },
    {
      "cell_type": "code",
      "execution_count": 20,
      "metadata": {
        "colab": {
          "base_uri": "https://localhost:8080/",
          "height": 851
        },
        "id": "XiZkYblRw52q",
        "outputId": "f08d5827-7860-4390-f8a2-c1eef558d531"
      },
      "outputs": [
        {
          "output_type": "display_data",
          "data": {
            "image/png": "[encoded data removed]",
            "text/plain": [
              "<Figure size 432x288 with 1 Axes>"
            ]
          },
          "metadata": {
            "needs_background": "light"
          }
        },
        {
          "output_type": "display_data",
          "data": {
            "image/png": "[encoded data removed]",
            "text/plain": [
              "<Figure size 432x288 with 1 Axes>"
            ]
          },
          "metadata": {
            "needs_background": "light"
          }
        },
        {
          "output_type": "display_data",
          "data": {
            "image/png": "[encoded data removed]",
            "text/plain": [
              "<Figure size 432x288 with 1 Axes>"
            ]
          },
          "metadata": {
            "needs_background": "light"
          }
        }
      ],
      "source": [
        "iterations = list(range(NUM_EPOCHS))\n",
        "plt.plot(iterations, l2train_accuracy_results, label = 'Train')\n",
        "plt.plot(iterations, l2val_accuracy_results, label = 'Validation')\n",
        "plt.ylabel('Accuracy')\n",
        "plt.xlabel('Iterations')\n",
        "plt.title('MLP L2 Regularization: Accuracy')\n",
        "plt.legend(loc='upper left')\n",
        "plt.show()\n",
        "#plt.savefig('mlp_noreg_acc.png')\n",
        "#files.download('mlp_noreg_acc.png')\n",
        "\n",
        "\n",
        "iterations = list(range(NUM_EPOCHS))\n",
        "plt.plot(iterations, l2train_loss_results, label = 'Train')\n",
        "plt.plot(iterations, l2val_loss_results, label = 'Validation')\n",
        "plt.ylabel('Cross Entropy Loss')\n",
        "plt.xlabel('Iterations')\n",
        "plt.title('MLP L2 Regularization: Loss')\n",
        "plt.legend(loc='upper left')\n",
        "plt.show()\n",
        "\n",
        "iterations = list(range(NUM_EPOCHS))\n",
        "plt.plot(iterations, l2train_mse_results, label = 'Train')\n",
        "plt.plot(iterations, l2val_mse_results, label = 'Validation')\n",
        "plt.ylabel('MSE')\n",
        "plt.xlabel('Iterations')\n",
        "plt.title('MLP L2 Regularization: MSE')\n",
        "plt.legend(loc='upper left')\n",
        "plt.show()\n"
      ]
    },
    {
      "cell_type": "code",
      "execution_count": 21,
      "metadata": {
        "colab": {
          "base_uri": "https://localhost:8080/"
        },
        "id": "_L07VqERfCkn",
        "outputId": "4302a346-b259-48bf-add9-0682f518e5ea"
      },
      "outputs": [
        {
          "output_type": "stream",
          "name": "stdout",
          "text": [
            "Test CE Loss = 148.71856, Test Accuracy = 0.78750\n"
          ]
        }
      ],
      "source": [
        "l2test_loss_total = tf.Variable(0, dtype=tf.float32)\n",
        "l2test_ds_outputs = []\n",
        "l2test_ds_trues = []\n",
        "#test_loss_total = 0.0\n",
        "for inputs, outputs in test_ds:\n",
        "  preds = mlpl2_on_gpu.forward(inputs)\n",
        "  #b = mlp_on_default.loss(preds, outputs)\n",
        "  l2test_loss_total = l2test_loss_total + mlpl2_on_gpu.loss(preds, outputs)\n",
        "  l2accuracy_test = tf.keras.metrics.Accuracy()\n",
        "  l2accuracy_test.update_state(preds, outputs)\n",
        "  l2accuracy_test.result().numpy()\n",
        "  l2test_ds_outputs.append(outputs)\n",
        "  l2test_ds_trues.append(y_test)\n",
        "# a = (test_loss_total.numpy() / X_train.shape[0])\n",
        "# print(X_train.shape[0])\n",
        "# print(test_loss_total.numpy())\n",
        "# print(b)\n",
        "print('Test CE Loss = {:.5f}, Test Accuracy = {:.5f}'.format(np.sum(l2test_loss_total) / X_train.shape[0], l2accuracy_test.result().numpy()))"
      ]
    },
    {
      "cell_type": "markdown",
      "metadata": {
        "id": "Q9Kp2z_VWY2S"
      },
      "source": [
        "L1 regularization"
      ]
    },
    {
      "cell_type": "code",
      "execution_count": 22,
      "metadata": {
        "id": "a5Hy8IbXWMj4"
      },
      "outputs": [],
      "source": [
        "from tensorflow.python.ops.gen_nn_ops import l2_loss\n",
        "# defint class to build mlp model\n",
        "class MLPl1(object):\n",
        "  def __init__(self, size_input, size_first_hidden, size_second_hidden, size_output, device=None):\n",
        "    '''\n",
        "    size_input: int, size of input layer\n",
        "    size_first_hidden: int, size of first hidden layer\n",
        "    size_second_hidden: int, size of second hidden layer\n",
        "    size_output: int, size of output layer\n",
        "    device: str or None, either 'cpu' or 'gpu' or None. If None, the device to be used will be decided automatically during Eager Execution\n",
        "    '''\n",
        "    self.size_input, self.size_first_hidden, self.size_second_hidden, self.size_output, self.device =\\\n",
        "    size_input, size_first_hidden, size_second_hidden, size_output, device\n",
        "\n",
        "    # initialize weights between input layer and first hidden layer\n",
        "    self.W1 = tf.Variable(tf.random.normal([self.size_input, self.size_first_hidden]))\n",
        "    # initialize weights between first hidden layer and second hidden layer\n",
        "    self.W2 = tf.Variable(tf.random.normal([self.size_first_hidden, self.size_second_hidden]))\n",
        "    # initialize weights between second hidden layer and output layer\n",
        "    self.W3 = tf.Variable(tf.random.normal([self.size_second_hidden, self.size_output]))\n",
        "    # initialise biases for first hidden layer\n",
        "    self.b1 = tf.Variable(tf.random.normal([1, self.size_first_hidden]))\n",
        "    # initialise biases for second hidden layer\n",
        "    self.b2 = tf.Variable(tf.random.normal([1, self.size_second_hidden]))\n",
        "    # initialise biases for output layer\n",
        "    self.b3 = tf.Variable(tf.random.normal([1, self.size_output]))\n",
        "\n",
        "    # define variables to be updated during backprop\n",
        "    self.variables = [self.W1, self.W2, self.W3, self.b1, self.b2, self.b3]\n",
        "  \n",
        "  # forward pass\n",
        "  def forward(self, X):\n",
        "    '''\n",
        "    forward pass\n",
        "    X: Tensor, inputs\n",
        "    '''\n",
        "    if self.device is not None:\n",
        "      with tf.device('gpu:0' if self.device=='gpu' else 'cpu'):\n",
        "        self.y = self.compute_output(X)\n",
        "    else:\n",
        "      self.y = self.compute_output(X)\n",
        "    \n",
        "    return self.y\n",
        "  \n",
        "  #loss function. cross entropy\n",
        "  def loss(self, y_pred, y_true):\n",
        "    '''\n",
        "    y_pred - Tensor of shape (batch_size, size_output)\n",
        "    y_true - Tensor of shape (batch_size, size_output)\n",
        "    '''\n",
        "    #y_true_tf = tf.cast(tf.reshape(y_true, (-1, self.size_output)), dtype=tf.float32)\n",
        "    y_pred_tf = tf.cast(y_pred, dtype=tf.float32)\n",
        "    y_true_tf = tf.cast(y_true, dtype=tf.float32)\n",
        "    return (tf.reduce_mean(.9 * tf.nn.softmax_cross_entropy_with_logits(y_true_tf, y_pred_tf)) +\n",
        "            .1 * tf.math.reduce_sum(np.abs(self.W1)) +\n",
        "            .1 * tf.math.reduce_sum(np.abs(self.W2)) +\n",
        "            .1 * tf.math.reduce_sum(np.abs(self.W3)))\n",
        "    #scce = tf.keras.losses.SparseCategoricalCrossentropy()\n",
        "    #temp = scce(y_true_tf, y_pred_tf).numpy()\n",
        "    #print(temp)\n",
        "    #return scce(y_true_tf, y_pred_tf).numpy() \n",
        "  \n",
        "  # backward pass\n",
        "  def backward(self, X_train, y_train):\n",
        "    '''\n",
        "    backward pass\n",
        "    '''\n",
        "    optimizer = tf.keras.optimizers.SGD(learning_rate=1e-4)\n",
        "    with tf.GradientTape() as tape:\n",
        "      predicted = self.forward(X_train)\n",
        "      current_loss = self.loss(predicted, y_train)\n",
        "    \n",
        "    grads = tape.gradient(current_loss, self.variables)\n",
        "    optimizer.apply_gradients(zip(grads, self.variables))\n",
        "  \n",
        "  def vanillasgd(self, grads, lr = 1e-4):\n",
        "    '''\n",
        "    one-step of sgd to update weights\n",
        "    '''\n",
        "    print(self.variables[0])\n",
        "    print(grads[3:4])\n",
        "\n",
        "    self.variables[0] = self.variables[0] - tf.math.scalar_mul(lr,dws[0,1])\n",
        "    self.variables[1] = self.variables[1] - lr*grads[1,2]\n",
        "    self.variables[2] = self.variables[2] - lr*grads[2,3]\n",
        "    self.variables[3] = self.variables[3] - lr*grads[3,4]\n",
        "    self.variables[4] = self.variables[4] - lr*grads[4,5]\n",
        "    self.variables[5] = self.variables[5] - lr*grads[5,6]\n",
        "  \n",
        "  # compute output\n",
        "  def compute_output(self, X):\n",
        "    '''\n",
        "    obtain output tensor during forward pass\n",
        "    '''\n",
        "    # cast X to float32\n",
        "    X_tf = tf.cast(X, dtype=tf.float32)\n",
        "    # remember to normalize dataset before moving forward\n",
        "    # compute values in first hidden layer\n",
        "    # softmax for multiclass classification\n",
        "    what = tf.matmul(X_tf, self.W1) + self.b1\n",
        "    hhat = tf.nn.relu(what)\n",
        "    # compute values in second hidden layer\n",
        "    w2hat = tf.matmul(hhat, self.W2) + self.b2\n",
        "    h2hat = tf.nn.relu(w2hat)\n",
        "    # compute output\n",
        "    output = tf.matmul(h2hat, self.W3) + self.b3\n",
        "    output_softmax = tf.nn.softmax(output)\n",
        "    return output_softmax"
      ]
    },
    {
      "cell_type": "markdown",
      "metadata": {
        "id": "FT3vfCYcXJLF"
      },
      "source": [
        "Train model w/ validation"
      ]
    },
    {
      "cell_type": "code",
      "execution_count": 23,
      "metadata": {
        "colab": {
          "base_uri": "https://localhost:8080/",
          "height": 453
        },
        "id": "1k5IFO7RXIFj",
        "outputId": "570d3f66-0ee0-44c6-f445-b151475278f4"
      },
      "outputs": [
        {
          "output_type": "stream",
          "name": "stdout",
          "text": [
            "Number of Epoch = 1 - Average Training Loss (CE) = 268.09700, Training Accuracy 0.805000\n",
            "Average Validation Loss (CE) = 53.61928, Validation Accuracy = 0.80875\n",
            "Number of Epoch = 2 - Average Training Loss (CE) = 268.09706, Training Accuracy 0.802500\n",
            "Average Validation Loss (CE) = 53.61930, Validation Accuracy = 0.79250\n",
            "Number of Epoch = 3 - Average Training Loss (CE) = 268.09704, Training Accuracy 0.802500\n",
            "Average Validation Loss (CE) = 53.61928, Validation Accuracy = 0.80625\n"
          ]
        },
        {
          "output_type": "error",
          "ename": "KeyboardInterrupt",
          "evalue": "ignored",
          "traceback": [
            "\u001b[0;31m---------------------------------------------------------------------------\u001b[0m",
            "\u001b[0;31mKeyboardInterrupt\u001b[0m                         Traceback (most recent call last)",
            "\u001b[0;32m<ipython-input-23-3e35ea580474>\u001b[0m in \u001b[0;36m<module>\u001b[0;34m()\u001b[0m\n\u001b[1;32m     22\u001b[0m     \u001b[0mlt\u001b[0m \u001b[0;34m=\u001b[0m \u001b[0mlt\u001b[0m \u001b[0;34m+\u001b[0m \u001b[0mmlpl1_on_gpu\u001b[0m\u001b[0;34m.\u001b[0m\u001b[0mloss\u001b[0m\u001b[0;34m(\u001b[0m\u001b[0mpreds\u001b[0m\u001b[0;34m,\u001b[0m \u001b[0moutputs\u001b[0m\u001b[0;34m)\u001b[0m\u001b[0;34m\u001b[0m\u001b[0;34m\u001b[0m\u001b[0m\n\u001b[1;32m     23\u001b[0m     \u001b[0mmlpl1_on_gpu\u001b[0m\u001b[0;34m.\u001b[0m\u001b[0mbackward\u001b[0m\u001b[0;34m(\u001b[0m\u001b[0minputs\u001b[0m\u001b[0;34m,\u001b[0m \u001b[0moutputs\u001b[0m\u001b[0;34m)\u001b[0m\u001b[0;34m\u001b[0m\u001b[0;34m\u001b[0m\u001b[0m\n\u001b[0;32m---> 24\u001b[0;31m     \u001b[0maccuracy_train\u001b[0m \u001b[0;34m=\u001b[0m \u001b[0mtf\u001b[0m\u001b[0;34m.\u001b[0m\u001b[0mkeras\u001b[0m\u001b[0;34m.\u001b[0m\u001b[0mmetrics\u001b[0m\u001b[0;34m.\u001b[0m\u001b[0mAccuracy\u001b[0m\u001b[0;34m(\u001b[0m\u001b[0;34m)\u001b[0m\u001b[0;34m\u001b[0m\u001b[0;34m\u001b[0m\u001b[0m\n\u001b[0m\u001b[1;32m     25\u001b[0m     \u001b[0maccuracy_train\u001b[0m\u001b[0;34m.\u001b[0m\u001b[0mupdate_state\u001b[0m\u001b[0;34m(\u001b[0m\u001b[0mpreds\u001b[0m\u001b[0;34m,\u001b[0m \u001b[0moutputs\u001b[0m\u001b[0;34m)\u001b[0m\u001b[0;34m\u001b[0m\u001b[0;34m\u001b[0m\u001b[0m\n\u001b[1;32m     26\u001b[0m     \u001b[0maccuracy_train\u001b[0m\u001b[0;34m.\u001b[0m\u001b[0mresult\u001b[0m\u001b[0;34m(\u001b[0m\u001b[0;34m)\u001b[0m\u001b[0;34m.\u001b[0m\u001b[0mnumpy\u001b[0m\u001b[0;34m(\u001b[0m\u001b[0;34m)\u001b[0m\u001b[0;34m\u001b[0m\u001b[0;34m\u001b[0m\u001b[0m\n",
            "\u001b[0;32m/usr/local/lib/python3.7/dist-packages/keras/metrics.py\u001b[0m in \u001b[0;36m__new__\u001b[0;34m(cls, *args, **kwargs)\u001b[0m\n\u001b[1;32m    183\u001b[0m \u001b[0;34m\u001b[0m\u001b[0m\n\u001b[1;32m    184\u001b[0m     obj.update_state = types.MethodType(\n\u001b[0;32m--> 185\u001b[0;31m         metrics_utils.update_state_wrapper(update_state_fn), obj)\n\u001b[0m\u001b[1;32m    186\u001b[0m \u001b[0;34m\u001b[0m\u001b[0m\n\u001b[1;32m    187\u001b[0m     \u001b[0mobj_result\u001b[0m \u001b[0;34m=\u001b[0m \u001b[0mobj\u001b[0m\u001b[0;34m.\u001b[0m\u001b[0mresult\u001b[0m\u001b[0;34m\u001b[0m\u001b[0;34m\u001b[0m\u001b[0m\n",
            "\u001b[0;31mKeyboardInterrupt\u001b[0m: "
          ]
        }
      ],
      "source": [
        "# Set number of epochs\n",
        "NUM_EPOCHS = 10\n",
        "# save results into here to plot\n",
        "l1train_loss_results = []\n",
        "l1train_accuracy_results = []\n",
        "l1val_loss_results = []\n",
        "l1val_accuracy_results = []\n",
        "l1train_mse_results = []\n",
        "l1val_mse_results = []\n",
        "\n",
        "# Initialize model using GPU\n",
        "mlpl1_on_gpu = MLPl1(size_input, size_first_hidden, size_second_hidden, size_output, device='gpu')\n",
        "\n",
        "time_start = time.time()\n",
        "for epoch in range(NUM_EPOCHS):\n",
        "  loss_total_gpu = tf.zeros([1,1], dtype=tf.float32)\n",
        "  lt = 0\n",
        "  train_ds = tf.data.Dataset.from_tensor_slices((X_train, y_train)).shuffle(25, seed=epoch*(975008430)).batch(80)\n",
        "  for inputs, outputs in train_ds:\n",
        "    preds = mlpl1_on_gpu.forward(inputs)\n",
        "    loss_total_gpu = loss_total_gpu + mlpl1_on_gpu.loss(preds, outputs)\n",
        "    lt = lt + mlpl1_on_gpu.loss(preds, outputs)\n",
        "    mlpl1_on_gpu.backward(inputs, outputs)\n",
        "    accuracy_train = tf.keras.metrics.Accuracy()\n",
        "    accuracy_train.update_state(preds, outputs)\n",
        "    accuracy_train.result().numpy()\n",
        "    mse_train = tf.keras.metrics.mean_squared_error(preds, outputs)\n",
        "  val_loss_total = tf.Variable(0, dtype=tf.float32)\n",
        "  val_ds = tf.data.Dataset.from_tensor_slices((X_validation, y_validation)).shuffle(25, seed=epoch*(975008430)).batch(80)\n",
        "  for input, outputs in val_ds:\n",
        "    preds_val = mlpl1_on_gpu.forward(inputs)\n",
        "    val_loss_total = val_loss_total + mlpl1_on_gpu.loss(preds_val, outputs)\n",
        "    accuracy_val = tf.keras.metrics.Accuracy()\n",
        "    accuracy_val.update_state(preds_val, outputs)\n",
        "    accuracy_val.result().numpy()\n",
        "    mse_val = tf.keras.metrics.mean_squared_error(preds_val, outputs)\n",
        "   # End epoch\n",
        "  l1train_loss_results.append(np.sum(loss_total_gpu) / X_train.shape[0])\n",
        "  l1train_accuracy_results.append(accuracy_train.result())\n",
        "  l1val_loss_results.append(np.sum(val_loss_total)/ X_train.shape[0])\n",
        "  l1val_accuracy_results.append(accuracy_val.result())\n",
        "  l1train_mse_results.append(np.sum(mse_train)/ X_train.shape[0])\n",
        "  l1val_mse_results.append(np.sum(mse_val)/ X_train.shape[0])\n",
        "    #correct_prediction_val = tf.math.equal(tf.argmax(y_validation,1), tf.argmax(preds_val,1))\n",
        "    #accuracy_val = tf.reduce_mean(tf.cast(correct_prediction_val, tf.float32))\n",
        "  print('Number of Epoch = {} - Average Training Loss (CE) = {:.5f}, Training Accuracy {:5f}'.format(epoch + 1, np.sum(loss_total_gpu) / X_train.shape[0], accuracy_train.result().numpy()))\n",
        "  #print('Training Accuracy = {:.5f}'.format(np.sum(accuracy_train)/ X_train.shape[0]))\n",
        "  print('Average Validation Loss (CE) = {:.5f}, Validation Accuracy = {:.5f}'.format(np.sum(val_loss_total)/ X_train.shape[0], accuracy_val.result().numpy()))\n",
        "  #print('Validation Accuracy = {:.5f}'.format(np.sum(accuracy_val)/ X_train.shape[0])\n",
        "time_taken = time.time() - time_start\n",
        "\n",
        "print('\\nTotal time taken (in seconds): {:.2f}'.format(time_taken))"
      ]
    },
    {
      "cell_type": "code",
      "execution_count": null,
      "metadata": {
        "id": "3ZaqyqNlfXVJ"
      },
      "outputs": [],
      "source": [
        "l1test_loss_total = tf.Variable(0, dtype=tf.float32)\n",
        "l1test_ds_outputs = []\n",
        "l1test_ds_trues = []\n",
        "#test_loss_total = 0.0\n",
        "for inputs, outputs in test_ds:\n",
        "  preds = mlpl1_on_gpu.forward(inputs)\n",
        "  #b = mlp_on_default.loss(preds, outputs)\n",
        "  l1test_loss_total = l1test_loss_total + mlpl1_on_gpu.loss(preds, outputs)\n",
        "  l1accuracy_test = tf.keras.metrics.Accuracy()\n",
        "  l1accuracy_test.update_state(preds, outputs)\n",
        "  l1accuracy_test.result().numpy()\n",
        "  l1test_ds_outputs.append(outputs)\n",
        "  l1test_ds_trues.append(y_test)\n",
        "# a = (test_loss_total.numpy() / X_train.shape[0])\n",
        "# print(X_train.shape[0])\n",
        "# print(test_loss_total.numpy())\n",
        "# print(b)\n",
        "print('Test CE Loss = {:.5f}, Test Accuracy = {:.5f}'.format(np.sum(l1test_loss_total) / X_train.shape[0], l1accuracy_test.result().numpy()))"
      ]
    },
    {
      "cell_type": "code",
      "source": [
        "iterations = list(range(NUM_EPOCHS))\n",
        "plt.plot(iterations, l1train_accuracy_results, label = 'Train')\n",
        "plt.plot(iterations, l1val_accuracy_results, label = 'Validation')\n",
        "plt.ylabel('Accuracy')\n",
        "plt.xlabel('Iterations')\n",
        "plt.title('MLP L1 Regularization: Accuracy')\n",
        "plt.legend(loc='upper left')\n",
        "plt.show()\n",
        "#plt.savefig('mlp_noreg_acc.png')\n",
        "#files.download('mlp_noreg_acc.png')\n",
        "\n",
        "\n",
        "iterations = list(range(NUM_EPOCHS))\n",
        "plt.plot(iterations, l1train_loss_results, label = 'Train')\n",
        "plt.plot(iterations, l1val_loss_results, label = 'Validation')\n",
        "plt.ylabel('Cross Entropy Loss')\n",
        "plt.xlabel('Iterations')\n",
        "plt.title('MLP L1 Regularization: Loss')\n",
        "plt.legend(loc='upper left')\n",
        "plt.show()\n",
        "\n",
        "iterations = list(range(NUM_EPOCHS))\n",
        "plt.plot(iterations, l1train_mse_results, label = 'Train')\n",
        "plt.plot(iterations, l1val_mse_results, label = 'Validation')\n",
        "plt.ylabel('MSE')\n",
        "plt.xlabel('Iterations')\n",
        "plt.title('MLP L1 Regularization: MSE')\n",
        "plt.legend(loc='upper left')\n",
        "plt.show()"
      ],
      "metadata": {
        "id": "hDQjFhkK1Lvf"
      },
      "execution_count": null,
      "outputs": []
    },
    {
      "cell_type": "markdown",
      "source": [
        "Now run each (no regularization, L1, and L2) nine more times each for a total of 10 each. Different seeds for different results each time. MLP models is already defined above so it does not need to be redefined. Retrain with validation and rerun test, resave results."
      ],
      "metadata": {
        "id": "2CzrHQXn5WZ6"
      }
    },
    {
      "cell_type": "code",
      "source": [
        "np.random.seed(975008431)\n",
        "tf.random.set_seed(975008431)\n",
        "# Set number of epochs\n",
        "NUM_EPOCHS = 10"
      ],
      "metadata": {
        "id": "SEXEAs9w5nKX"
      },
      "execution_count": null,
      "outputs": []
    },
    {
      "cell_type": "markdown",
      "source": [
        "No regularization 2"
      ],
      "metadata": {
        "id": "CS27tcvK7bJs"
      }
    },
    {
      "cell_type": "code",
      "source": [
        "# save results into here\n",
        "train_loss_results_2 = []\n",
        "train_accuracy_results_2 = []\n",
        "val_loss_results_2 = []\n",
        "val_accuracy_results_2 = []\n",
        "train_mse_results_2 = []\n",
        "val_mse_results_2 = []\n",
        "\n",
        "# Initialize model using GPU\n",
        "mlp_on_gpu = MLP(size_input, size_first_hidden, size_second_hidden, size_output, device='gpu')\n",
        "\n",
        "time_start = time.time()\n",
        "for epoch in range(NUM_EPOCHS):\n",
        "  loss_total_gpu = tf.zeros([1,1], dtype=tf.float32)\n",
        "  lt = 0\n",
        "  train_ds = tf.data.Dataset.from_tensor_slices((X_train, y_train)).shuffle(25, seed=epoch*(975008430)).batch(80)\n",
        "  for inputs, outputs in train_ds:\n",
        "    preds = mlp_on_gpu.forward(inputs)\n",
        "    loss_total_gpu = loss_total_gpu + mlp_on_gpu.loss(preds, outputs)\n",
        "    lt = lt + mlp_on_gpu.loss(preds, outputs)\n",
        "    mlp_on_gpu.backward(inputs, outputs)\n",
        "    accuracy_train = tf.keras.metrics.Accuracy()\n",
        "    accuracy_train.update_state(preds, outputs)\n",
        "    accuracy_train.result().numpy()\n",
        "    mse_train = tf.keras.metrics.mean_squared_error(preds, outputs)\n",
        "  val_loss_total = tf.Variable(0, dtype=tf.float32)\n",
        "  val_ds = tf.data.Dataset.from_tensor_slices((X_validation, y_validation)).shuffle(25, seed=epoch*(975008430)).batch(80)\n",
        "  for input, outputs in val_ds:\n",
        "    preds_val = mlp_on_gpu.forward(inputs)\n",
        "    val_loss_total = val_loss_total + mlp_on_gpu.loss(preds_val, outputs)\n",
        "    accuracy_val = tf.keras.metrics.Accuracy()\n",
        "    accuracy_val.update_state(preds_val, outputs)\n",
        "    accuracy_val.result().numpy()\n",
        "    mse_val = tf.keras.metrics.mean_squared_error(preds_val, outputs)\n",
        "   # End epoch\n",
        "  train_loss_results_2.append(np.sum(loss_total_gpu) / X_train.shape[0])\n",
        "  train_accuracy_results_2.append(accuracy_train.result())\n",
        "  val_loss_results_2.append(np.sum(val_loss_total)/ X_train.shape[0])\n",
        "  val_accuracy_results_2.append(accuracy_val.result())\n",
        "  train_mse_results_2.append(np.sum(mse_train))\n",
        "  val_mse_results_2.append(np.sum(mse_val))\n",
        "  print('Number of Epoch = {} - Average Training Loss (CE) = {:.5f}, Training Accuracy {:5f}'.format(epoch + 1, np.sum(loss_total_gpu) / X_train.shape[0], accuracy_train.result().numpy()))\n",
        "  print('Average Validation Loss (CE) = {:.5f}, Validation Accuracy = {:.5f}'.format(np.sum(val_loss_total)/ X_train.shape[0], accuracy_val.result().numpy()))\n",
        "time_taken = time.time() - time_start\n",
        "\n",
        "print('\\nTotal time taken (in seconds): {:.2f}'.format(time_taken))\n",
        "test_loss_total_2 = tf.Variable(0, dtype=tf.float32)\n",
        "test_ds_outputs_2 = []\n",
        "test_ds_trues_2 = []\n",
        "#test_loss_total = 0.0\n",
        "for inputs, outputs in test_ds:\n",
        "  preds = mlp_on_gpu.forward(inputs)\n",
        "  #b = mlp_on_default.loss(preds, outputs)\n",
        "  test_loss_total_2 = test_loss_total_2 + mlp_on_gpu.loss(preds, outputs)\n",
        "  accuracy_test_2 = tf.keras.metrics.Accuracy()\n",
        "  accuracy_test_2.update_state(preds, outputs)\n",
        "  accuracy_test_2.result().numpy()\n",
        "  test_ds_outputs_2.append(outputs)\n",
        "  test_ds_trues_2.append(y_test)\n",
        "print('Test CE Loss = {:.5f}, Test Accuracy = {:.5f}'.format(np.sum(test_loss_total) / X_train.shape[0], accuracy_test.result().numpy()))"
      ],
      "metadata": {
        "id": "wSs45Mpq7akZ"
      },
      "execution_count": null,
      "outputs": []
    },
    {
      "cell_type": "markdown",
      "source": [
        "L2 2"
      ],
      "metadata": {
        "id": "QYVjxeleFiOD"
      }
    },
    {
      "cell_type": "code",
      "source": [
        "# save results into here to plot\n",
        "l2train_loss_results_2 = []\n",
        "l2train_accuracy_results_2 = []\n",
        "l2val_loss_results_2 = []\n",
        "l2val_accuracy_results_2 = []\n",
        "l2train_mse_results_2 = []\n",
        "l2val_mse_results_2 = []\n",
        "\n",
        "# Initialize model using GPU\n",
        "mlpl2_on_gpu = MLPl2(size_input, size_first_hidden, size_second_hidden, size_output, device='gpu')\n",
        "\n",
        "time_start = time.time()\n",
        "for epoch in range(NUM_EPOCHS):\n",
        "  loss_total_gpu = tf.zeros([1,1], dtype=tf.float32)\n",
        "  lt = 0\n",
        "  train_ds = tf.data.Dataset.from_tensor_slices((X_train, y_train)).shuffle(25, seed=epoch*(975008430)).batch(80)\n",
        "  for inputs, outputs in train_ds:\n",
        "    preds = mlpl2_on_gpu.forward(inputs)\n",
        "    loss_total_gpu = loss_total_gpu + mlpl2_on_gpu.loss(preds, outputs)\n",
        "    lt = lt + mlpl2_on_gpu.loss(preds, outputs)\n",
        "    mlpl2_on_gpu.backward(inputs, outputs)\n",
        "    accuracy_train = tf.keras.metrics.Accuracy()\n",
        "    accuracy_train.update_state(preds, outputs)\n",
        "    accuracy_train.result().numpy()\n",
        "    mse_train = tf.keras.metrics.mean_squared_error(preds, outputs)\n",
        "  val_loss_total = tf.Variable(0, dtype=tf.float32)\n",
        "  val_ds = tf.data.Dataset.from_tensor_slices((X_validation, y_validation)).shuffle(25, seed=epoch*(975008430)).batch(80)\n",
        "  for input, outputs in val_ds:\n",
        "    preds_val = mlpl2_on_gpu.forward(inputs)\n",
        "    val_loss_total = val_loss_total + mlpl2_on_gpu.loss(preds_val, outputs)\n",
        "    accuracy_val = tf.keras.metrics.Accuracy()\n",
        "    accuracy_val.update_state(preds_val, outputs)\n",
        "    accuracy_val.result().numpy()\n",
        "    mse_val = tf.keras.metrics.mean_squared_error(preds_val, outputs)\n",
        "   # End epoch\n",
        "  l2train_loss_results_2.append(np.sum(loss_total_gpu)/ X_train.shape[0])\n",
        "  l2train_accuracy_results_2.append(accuracy_train.result())\n",
        "  l2val_loss_results_2.append(np.sum(val_loss_total)/ X_train.shape[0])\n",
        "  l2val_accuracy_results_2.append(accuracy_val.result())\n",
        "  l2train_mse_results_2.append(np.sum(mse_train))\n",
        "  l2val_mse_results_2.append(np.sum(mse_val))\n",
        "  print('Number of Epoch = {} - Average Training Loss (CE) = {:.5f}, Training Accuracy {:5f}'.format(epoch + 1, np.sum(loss_total_gpu)/ X_train.shape[0], accuracy_train.result().numpy()))\n",
        "  print('Average Validation Loss (CE) = {:.5f}, Validation Accuracy = {:.5f}'.format(np.sum(val_loss_total)/ X_train.shape[0], accuracy_val.result().numpy()))\n",
        "time_taken = time.time() - time_start\n",
        "\n",
        "print('\\nTotal time taken (in seconds): {:.2f}'.format(time_taken))\n",
        "\n",
        "l2test_loss_total_2 = tf.Variable(0, dtype=tf.float32)\n",
        "l2test_ds_outputs_2 = []\n",
        "l2test_ds_trues_2 = []\n",
        "#test_loss_total = 0.0\n",
        "for inputs, outputs in test_ds:\n",
        "  preds = mlpl2_on_gpu.forward(inputs)\n",
        "  #b = mlp_on_default.loss(preds, outputs)\n",
        "  l2test_loss_total_2 = l2test_loss_total_2 + mlpl2_on_gpu.loss(preds, outputs)\n",
        "  l2accuracy_test_2 = tf.keras.metrics.Accuracy()\n",
        "  l2accuracy_test_2.update_state(preds, outputs)\n",
        "  l2accuracy_test_2.result().numpy()\n",
        "  l2test_ds_outputs_2.append(outputs)\n",
        "  l2test_ds_trues_2.append(y_test)\n",
        "print('Test CE Loss = {:.5f}, Test Accuracy = {:.5f}'.format(np.sum(l2test_loss_total) / X_train.shape[0], l2accuracy_test.result().numpy()))"
      ],
      "metadata": {
        "id": "qpjGeWu1FAl6"
      },
      "execution_count": null,
      "outputs": []
    },
    {
      "cell_type": "markdown",
      "source": [
        "L1 2"
      ],
      "metadata": {
        "id": "jnmgXyqtNg0J"
      }
    },
    {
      "cell_type": "code",
      "source": [
        "# save results into here\n",
        "l1train_loss_results_2 = []\n",
        "l1train_accuracy_results_2 = []\n",
        "l1val_loss_results_2 = []\n",
        "l1val_accuracy_results_2 = []\n",
        "l1train_mse_results_2 = []\n",
        "l1val_mse_results_2 = []\n",
        "\n",
        "# Initialize model using GPU\n",
        "mlpl1_on_gpu = MLPl1(size_input, size_first_hidden, size_second_hidden, size_output, device='gpu')\n",
        "\n",
        "time_start = time.time()\n",
        "for epoch in range(NUM_EPOCHS):\n",
        "  loss_total_gpu = tf.zeros([1,1], dtype=tf.float32)\n",
        "  lt = 0\n",
        "  train_ds = tf.data.Dataset.from_tensor_slices((X_train, y_train)).shuffle(25, seed=epoch*(975008430)).batch(80)\n",
        "  for inputs, outputs in train_ds:\n",
        "    preds = mlpl1_on_gpu.forward(inputs)\n",
        "    loss_total_gpu = loss_total_gpu + mlpl1_on_gpu.loss(preds, outputs)\n",
        "    lt = lt + mlpl1_on_gpu.loss(preds, outputs)\n",
        "    mlpl1_on_gpu.backward(inputs, outputs)\n",
        "    accuracy_train = tf.keras.metrics.Accuracy()\n",
        "    accuracy_train.update_state(preds, outputs)\n",
        "    accuracy_train.result().numpy()\n",
        "    mse_train = tf.keras.metrics.mean_squared_error(preds, outputs)\n",
        "  val_loss_total = tf.Variable(0, dtype=tf.float32)\n",
        "  val_ds = tf.data.Dataset.from_tensor_slices((X_validation, y_validation)).shuffle(25, seed=epoch*(975008430)).batch(80)\n",
        "  for input, outputs in val_ds:\n",
        "    preds_val = mlpl1_on_gpu.forward(inputs)\n",
        "    val_loss_total = val_loss_total + mlpl1_on_gpu.loss(preds_val, outputs)\n",
        "    accuracy_val = tf.keras.metrics.Accuracy()\n",
        "    accuracy_val.update_state(preds_val, outputs)\n",
        "    accuracy_val.result().numpy()\n",
        "    mse_val = tf.keras.metrics.mean_squared_error(preds_val, outputs)\n",
        "   # End epoch\n",
        "  l1train_loss_results_2.append(np.sum(loss_total_gpu) / X_train.shape[0])\n",
        "  l1train_accuracy_results_2.append(accuracy_train.result())\n",
        "  l1val_loss_results_2.append(np.sum(val_loss_total)/ X_train.shape[0])\n",
        "  l1val_accuracy_results_2.append(accuracy_val.result())\n",
        "  l1train_mse_results_2.append(np.sum(mse_train)/ X_train.shape[0])\n",
        "  l1val_mse_results_2.append(np.sum(mse_val)/ X_train.shape[0])\n",
        "  print('Number of Epoch = {} - Average Training Loss (CE) = {:.5f}, Training Accuracy {:5f}'.format(epoch + 1, np.sum(loss_total_gpu) / X_train.shape[0], accuracy_train.result().numpy()))\n",
        "  print('Average Validation Loss (CE) = {:.5f}, Validation Accuracy = {:.5f}'.format(np.sum(val_loss_total)/ X_train.shape[0], accuracy_val.result().numpy()))\n",
        "time_taken = time.time() - time_start\n",
        "\n",
        "print('\\nTotal time taken (in seconds): {:.2f}'.format(time_taken))\n",
        "\n",
        "l1test_loss_total_2 = tf.Variable(0, dtype=tf.float32)\n",
        "l1test_ds_outputs_2 = []\n",
        "l1test_ds_trues_2 = []\n",
        "#test_loss_total = 0.0\n",
        "for inputs, outputs in test_ds:\n",
        "  preds = mlpl1_on_gpu.forward(inputs)\n",
        "  #b = mlp_on_default.loss(preds, outputs)\n",
        "  l1test_loss_total_2 = l1test_loss_total_2 + mlpl1_on_gpu.loss(preds, outputs)\n",
        "  l1accuracy_test_2 = tf.keras.metrics.Accuracy()\n",
        "  l1accuracy_test_2.update_state(preds, outputs)\n",
        "  l1accuracy_test_2.result().numpy()\n",
        "  l1test_ds_outputs_2.append(outputs)\n",
        "  l1test_ds_trues_2.append(y_test)\n",
        "print('Test CE Loss = {:.5f}, Test Accuracy = {:.5f}'.format(np.sum(l1test_loss_total) / X_train.shape[0], l1accuracy_test.result().numpy()))"
      ],
      "metadata": {
        "id": "XqLNNVjSNh7v"
      },
      "execution_count": null,
      "outputs": []
    },
    {
      "cell_type": "code",
      "source": [
        "np.random.seed(975008432)\n",
        "tf.random.set_seed(975008432)"
      ],
      "metadata": {
        "id": "GueGLVp-5pN6"
      },
      "execution_count": null,
      "outputs": []
    },
    {
      "cell_type": "markdown",
      "source": [
        "No regularization 3"
      ],
      "metadata": {
        "id": "2_CW4teaAinF"
      }
    },
    {
      "cell_type": "code",
      "source": [
        "# save results into here\n",
        "train_loss_results_3 = []\n",
        "train_accuracy_results_3 = []\n",
        "val_loss_results_3 = []\n",
        "val_accuracy_results_3 = []\n",
        "train_mse_results_3 = []\n",
        "val_mse_results_3 = []\n",
        "\n",
        "# Initialize model using GPU\n",
        "mlp_on_gpu = MLP(size_input, size_first_hidden, size_second_hidden, size_output, device='gpu')\n",
        "\n",
        "time_start = time.time()\n",
        "for epoch in range(NUM_EPOCHS):\n",
        "  loss_total_gpu = tf.zeros([1,1], dtype=tf.float32)\n",
        "  lt = 0\n",
        "  train_ds = tf.data.Dataset.from_tensor_slices((X_train, y_train)).shuffle(25, seed=epoch*(975008430)).batch(80)\n",
        "  for inputs, outputs in train_ds:\n",
        "    preds = mlp_on_gpu.forward(inputs)\n",
        "    loss_total_gpu = loss_total_gpu + mlp_on_gpu.loss(preds, outputs)\n",
        "    lt = lt + mlp_on_gpu.loss(preds, outputs)\n",
        "    mlp_on_gpu.backward(inputs, outputs)\n",
        "    accuracy_train = tf.keras.metrics.Accuracy()\n",
        "    accuracy_train.update_state(preds, outputs)\n",
        "    accuracy_train.result().numpy()\n",
        "    mse_train = tf.keras.metrics.mean_squared_error(preds, outputs)\n",
        "  val_loss_total = tf.Variable(0, dtype=tf.float32)\n",
        "  val_ds = tf.data.Dataset.from_tensor_slices((X_validation, y_validation)).shuffle(25, seed=epoch*(975008430)).batch(80)\n",
        "  for input, outputs in val_ds:\n",
        "    preds_val = mlp_on_gpu.forward(inputs)\n",
        "    val_loss_total = val_loss_total + mlp_on_gpu.loss(preds_val, outputs)\n",
        "    accuracy_val = tf.keras.metrics.Accuracy()\n",
        "    accuracy_val.update_state(preds_val, outputs)\n",
        "    accuracy_val.result().numpy()\n",
        "    mse_val = tf.keras.metrics.mean_squared_error(preds_val, outputs)\n",
        "   # End epoch\n",
        "  train_loss_results_3.append(np.sum(loss_total_gpu) / X_train.shape[0])\n",
        "  train_accuracy_results_3.append(accuracy_train.result())\n",
        "  val_loss_results_3.append(np.sum(val_loss_total)/ X_train.shape[0])\n",
        "  val_accuracy_results_3.append(accuracy_val.result())\n",
        "  train_mse_results_3.append(np.sum(mse_train))\n",
        "  val_mse_results_3.append(np.sum(mse_val))\n",
        "  print('Number of Epoch = {} - Average Training Loss (CE) = {:.5f}, Training Accuracy {:5f}'.format(epoch + 1, np.sum(loss_total_gpu) / X_train.shape[0], accuracy_train.result().numpy()))\n",
        "  print('Average Validation Loss (CE) = {:.5f}, Validation Accuracy = {:.5f}'.format(np.sum(val_loss_total)/ X_train.shape[0], accuracy_val.result().numpy()))\n",
        "time_taken = time.time() - time_start\n",
        "\n",
        "print('\\nTotal time taken (in seconds): {:.2f}'.format(time_taken))\n",
        "test_loss_total_3 = tf.Variable(0, dtype=tf.float32)\n",
        "test_ds_outputs_3 = []\n",
        "test_ds_trues_3 = []\n",
        "#test_loss_total = 0.0\n",
        "for inputs, outputs in test_ds:\n",
        "  preds = mlp_on_gpu.forward(inputs)\n",
        "  #b = mlp_on_default.loss(preds, outputs)\n",
        "  test_loss_total_3 = test_loss_total_3 + mlp_on_gpu.loss(preds, outputs)\n",
        "  accuracy_test_3 = tf.keras.metrics.Accuracy()\n",
        "  accuracy_test_3.update_state(preds, outputs)\n",
        "  accuracy_test_3.result().numpy()\n",
        "  test_ds_outputs_3.append(outputs)\n",
        "  test_ds_trues_3.append(y_test)\n",
        "print('Test CE Loss = {:.5f}, Test Accuracy = {:.5f}'.format(np.sum(test_loss_total) / X_train.shape[0], accuracy_test.result().numpy()))"
      ],
      "metadata": {
        "id": "lkoyJ3ELAiOw"
      },
      "execution_count": null,
      "outputs": []
    },
    {
      "cell_type": "markdown",
      "source": [
        "L2 3"
      ],
      "metadata": {
        "id": "yZ18PEiAFkf0"
      }
    },
    {
      "cell_type": "code",
      "source": [
        "# save results into here to plot\n",
        "l2train_loss_results_3 = []\n",
        "l2train_accuracy_results_3 = []\n",
        "l2val_loss_results_3 = []\n",
        "l2val_accuracy_results_3 = []\n",
        "l2train_mse_results_3 = []\n",
        "l2val_mse_results_3 = []\n",
        "\n",
        "# Initialize model using GPU\n",
        "mlpl2_on_gpu = MLPl2(size_input, size_first_hidden, size_second_hidden, size_output, device='gpu')\n",
        "\n",
        "time_start = time.time()\n",
        "for epoch in range(NUM_EPOCHS):\n",
        "  loss_total_gpu = tf.zeros([1,1], dtype=tf.float32)\n",
        "  lt = 0\n",
        "  train_ds = tf.data.Dataset.from_tensor_slices((X_train, y_train)).shuffle(25, seed=epoch*(975008430)).batch(80)\n",
        "  for inputs, outputs in train_ds:\n",
        "    preds = mlpl2_on_gpu.forward(inputs)\n",
        "    loss_total_gpu = loss_total_gpu + mlpl2_on_gpu.loss(preds, outputs)\n",
        "    lt = lt + mlpl2_on_gpu.loss(preds, outputs)\n",
        "    mlpl2_on_gpu.backward(inputs, outputs)\n",
        "    accuracy_train = tf.keras.metrics.Accuracy()\n",
        "    accuracy_train.update_state(preds, outputs)\n",
        "    accuracy_train.result().numpy()\n",
        "    mse_train = tf.keras.metrics.mean_squared_error(preds, outputs)\n",
        "  val_loss_total = tf.Variable(0, dtype=tf.float32)\n",
        "  val_ds = tf.data.Dataset.from_tensor_slices((X_validation, y_validation)).shuffle(25, seed=epoch*(975008430)).batch(80)\n",
        "  for input, outputs in val_ds:\n",
        "    preds_val = mlpl2_on_gpu.forward(inputs)\n",
        "    val_loss_total = val_loss_total + mlpl2_on_gpu.loss(preds_val, outputs)\n",
        "    accuracy_val = tf.keras.metrics.Accuracy()\n",
        "    accuracy_val.update_state(preds_val, outputs)\n",
        "    accuracy_val.result().numpy()\n",
        "    mse_val = tf.keras.metrics.mean_squared_error(preds_val, outputs)\n",
        "   # End epoch\n",
        "  l2train_loss_results_3.append(np.sum(loss_total_gpu)/ X_train.shape[0])\n",
        "  l2train_accuracy_results_3.append(accuracy_train.result())\n",
        "  l2val_loss_results_3.append(np.sum(val_loss_total)/ X_train.shape[0])\n",
        "  l2val_accuracy_results_3.append(accuracy_val.result())\n",
        "  l2train_mse_results_3.append(np.sum(mse_train))\n",
        "  l2val_mse_results_3.append(np.sum(mse_val))\n",
        "  print('Number of Epoch = {} - Average Training Loss (CE) = {:.5f}, Training Accuracy {:5f}'.format(epoch + 1, np.sum(loss_total_gpu)/ X_train.shape[0], accuracy_train.result().numpy()))\n",
        "  print('Average Validation Loss (CE) = {:.5f}, Validation Accuracy = {:.5f}'.format(np.sum(val_loss_total)/ X_train.shape[0], accuracy_val.result().numpy()))\n",
        "time_taken = time.time() - time_start\n",
        "\n",
        "print('\\nTotal time taken (in seconds): {:.2f}'.format(time_taken))\n",
        "\n",
        "l2test_loss_total_3 = tf.Variable(0, dtype=tf.float32)\n",
        "l2test_ds_outputs_3 = []\n",
        "l2test_ds_trues_3 = []\n",
        "#test_loss_total = 0.0\n",
        "for inputs, outputs in test_ds:\n",
        "  preds = mlpl2_on_gpu.forward(inputs)\n",
        "  #b = mlp_on_default.loss(preds, outputs)\n",
        "  l2test_loss_total_3 = l2test_loss_total_3 + mlpl2_on_gpu.loss(preds, outputs)\n",
        "  l2accuracy_test_3 = tf.keras.metrics.Accuracy()\n",
        "  l2accuracy_test_3.update_state(preds, outputs)\n",
        "  l2accuracy_test_3.result().numpy()\n",
        "  l2test_ds_outputs_3.append(outputs)\n",
        "  l2test_ds_trues_3.append(y_test)\n",
        "print('Test CE Loss = {:.5f}, Test Accuracy = {:.5f}'.format(np.sum(l2test_loss_total) / X_train.shape[0], l2accuracy_test.result().numpy()))"
      ],
      "metadata": {
        "id": "En5GbqkdFlic"
      },
      "execution_count": null,
      "outputs": []
    },
    {
      "cell_type": "markdown",
      "source": [
        "L1 3"
      ],
      "metadata": {
        "id": "tOx8ZfP3Aw9y"
      }
    },
    {
      "cell_type": "code",
      "source": [
        "# save results into here\n",
        "l1train_loss_results_3 = []\n",
        "l1train_accuracy_results_3 = []\n",
        "l1val_loss_results_3 = []\n",
        "l1val_accuracy_results_3 = []\n",
        "l1train_mse_results_3 = []\n",
        "l1val_mse_results_3 = []\n",
        "\n",
        "# Initialize model using GPU\n",
        "mlpl1_on_gpu = MLPl1(size_input, size_first_hidden, size_second_hidden, size_output, device='gpu')\n",
        "\n",
        "time_start = time.time()\n",
        "for epoch in range(NUM_EPOCHS):\n",
        "  loss_total_gpu = tf.zeros([1,1], dtype=tf.float32)\n",
        "  lt = 0\n",
        "  train_ds = tf.data.Dataset.from_tensor_slices((X_train, y_train)).shuffle(25, seed=epoch*(975008430)).batch(80)\n",
        "  for inputs, outputs in train_ds:\n",
        "    preds = mlpl1_on_gpu.forward(inputs)\n",
        "    loss_total_gpu = loss_total_gpu + mlpl1_on_gpu.loss(preds, outputs)\n",
        "    lt = lt + mlpl1_on_gpu.loss(preds, outputs)\n",
        "    mlpl1_on_gpu.backward(inputs, outputs)\n",
        "    accuracy_train = tf.keras.metrics.Accuracy()\n",
        "    accuracy_train.update_state(preds, outputs)\n",
        "    accuracy_train.result().numpy()\n",
        "    mse_train = tf.keras.metrics.mean_squared_error(preds, outputs)\n",
        "  val_loss_total = tf.Variable(0, dtype=tf.float32)\n",
        "  val_ds = tf.data.Dataset.from_tensor_slices((X_validation, y_validation)).shuffle(25, seed=epoch*(975008430)).batch(80)\n",
        "  for input, outputs in val_ds:\n",
        "    preds_val = mlpl1_on_gpu.forward(inputs)\n",
        "    val_loss_total = val_loss_total + mlpl1_on_gpu.loss(preds_val, outputs)\n",
        "    accuracy_val = tf.keras.metrics.Accuracy()\n",
        "    accuracy_val.update_state(preds_val, outputs)\n",
        "    accuracy_val.result().numpy()\n",
        "    mse_val = tf.keras.metrics.mean_squared_error(preds_val, outputs)\n",
        "   # End epoch\n",
        "  l1train_loss_results_3.append(np.sum(loss_total_gpu) / X_train.shape[0])\n",
        "  l1train_accuracy_results_3.append(accuracy_train.result())\n",
        "  l1val_loss_results_3.append(np.sum(val_loss_total)/ X_train.shape[0])\n",
        "  l1val_accuracy_results_3.append(accuracy_val.result())\n",
        "  l1train_mse_results_3.append(np.sum(mse_train)/ X_train.shape[0])\n",
        "  l1val_mse_results_3.append(np.sum(mse_val)/ X_train.shape[0])\n",
        "  print('Number of Epoch = {} - Average Training Loss (CE) = {:.5f}, Training Accuracy {:5f}'.format(epoch + 1, np.sum(loss_total_gpu) / X_train.shape[0], accuracy_train.result().numpy()))\n",
        "  print('Average Validation Loss (CE) = {:.5f}, Validation Accuracy = {:.5f}'.format(np.sum(val_loss_total)/ X_train.shape[0], accuracy_val.result().numpy()))\n",
        "time_taken = time.time() - time_start\n",
        "\n",
        "print('\\nTotal time taken (in seconds): {:.2f}'.format(time_taken))\n",
        "\n",
        "l1test_loss_total_3 = tf.Variable(0, dtype=tf.float32)\n",
        "l1test_ds_outputs_3 = []\n",
        "l1test_ds_trues_3 = []\n",
        "#test_loss_total = 0.0\n",
        "for inputs, outputs in test_ds:\n",
        "  preds = mlpl1_on_gpu.forward(inputs)\n",
        "  #b = mlp_on_default.loss(preds, outputs)\n",
        "  l1test_loss_total_3 = l1test_loss_total_3 + mlpl1_on_gpu.loss(preds, outputs)\n",
        "  l1accuracy_test_3 = tf.keras.metrics.Accuracy()\n",
        "  l1accuracy_test_3.update_state(preds, outputs)\n",
        "  l1accuracy_test_3.result().numpy()\n",
        "  l1test_ds_outputs_3.append(outputs)\n",
        "  l1test_ds_trues_3.append(y_test)\n",
        "print('Test CE Loss = {:.5f}, Test Accuracy = {:.5f}'.format(np.sum(l1test_loss_total) / X_train.shape[0], l1accuracy_test.result().numpy()))"
      ],
      "metadata": {
        "id": "vX8VhhlJODyT"
      },
      "execution_count": null,
      "outputs": []
    },
    {
      "cell_type": "code",
      "source": [
        "np.random.seed(975008433)\n",
        "tf.random.set_seed(975008433)"
      ],
      "metadata": {
        "id": "c-vWVmPD5q2i"
      },
      "execution_count": null,
      "outputs": []
    },
    {
      "cell_type": "markdown",
      "source": [
        "No regularization 4"
      ],
      "metadata": {
        "id": "162DwG4rA08c"
      }
    },
    {
      "cell_type": "code",
      "source": [
        "# save results into here\n",
        "train_loss_results_4 = []\n",
        "train_accuracy_results_4 = []\n",
        "val_loss_results_4 = []\n",
        "val_accuracy_results_4 = []\n",
        "train_mse_results_4 = []\n",
        "val_mse_results_4 = []\n",
        "\n",
        "# Initialize model using GPU\n",
        "mlp_on_gpu = MLP(size_input, size_first_hidden, size_second_hidden, size_output, device='gpu')\n",
        "\n",
        "time_start = time.time()\n",
        "for epoch in range(NUM_EPOCHS):\n",
        "  loss_total_gpu = tf.zeros([1,1], dtype=tf.float32)\n",
        "  lt = 0\n",
        "  train_ds = tf.data.Dataset.from_tensor_slices((X_train, y_train)).shuffle(25, seed=epoch*(975008430)).batch(80)\n",
        "  for inputs, outputs in train_ds:\n",
        "    preds = mlp_on_gpu.forward(inputs)\n",
        "    loss_total_gpu = loss_total_gpu + mlp_on_gpu.loss(preds, outputs)\n",
        "    lt = lt + mlp_on_gpu.loss(preds, outputs)\n",
        "    mlp_on_gpu.backward(inputs, outputs)\n",
        "    accuracy_train = tf.keras.metrics.Accuracy()\n",
        "    accuracy_train.update_state(preds, outputs)\n",
        "    accuracy_train.result().numpy()\n",
        "    mse_train = tf.keras.metrics.mean_squared_error(preds, outputs)\n",
        "  val_loss_total = tf.Variable(0, dtype=tf.float32)\n",
        "  val_ds = tf.data.Dataset.from_tensor_slices((X_validation, y_validation)).shuffle(25, seed=epoch*(975008430)).batch(80)\n",
        "  for input, outputs in val_ds:\n",
        "    preds_val = mlp_on_gpu.forward(inputs)\n",
        "    val_loss_total = val_loss_total + mlp_on_gpu.loss(preds_val, outputs)\n",
        "    accuracy_val = tf.keras.metrics.Accuracy()\n",
        "    accuracy_val.update_state(preds_val, outputs)\n",
        "    accuracy_val.result().numpy()\n",
        "    mse_val = tf.keras.metrics.mean_squared_error(preds_val, outputs)\n",
        "   # End epoch\n",
        "  train_loss_results_4.append(np.sum(loss_total_gpu) / X_train.shape[0])\n",
        "  train_accuracy_results_4.append(accuracy_train.result())\n",
        "  val_loss_results_4.append(np.sum(val_loss_total)/ X_train.shape[0])\n",
        "  val_accuracy_results_4.append(accuracy_val.result())\n",
        "  train_mse_results_4.append(np.sum(mse_train))\n",
        "  val_mse_results_4.append(np.sum(mse_val))\n",
        "  print('Number of Epoch = {} - Average Training Loss (CE) = {:.5f}, Training Accuracy {:5f}'.format(epoch + 1, np.sum(loss_total_gpu) / X_train.shape[0], accuracy_train.result().numpy()))\n",
        "  print('Average Validation Loss (CE) = {:.5f}, Validation Accuracy = {:.5f}'.format(np.sum(val_loss_total)/ X_train.shape[0], accuracy_val.result().numpy()))\n",
        "time_taken = time.time() - time_start\n",
        "\n",
        "print('\\nTotal time taken (in seconds): {:.2f}'.format(time_taken))\n",
        "test_loss_total_4 = tf.Variable(0, dtype=tf.float32)\n",
        "test_ds_outputs_4 = []\n",
        "test_ds_trues_4 = []\n",
        "#test_loss_total = 0.0\n",
        "for inputs, outputs in test_ds:\n",
        "  preds = mlp_on_gpu.forward(inputs)\n",
        "  #b = mlp_on_default.loss(preds, outputs)\n",
        "  test_loss_total_4 = test_loss_total_4 + mlp_on_gpu.loss(preds, outputs)\n",
        "  accuracy_test_4 = tf.keras.metrics.Accuracy()\n",
        "  accuracy_test_4.update_state(preds, outputs)\n",
        "  accuracy_test_4.result().numpy()\n",
        "  test_ds_outputs_4.append(outputs)\n",
        "  test_ds_trues_4.append(y_test)\n",
        "print('Test CE Loss = {:.5f}, Test Accuracy = {:.5f}'.format(np.sum(test_loss_total) / X_train.shape[0], accuracy_test.result().numpy()))"
      ],
      "metadata": {
        "id": "LeSAFBS7A0D9"
      },
      "execution_count": null,
      "outputs": []
    },
    {
      "cell_type": "markdown",
      "source": [
        "L2 4"
      ],
      "metadata": {
        "id": "DjfCKaUSGY_w"
      }
    },
    {
      "cell_type": "code",
      "source": [
        "# save results into here to plot\n",
        "l2train_loss_results_4 = []\n",
        "l2train_accuracy_results_4 = []\n",
        "l2val_loss_results_4 = []\n",
        "l2val_accuracy_results_4 = []\n",
        "l2train_mse_results_4 = []\n",
        "l2val_mse_results_4 = []\n",
        "\n",
        "# Initialize model using GPU\n",
        "mlpl2_on_gpu = MLPl2(size_input, size_first_hidden, size_second_hidden, size_output, device='gpu')\n",
        "\n",
        "time_start = time.time()\n",
        "for epoch in range(NUM_EPOCHS):\n",
        "  loss_total_gpu = tf.zeros([1,1], dtype=tf.float32)\n",
        "  lt = 0\n",
        "  train_ds = tf.data.Dataset.from_tensor_slices((X_train, y_train)).shuffle(25, seed=epoch*(975008430)).batch(80)\n",
        "  for inputs, outputs in train_ds:\n",
        "    preds = mlpl2_on_gpu.forward(inputs)\n",
        "    loss_total_gpu = loss_total_gpu + mlpl2_on_gpu.loss(preds, outputs)\n",
        "    lt = lt + mlpl2_on_gpu.loss(preds, outputs)\n",
        "    mlpl2_on_gpu.backward(inputs, outputs)\n",
        "    accuracy_train = tf.keras.metrics.Accuracy()\n",
        "    accuracy_train.update_state(preds, outputs)\n",
        "    accuracy_train.result().numpy()\n",
        "    mse_train = tf.keras.metrics.mean_squared_error(preds, outputs)\n",
        "  val_loss_total = tf.Variable(0, dtype=tf.float32)\n",
        "  val_ds = tf.data.Dataset.from_tensor_slices((X_validation, y_validation)).shuffle(25, seed=epoch*(975008430)).batch(80)\n",
        "  for input, outputs in val_ds:\n",
        "    preds_val = mlpl2_on_gpu.forward(inputs)\n",
        "    val_loss_total = val_loss_total + mlpl2_on_gpu.loss(preds_val, outputs)\n",
        "    accuracy_val = tf.keras.metrics.Accuracy()\n",
        "    accuracy_val.update_state(preds_val, outputs)\n",
        "    accuracy_val.result().numpy()\n",
        "    mse_val = tf.keras.metrics.mean_squared_error(preds_val, outputs)\n",
        "   # End epoch\n",
        "  l2train_loss_results_4.append(np.sum(loss_total_gpu)/ X_train.shape[0])\n",
        "  l2train_accuracy_results_4.append(accuracy_train.result())\n",
        "  l2val_loss_results_4.append(np.sum(val_loss_total)/ X_train.shape[0])\n",
        "  l2val_accuracy_results_4.append(accuracy_val.result())\n",
        "  l2train_mse_results_4.append(np.sum(mse_train))\n",
        "  l2val_mse_results_4.append(np.sum(mse_val))\n",
        "  print('Number of Epoch = {} - Average Training Loss (CE) = {:.5f}, Training Accuracy {:5f}'.format(epoch + 1, np.sum(loss_total_gpu)/ X_train.shape[0], accuracy_train.result().numpy()))\n",
        "  print('Average Validation Loss (CE) = {:.5f}, Validation Accuracy = {:.5f}'.format(np.sum(val_loss_total)/ X_train.shape[0], accuracy_val.result().numpy()))\n",
        "time_taken = time.time() - time_start\n",
        "\n",
        "print('\\nTotal time taken (in seconds): {:.2f}'.format(time_taken))\n",
        "\n",
        "l2test_loss_total_4 = tf.Variable(0, dtype=tf.float32)\n",
        "l2test_ds_outputs_4 = []\n",
        "l2test_ds_trues_4 = []\n",
        "#test_loss_total = 0.0\n",
        "for inputs, outputs in test_ds:\n",
        "  preds = mlpl2_on_gpu.forward(inputs)\n",
        "  #b = mlp_on_default.loss(preds, outputs)\n",
        "  l2test_loss_total_4 = l2test_loss_total_4 + mlpl2_on_gpu.loss(preds, outputs)\n",
        "  l2accuracy_test_4 = tf.keras.metrics.Accuracy()\n",
        "  l2accuracy_test_4.update_state(preds, outputs)\n",
        "  l2accuracy_test_4.result().numpy()\n",
        "  l2test_ds_outputs_4.append(outputs)\n",
        "  l2test_ds_trues_4.append(y_test)\n",
        "print('Test CE Loss = {:.5f}, Test Accuracy = {:.5f}'.format(np.sum(l2test_loss_total) / X_train.shape[0], l2accuracy_test.result().numpy()))"
      ],
      "metadata": {
        "id": "SjAAEsgXGXhF"
      },
      "execution_count": null,
      "outputs": []
    },
    {
      "cell_type": "markdown",
      "source": [
        "L1 4"
      ],
      "metadata": {
        "id": "4W1Va1S-OYpO"
      }
    },
    {
      "cell_type": "code",
      "source": [
        "# save results into here\n",
        "l1train_loss_results_4 = []\n",
        "l1train_accuracy_results_4 = []\n",
        "l1val_loss_results_4 = []\n",
        "l1val_accuracy_results_4 = []\n",
        "l1train_mse_results_4 = []\n",
        "l1val_mse_results_4 = []\n",
        "\n",
        "# Initialize model using GPU\n",
        "mlpl1_on_gpu = MLPl1(size_input, size_first_hidden, size_second_hidden, size_output, device='gpu')\n",
        "\n",
        "time_start = time.time()\n",
        "for epoch in range(NUM_EPOCHS):\n",
        "  loss_total_gpu = tf.zeros([1,1], dtype=tf.float32)\n",
        "  lt = 0\n",
        "  train_ds = tf.data.Dataset.from_tensor_slices((X_train, y_train)).shuffle(25, seed=epoch*(975008430)).batch(80)\n",
        "  for inputs, outputs in train_ds:\n",
        "    preds = mlpl1_on_gpu.forward(inputs)\n",
        "    loss_total_gpu = loss_total_gpu + mlpl1_on_gpu.loss(preds, outputs)\n",
        "    lt = lt + mlpl1_on_gpu.loss(preds, outputs)\n",
        "    mlpl1_on_gpu.backward(inputs, outputs)\n",
        "    accuracy_train = tf.keras.metrics.Accuracy()\n",
        "    accuracy_train.update_state(preds, outputs)\n",
        "    accuracy_train.result().numpy()\n",
        "    mse_train = tf.keras.metrics.mean_squared_error(preds, outputs)\n",
        "  val_loss_total = tf.Variable(0, dtype=tf.float32)\n",
        "  val_ds = tf.data.Dataset.from_tensor_slices((X_validation, y_validation)).shuffle(25, seed=epoch*(975008430)).batch(80)\n",
        "  for input, outputs in val_ds:\n",
        "    preds_val = mlpl1_on_gpu.forward(inputs)\n",
        "    val_loss_total = val_loss_total + mlpl1_on_gpu.loss(preds_val, outputs)\n",
        "    accuracy_val = tf.keras.metrics.Accuracy()\n",
        "    accuracy_val.update_state(preds_val, outputs)\n",
        "    accuracy_val.result().numpy()\n",
        "    mse_val = tf.keras.metrics.mean_squared_error(preds_val, outputs)\n",
        "   # End epoch\n",
        "  l1train_loss_results_4.append(np.sum(loss_total_gpu) / X_train.shape[0])\n",
        "  l1train_accuracy_results_4.append(accuracy_train.result())\n",
        "  l1val_loss_results_4.append(np.sum(val_loss_total)/ X_train.shape[0])\n",
        "  l1val_accuracy_results_4.append(accuracy_val.result())\n",
        "  l1train_mse_results_4.append(np.sum(mse_train)/ X_train.shape[0])\n",
        "  l1val_mse_results_4.append(np.sum(mse_val)/ X_train.shape[0])\n",
        "  print('Number of Epoch = {} - Average Training Loss (CE) = {:.5f}, Training Accuracy {:5f}'.format(epoch + 1, np.sum(loss_total_gpu) / X_train.shape[0], accuracy_train.result().numpy()))\n",
        "  print('Average Validation Loss (CE) = {:.5f}, Validation Accuracy = {:.5f}'.format(np.sum(val_loss_total)/ X_train.shape[0], accuracy_val.result().numpy()))\n",
        "time_taken = time.time() - time_start\n",
        "\n",
        "print('\\nTotal time taken (in seconds): {:.2f}'.format(time_taken))\n",
        "\n",
        "l1test_loss_total_4 = tf.Variable(0, dtype=tf.float32)\n",
        "l1test_ds_outputs_4 = []\n",
        "l1test_ds_trues_4 = []\n",
        "#test_loss_total = 0.0\n",
        "for inputs, outputs in test_ds:\n",
        "  preds = mlpl1_on_gpu.forward(inputs)\n",
        "  #b = mlp_on_default.loss(preds, outputs)\n",
        "  l1test_loss_total_4 = l1test_loss_total_4 + mlpl1_on_gpu.loss(preds, outputs)\n",
        "  l1accuracy_test_4 = tf.keras.metrics.Accuracy()\n",
        "  l1accuracy_test_4.update_state(preds, outputs)\n",
        "  l1accuracy_test_4.result().numpy()\n",
        "  l1test_ds_outputs_4.append(outputs)\n",
        "  l1test_ds_trues_4.append(y_test)\n",
        "print('Test CE Loss = {:.5f}, Test Accuracy = {:.5f}'.format(np.sum(l1test_loss_total) / X_train.shape[0], l1accuracy_test.result().numpy()))"
      ],
      "metadata": {
        "id": "y-3RGGDXOZxk"
      },
      "execution_count": null,
      "outputs": []
    },
    {
      "cell_type": "code",
      "source": [
        "np.random.seed(975008434)\n",
        "tf.random.set_seed(975008434)"
      ],
      "metadata": {
        "id": "ToUHHGvV5sH6"
      },
      "execution_count": null,
      "outputs": []
    },
    {
      "cell_type": "markdown",
      "source": [
        "No regularization 5"
      ],
      "metadata": {
        "id": "m7Rb1pKbBGWz"
      }
    },
    {
      "cell_type": "code",
      "source": [
        "# save results into here\n",
        "train_loss_results_5 = []\n",
        "train_accuracy_results_5 = []\n",
        "val_loss_results_5 = []\n",
        "val_accuracy_results_5 = []\n",
        "train_mse_results_5 = []\n",
        "val_mse_results_5 = []\n",
        "\n",
        "# Initialize model using GPU\n",
        "mlp_on_gpu = MLP(size_input, size_first_hidden, size_second_hidden, size_output, device='gpu')\n",
        "\n",
        "time_start = time.time()\n",
        "for epoch in range(NUM_EPOCHS):\n",
        "  loss_total_gpu = tf.zeros([1,1], dtype=tf.float32)\n",
        "  lt = 0\n",
        "  train_ds = tf.data.Dataset.from_tensor_slices((X_train, y_train)).shuffle(25, seed=epoch*(975008430)).batch(80)\n",
        "  for inputs, outputs in train_ds:\n",
        "    preds = mlp_on_gpu.forward(inputs)\n",
        "    loss_total_gpu = loss_total_gpu + mlp_on_gpu.loss(preds, outputs)\n",
        "    lt = lt + mlp_on_gpu.loss(preds, outputs)\n",
        "    mlp_on_gpu.backward(inputs, outputs)\n",
        "    accuracy_train = tf.keras.metrics.Accuracy()\n",
        "    accuracy_train.update_state(preds, outputs)\n",
        "    accuracy_train.result().numpy()\n",
        "    mse_train = tf.keras.metrics.mean_squared_error(preds, outputs)\n",
        "  val_loss_total = tf.Variable(0, dtype=tf.float32)\n",
        "  val_ds = tf.data.Dataset.from_tensor_slices((X_validation, y_validation)).shuffle(25, seed=epoch*(975008430)).batch(80)\n",
        "  for input, outputs in val_ds:\n",
        "    preds_val = mlp_on_gpu.forward(inputs)\n",
        "    val_loss_total = val_loss_total + mlp_on_gpu.loss(preds_val, outputs)\n",
        "    accuracy_val = tf.keras.metrics.Accuracy()\n",
        "    accuracy_val.update_state(preds_val, outputs)\n",
        "    accuracy_val.result().numpy()\n",
        "    mse_val = tf.keras.metrics.mean_squared_error(preds_val, outputs)\n",
        "   # End epoch\n",
        "  train_loss_results_5.append(np.sum(loss_total_gpu) / X_train.shape[0])\n",
        "  train_accuracy_results_5.append(accuracy_train.result())\n",
        "  val_loss_results_5.append(np.sum(val_loss_total)/ X_train.shape[0])\n",
        "  val_accuracy_results_5.append(accuracy_val.result())\n",
        "  train_mse_results_5.append(np.sum(mse_train))\n",
        "  val_mse_results_5.append(np.sum(mse_val))\n",
        "  print('Number of Epoch = {} - Average Training Loss (CE) = {:.5f}, Training Accuracy {:5f}'.format(epoch + 1, np.sum(loss_total_gpu) / X_train.shape[0], accuracy_train.result().numpy()))\n",
        "  print('Average Validation Loss (CE) = {:.5f}, Validation Accuracy = {:.5f}'.format(np.sum(val_loss_total)/ X_train.shape[0], accuracy_val.result().numpy()))\n",
        "time_taken = time.time() - time_start\n",
        "\n",
        "print('\\nTotal time taken (in seconds): {:.2f}'.format(time_taken))\n",
        "test_loss_total_5 = tf.Variable(0, dtype=tf.float32)\n",
        "test_ds_outputs_5 = []\n",
        "test_ds_trues_5 = []\n",
        "#test_loss_total = 0.0\n",
        "for inputs, outputs in test_ds:\n",
        "  preds = mlp_on_gpu.forward(inputs)\n",
        "  #b = mlp_on_default.loss(preds, outputs)\n",
        "  test_loss_total_5 = test_loss_total_5 + mlp_on_gpu.loss(preds, outputs)\n",
        "  accuracy_test_5 = tf.keras.metrics.Accuracy()\n",
        "  accuracy_test_5.update_state(preds, outputs)\n",
        "  accuracy_test_5.result().numpy()\n",
        "  test_ds_outputs_5.append(outputs)\n",
        "  test_ds_trues_5.append(y_test)\n",
        "print('Test CE Loss = {:.5f}, Test Accuracy = {:.5f}'.format(np.sum(test_loss_total) / X_train.shape[0], accuracy_test.result().numpy()))"
      ],
      "metadata": {
        "id": "mcYC7khhBEs0"
      },
      "execution_count": null,
      "outputs": []
    },
    {
      "cell_type": "markdown",
      "source": [
        "L2 5"
      ],
      "metadata": {
        "id": "e0f6LlNTJbY_"
      }
    },
    {
      "cell_type": "code",
      "source": [
        "# save results into here to plot\n",
        "l2train_loss_results_5 = []\n",
        "l2train_accuracy_results_5 = []\n",
        "l2val_loss_results_5 = []\n",
        "l2val_accuracy_results_5 = []\n",
        "l2train_mse_results_5 = []\n",
        "l2val_mse_results_5 = []\n",
        "\n",
        "# Initialize model using GPU\n",
        "mlpl2_on_gpu = MLPl2(size_input, size_first_hidden, size_second_hidden, size_output, device='gpu')\n",
        "\n",
        "time_start = time.time()\n",
        "for epoch in range(NUM_EPOCHS):\n",
        "  loss_total_gpu = tf.zeros([1,1], dtype=tf.float32)\n",
        "  lt = 0\n",
        "  train_ds = tf.data.Dataset.from_tensor_slices((X_train, y_train)).shuffle(25, seed=epoch*(975008430)).batch(80)\n",
        "  for inputs, outputs in train_ds:\n",
        "    preds = mlpl2_on_gpu.forward(inputs)\n",
        "    loss_total_gpu = loss_total_gpu + mlpl2_on_gpu.loss(preds, outputs)\n",
        "    lt = lt + mlpl2_on_gpu.loss(preds, outputs)\n",
        "    mlpl2_on_gpu.backward(inputs, outputs)\n",
        "    accuracy_train = tf.keras.metrics.Accuracy()\n",
        "    accuracy_train.update_state(preds, outputs)\n",
        "    accuracy_train.result().numpy()\n",
        "    mse_train = tf.keras.metrics.mean_squared_error(preds, outputs)\n",
        "  val_loss_total = tf.Variable(0, dtype=tf.float32)\n",
        "  val_ds = tf.data.Dataset.from_tensor_slices((X_validation, y_validation)).shuffle(25, seed=epoch*(975008430)).batch(80)\n",
        "  for input, outputs in val_ds:\n",
        "    preds_val = mlpl2_on_gpu.forward(inputs)\n",
        "    val_loss_total = val_loss_total + mlpl2_on_gpu.loss(preds_val, outputs)\n",
        "    accuracy_val = tf.keras.metrics.Accuracy()\n",
        "    accuracy_val.update_state(preds_val, outputs)\n",
        "    accuracy_val.result().numpy()\n",
        "    mse_val = tf.keras.metrics.mean_squared_error(preds_val, outputs)\n",
        "   # End epoch\n",
        "  l2train_loss_results_5.append(np.sum(loss_total_gpu)/ X_train.shape[0])\n",
        "  l2train_accuracy_results_5.append(accuracy_train.result())\n",
        "  l2val_loss_results_5.append(np.sum(val_loss_total)/ X_train.shape[0])\n",
        "  l2val_accuracy_results_5.append(accuracy_val.result())\n",
        "  l2train_mse_results_5.append(np.sum(mse_train))\n",
        "  l2val_mse_results_5.append(np.sum(mse_val))\n",
        "  print('Number of Epoch = {} - Average Training Loss (CE) = {:.5f}, Training Accuracy {:5f}'.format(epoch + 1, np.sum(loss_total_gpu)/ X_train.shape[0], accuracy_train.result().numpy()))\n",
        "  print('Average Validation Loss (CE) = {:.5f}, Validation Accuracy = {:.5f}'.format(np.sum(val_loss_total)/ X_train.shape[0], accuracy_val.result().numpy()))\n",
        "time_taken = time.time() - time_start\n",
        "\n",
        "print('\\nTotal time taken (in seconds): {:.2f}'.format(time_taken))\n",
        "\n",
        "l2test_loss_total_5 = tf.Variable(0, dtype=tf.float32)\n",
        "l2test_ds_outputs_5 = []\n",
        "l2test_ds_trues_5 = []\n",
        "#test_loss_total = 0.0\n",
        "for inputs, outputs in test_ds:\n",
        "  preds = mlpl2_on_gpu.forward(inputs)\n",
        "  #b = mlp_on_default.loss(preds, outputs)\n",
        "  l2test_loss_total_5 = l2test_loss_total_5 + mlpl2_on_gpu.loss(preds, outputs)\n",
        "  l2accuracy_test_5 = tf.keras.metrics.Accuracy()\n",
        "  l2accuracy_test_5.update_state(preds, outputs)\n",
        "  l2accuracy_test_5.result().numpy()\n",
        "  l2test_ds_outputs_5.append(outputs)\n",
        "  l2test_ds_trues_5.append(y_test)\n",
        "print('Test CE Loss = {:.5f}, Test Accuracy = {:.5f}'.format(np.sum(l2test_loss_total) / X_train.shape[0], l2accuracy_test.result().numpy()))"
      ],
      "metadata": {
        "id": "toXT4JLcJc9F"
      },
      "execution_count": null,
      "outputs": []
    },
    {
      "cell_type": "markdown",
      "source": [
        "L1 5"
      ],
      "metadata": {
        "id": "Q6iv-AOIOm1R"
      }
    },
    {
      "cell_type": "code",
      "source": [
        "# save results into here\n",
        "l1train_loss_results_5 = []\n",
        "l1train_accuracy_results_5 = []\n",
        "l1val_loss_results_5 = []\n",
        "l1val_accuracy_results_5 = []\n",
        "l1train_mse_results_5 = []\n",
        "l1val_mse_results_5 = []\n",
        "\n",
        "# Initialize model using GPU\n",
        "mlpl1_on_gpu = MLPl1(size_input, size_first_hidden, size_second_hidden, size_output, device='gpu')\n",
        "\n",
        "time_start = time.time()\n",
        "for epoch in range(NUM_EPOCHS):\n",
        "  loss_total_gpu = tf.zeros([1,1], dtype=tf.float32)\n",
        "  lt = 0\n",
        "  train_ds = tf.data.Dataset.from_tensor_slices((X_train, y_train)).shuffle(25, seed=epoch*(975008430)).batch(80)\n",
        "  for inputs, outputs in train_ds:\n",
        "    preds = mlpl1_on_gpu.forward(inputs)\n",
        "    loss_total_gpu = loss_total_gpu + mlpl1_on_gpu.loss(preds, outputs)\n",
        "    lt = lt + mlpl1_on_gpu.loss(preds, outputs)\n",
        "    mlpl1_on_gpu.backward(inputs, outputs)\n",
        "    accuracy_train = tf.keras.metrics.Accuracy()\n",
        "    accuracy_train.update_state(preds, outputs)\n",
        "    accuracy_train.result().numpy()\n",
        "    mse_train = tf.keras.metrics.mean_squared_error(preds, outputs)\n",
        "  val_loss_total = tf.Variable(0, dtype=tf.float32)\n",
        "  val_ds = tf.data.Dataset.from_tensor_slices((X_validation, y_validation)).shuffle(25, seed=epoch*(975008430)).batch(80)\n",
        "  for input, outputs in val_ds:\n",
        "    preds_val = mlpl1_on_gpu.forward(inputs)\n",
        "    val_loss_total = val_loss_total + mlpl1_on_gpu.loss(preds_val, outputs)\n",
        "    accuracy_val = tf.keras.metrics.Accuracy()\n",
        "    accuracy_val.update_state(preds_val, outputs)\n",
        "    accuracy_val.result().numpy()\n",
        "    mse_val = tf.keras.metrics.mean_squared_error(preds_val, outputs)\n",
        "   # End epoch\n",
        "  l1train_loss_results_5.append(np.sum(loss_total_gpu) / X_train.shape[0])\n",
        "  l1train_accuracy_results_5.append(accuracy_train.result())\n",
        "  l1val_loss_results_5.append(np.sum(val_loss_total)/ X_train.shape[0])\n",
        "  l1val_accuracy_results_5.append(accuracy_val.result())\n",
        "  l1train_mse_results_5.append(np.sum(mse_train)/ X_train.shape[0])\n",
        "  l1val_mse_results_5.append(np.sum(mse_val)/ X_train.shape[0])\n",
        "  print('Number of Epoch = {} - Average Training Loss (CE) = {:.5f}, Training Accuracy {:5f}'.format(epoch + 1, np.sum(loss_total_gpu) / X_train.shape[0], accuracy_train.result().numpy()))\n",
        "  print('Average Validation Loss (CE) = {:.5f}, Validation Accuracy = {:.5f}'.format(np.sum(val_loss_total)/ X_train.shape[0], accuracy_val.result().numpy()))\n",
        "time_taken = time.time() - time_start\n",
        "\n",
        "print('\\nTotal time taken (in seconds): {:.2f}'.format(time_taken))\n",
        "\n",
        "l1test_loss_total_5 = tf.Variable(0, dtype=tf.float32)\n",
        "l1test_ds_outputs_5 = []\n",
        "l1test_ds_trues_5 = []\n",
        "#test_loss_total = 0.0\n",
        "for inputs, outputs in test_ds:\n",
        "  preds = mlpl1_on_gpu.forward(inputs)\n",
        "  #b = mlp_on_default.loss(preds, outputs)\n",
        "  l1test_loss_total_5 = l1test_loss_total_5 + mlpl1_on_gpu.loss(preds, outputs)\n",
        "  l1accuracy_test_5 = tf.keras.metrics.Accuracy()\n",
        "  l1accuracy_test_5.update_state(preds, outputs)\n",
        "  l1accuracy_test_5.result().numpy()\n",
        "  l1test_ds_outputs_5.append(outputs)\n",
        "  l1test_ds_trues_5.append(y_test)\n",
        "print('Test CE Loss = {:.5f}, Test Accuracy = {:.5f}'.format(np.sum(l1test_loss_total) / X_train.shape[0], l1accuracy_test.result().numpy()))"
      ],
      "metadata": {
        "id": "RFxuL9mWOnxE"
      },
      "execution_count": null,
      "outputs": []
    },
    {
      "cell_type": "code",
      "source": [
        "np.random.seed(975008435)\n",
        "tf.random.set_seed(975008435)"
      ],
      "metadata": {
        "id": "M-KFHYl95tmJ"
      },
      "execution_count": null,
      "outputs": []
    },
    {
      "cell_type": "markdown",
      "source": [
        "No regularization 6"
      ],
      "metadata": {
        "id": "oC3FXKlxBK_A"
      }
    },
    {
      "cell_type": "code",
      "source": [
        "# save results into here\n",
        "train_loss_results_6 = []\n",
        "train_accuracy_results_6 = []\n",
        "val_loss_results_6 = []\n",
        "val_accuracy_results_6 = []\n",
        "train_mse_results_6 = []\n",
        "val_mse_results_6 = []\n",
        "\n",
        "# Initialize model using GPU\n",
        "mlp_on_gpu = MLP(size_input, size_first_hidden, size_second_hidden, size_output, device='gpu')\n",
        "\n",
        "time_start = time.time()\n",
        "for epoch in range(NUM_EPOCHS):\n",
        "  loss_total_gpu = tf.zeros([1,1], dtype=tf.float32)\n",
        "  lt = 0\n",
        "  train_ds = tf.data.Dataset.from_tensor_slices((X_train, y_train)).shuffle(25, seed=epoch*(975008430)).batch(80)\n",
        "  for inputs, outputs in train_ds:\n",
        "    preds = mlp_on_gpu.forward(inputs)\n",
        "    loss_total_gpu = loss_total_gpu + mlp_on_gpu.loss(preds, outputs)\n",
        "    lt = lt + mlp_on_gpu.loss(preds, outputs)\n",
        "    mlp_on_gpu.backward(inputs, outputs)\n",
        "    accuracy_train = tf.keras.metrics.Accuracy()\n",
        "    accuracy_train.update_state(preds, outputs)\n",
        "    accuracy_train.result().numpy()\n",
        "    mse_train = tf.keras.metrics.mean_squared_error(preds, outputs)\n",
        "  val_loss_total = tf.Variable(0, dtype=tf.float32)\n",
        "  val_ds = tf.data.Dataset.from_tensor_slices((X_validation, y_validation)).shuffle(25, seed=epoch*(975008430)).batch(80)\n",
        "  for input, outputs in val_ds:\n",
        "    preds_val = mlp_on_gpu.forward(inputs)\n",
        "    val_loss_total = val_loss_total + mlp_on_gpu.loss(preds_val, outputs)\n",
        "    accuracy_val = tf.keras.metrics.Accuracy()\n",
        "    accuracy_val.update_state(preds_val, outputs)\n",
        "    accuracy_val.result().numpy()\n",
        "    mse_val = tf.keras.metrics.mean_squared_error(preds_val, outputs)\n",
        "   # End epoch\n",
        "  train_loss_results_6.append(np.sum(loss_total_gpu) / X_train.shape[0])\n",
        "  train_accuracy_results_6.append(accuracy_train.result())\n",
        "  val_loss_results_6.append(np.sum(val_loss_total)/ X_train.shape[0])\n",
        "  val_accuracy_results_6.append(accuracy_val.result())\n",
        "  train_mse_results_6.append(np.sum(mse_train))\n",
        "  val_mse_results_6.append(np.sum(mse_val))\n",
        "  print('Number of Epoch = {} - Average Training Loss (CE) = {:.5f}, Training Accuracy {:5f}'.format(epoch + 1, np.sum(loss_total_gpu) / X_train.shape[0], accuracy_train.result().numpy()))\n",
        "  print('Average Validation Loss (CE) = {:.5f}, Validation Accuracy = {:.5f}'.format(np.sum(val_loss_total)/ X_train.shape[0], accuracy_val.result().numpy()))\n",
        "time_taken = time.time() - time_start\n",
        "\n",
        "print('\\nTotal time taken (in seconds): {:.2f}'.format(time_taken))\n",
        "test_loss_total_6 = tf.Variable(0, dtype=tf.float32)\n",
        "test_ds_outputs_6 = []\n",
        "test_ds_trues_6 = []\n",
        "#test_loss_total = 0.0\n",
        "for inputs, outputs in test_ds:\n",
        "  preds = mlp_on_gpu.forward(inputs)\n",
        "  #b = mlp_on_default.loss(preds, outputs)\n",
        "  test_loss_total_6 = test_loss_total_6 + mlp_on_gpu.loss(preds, outputs)\n",
        "  accuracy_test_6 = tf.keras.metrics.Accuracy()\n",
        "  accuracy_test_6.update_state(preds, outputs)\n",
        "  accuracy_test_6.result().numpy()\n",
        "  test_ds_outputs_6.append(outputs)\n",
        "  test_ds_trues_6.append(y_test)\n",
        "print('Test CE Loss = {:.5f}, Test Accuracy = {:.5f}'.format(np.sum(test_loss_total) / X_train.shape[0], accuracy_test.result().numpy()))"
      ],
      "metadata": {
        "id": "LoWJA_yNB6U7"
      },
      "execution_count": null,
      "outputs": []
    },
    {
      "cell_type": "markdown",
      "source": [
        "L2 6"
      ],
      "metadata": {
        "id": "vpIpcI1HJ4Qp"
      }
    },
    {
      "cell_type": "code",
      "source": [
        "# save results into here to plot\n",
        "l2train_loss_results_6 = []\n",
        "l2train_accuracy_results_6 = []\n",
        "l2val_loss_results_6 = []\n",
        "l2val_accuracy_results_6 = []\n",
        "l2train_mse_results_6 = []\n",
        "l2val_mse_results_6 = []\n",
        "\n",
        "# Initialize model using GPU\n",
        "mlpl2_on_gpu = MLPl2(size_input, size_first_hidden, size_second_hidden, size_output, device='gpu')\n",
        "\n",
        "time_start = time.time()\n",
        "for epoch in range(NUM_EPOCHS):\n",
        "  loss_total_gpu = tf.zeros([1,1], dtype=tf.float32)\n",
        "  lt = 0\n",
        "  train_ds = tf.data.Dataset.from_tensor_slices((X_train, y_train)).shuffle(25, seed=epoch*(975008430)).batch(80)\n",
        "  for inputs, outputs in train_ds:\n",
        "    preds = mlpl2_on_gpu.forward(inputs)\n",
        "    loss_total_gpu = loss_total_gpu + mlpl2_on_gpu.loss(preds, outputs)\n",
        "    lt = lt + mlpl2_on_gpu.loss(preds, outputs)\n",
        "    mlpl2_on_gpu.backward(inputs, outputs)\n",
        "    accuracy_train = tf.keras.metrics.Accuracy()\n",
        "    accuracy_train.update_state(preds, outputs)\n",
        "    accuracy_train.result().numpy()\n",
        "    mse_train = tf.keras.metrics.mean_squared_error(preds, outputs)\n",
        "  val_loss_total = tf.Variable(0, dtype=tf.float32)\n",
        "  val_ds = tf.data.Dataset.from_tensor_slices((X_validation, y_validation)).shuffle(25, seed=epoch*(975008430)).batch(80)\n",
        "  for input, outputs in val_ds:\n",
        "    preds_val = mlpl2_on_gpu.forward(inputs)\n",
        "    val_loss_total = val_loss_total + mlpl2_on_gpu.loss(preds_val, outputs)\n",
        "    accuracy_val = tf.keras.metrics.Accuracy()\n",
        "    accuracy_val.update_state(preds_val, outputs)\n",
        "    accuracy_val.result().numpy()\n",
        "    mse_val = tf.keras.metrics.mean_squared_error(preds_val, outputs)\n",
        "   # End epoch\n",
        "  l2train_loss_results_6.append(np.sum(loss_total_gpu)/ X_train.shape[0])\n",
        "  l2train_accuracy_results_6.append(accuracy_train.result())\n",
        "  l2val_loss_results_6.append(np.sum(val_loss_total)/ X_train.shape[0])\n",
        "  l2val_accuracy_results_6.append(accuracy_val.result())\n",
        "  l2train_mse_results_6.append(np.sum(mse_train))\n",
        "  l2val_mse_results_6.append(np.sum(mse_val))\n",
        "  print('Number of Epoch = {} - Average Training Loss (CE) = {:.5f}, Training Accuracy {:5f}'.format(epoch + 1, np.sum(loss_total_gpu)/ X_train.shape[0], accuracy_train.result().numpy()))\n",
        "  print('Average Validation Loss (CE) = {:.5f}, Validation Accuracy = {:.5f}'.format(np.sum(val_loss_total)/ X_train.shape[0], accuracy_val.result().numpy()))\n",
        "time_taken = time.time() - time_start\n",
        "\n",
        "print('\\nTotal time taken (in seconds): {:.2f}'.format(time_taken))\n",
        "\n",
        "l2test_loss_total_6 = tf.Variable(0, dtype=tf.float32)\n",
        "l2test_ds_outputs_6 = []\n",
        "l2test_ds_trues_6 = []\n",
        "#test_loss_total = 0.0\n",
        "for inputs, outputs in test_ds:\n",
        "  preds = mlpl2_on_gpu.forward(inputs)\n",
        "  #b = mlp_on_default.loss(preds, outputs)\n",
        "  l2test_loss_total_6 = l2test_loss_total_6 + mlpl2_on_gpu.loss(preds, outputs)\n",
        "  l2accuracy_test_6 = tf.keras.metrics.Accuracy()\n",
        "  l2accuracy_test_6.update_state(preds, outputs)\n",
        "  l2accuracy_test_6.result().numpy()\n",
        "  l2test_ds_outputs_6.append(outputs)\n",
        "  l2test_ds_trues_6.append(y_test)\n",
        "print('Test CE Loss = {:.5f}, Test Accuracy = {:.5f}'.format(np.sum(l2test_loss_total) / X_train.shape[0], l2accuracy_test.result().numpy()))"
      ],
      "metadata": {
        "id": "qohI4oHKJ5ns"
      },
      "execution_count": null,
      "outputs": []
    },
    {
      "cell_type": "markdown",
      "source": [
        "L1 6"
      ],
      "metadata": {
        "id": "hY4_Ul1nO3Lg"
      }
    },
    {
      "cell_type": "code",
      "source": [
        "# save results into here\n",
        "l1train_loss_results_6 = []\n",
        "l1train_accuracy_results_6 = []\n",
        "l1val_loss_results_6 = []\n",
        "l1val_accuracy_results_6 = []\n",
        "l1train_mse_results_6 = []\n",
        "l1val_mse_results_6 = []\n",
        "\n",
        "# Initialize model using GPU\n",
        "mlpl1_on_gpu = MLPl1(size_input, size_first_hidden, size_second_hidden, size_output, device='gpu')\n",
        "\n",
        "time_start = time.time()\n",
        "for epoch in range(NUM_EPOCHS):\n",
        "  loss_total_gpu = tf.zeros([1,1], dtype=tf.float32)\n",
        "  lt = 0\n",
        "  train_ds = tf.data.Dataset.from_tensor_slices((X_train, y_train)).shuffle(25, seed=epoch*(975008430)).batch(80)\n",
        "  for inputs, outputs in train_ds:\n",
        "    preds = mlpl1_on_gpu.forward(inputs)\n",
        "    loss_total_gpu = loss_total_gpu + mlpl1_on_gpu.loss(preds, outputs)\n",
        "    lt = lt + mlpl1_on_gpu.loss(preds, outputs)\n",
        "    mlpl1_on_gpu.backward(inputs, outputs)\n",
        "    accuracy_train = tf.keras.metrics.Accuracy()\n",
        "    accuracy_train.update_state(preds, outputs)\n",
        "    accuracy_train.result().numpy()\n",
        "    mse_train = tf.keras.metrics.mean_squared_error(preds, outputs)\n",
        "  val_loss_total = tf.Variable(0, dtype=tf.float32)\n",
        "  val_ds = tf.data.Dataset.from_tensor_slices((X_validation, y_validation)).shuffle(25, seed=epoch*(975008430)).batch(80)\n",
        "  for input, outputs in val_ds:\n",
        "    preds_val = mlpl1_on_gpu.forward(inputs)\n",
        "    val_loss_total = val_loss_total + mlpl1_on_gpu.loss(preds_val, outputs)\n",
        "    accuracy_val = tf.keras.metrics.Accuracy()\n",
        "    accuracy_val.update_state(preds_val, outputs)\n",
        "    accuracy_val.result().numpy()\n",
        "    mse_val = tf.keras.metrics.mean_squared_error(preds_val, outputs)\n",
        "   # End epoch\n",
        "  l1train_loss_results_6.append(np.sum(loss_total_gpu) / X_train.shape[0])\n",
        "  l1train_accuracy_results_6.append(accuracy_train.result())\n",
        "  l1val_loss_results_6.append(np.sum(val_loss_total)/ X_train.shape[0])\n",
        "  l1val_accuracy_results_6.append(accuracy_val.result())\n",
        "  l1train_mse_results_6.append(np.sum(mse_train)/ X_train.shape[0])\n",
        "  l1val_mse_results_6.append(np.sum(mse_val)/ X_train.shape[0])\n",
        "  print('Number of Epoch = {} - Average Training Loss (CE) = {:.5f}, Training Accuracy {:5f}'.format(epoch + 1, np.sum(loss_total_gpu) / X_train.shape[0], accuracy_train.result().numpy()))\n",
        "  print('Average Validation Loss (CE) = {:.5f}, Validation Accuracy = {:.5f}'.format(np.sum(val_loss_total)/ X_train.shape[0], accuracy_val.result().numpy()))\n",
        "time_taken = time.time() - time_start\n",
        "\n",
        "print('\\nTotal time taken (in seconds): {:.2f}'.format(time_taken))\n",
        "\n",
        "l1test_loss_total_6 = tf.Variable(0, dtype=tf.float32)\n",
        "l1test_ds_outputs_6 = []\n",
        "l1test_ds_trues_6 = []\n",
        "#test_loss_total = 0.0\n",
        "for inputs, outputs in test_ds:\n",
        "  preds = mlpl1_on_gpu.forward(inputs)\n",
        "  #b = mlp_on_default.loss(preds, outputs)\n",
        "  l1test_loss_total_6 = l1test_loss_total_6 + mlpl1_on_gpu.loss(preds, outputs)\n",
        "  l1accuracy_test_6 = tf.keras.metrics.Accuracy()\n",
        "  l1accuracy_test_6.update_state(preds, outputs)\n",
        "  l1accuracy_test_6.result().numpy()\n",
        "  l1test_ds_outputs_6.append(outputs)\n",
        "  l1test_ds_trues_6.append(y_test)\n",
        "print('Test CE Loss = {:.5f}, Test Accuracy = {:.5f}'.format(np.sum(l1test_loss_total) / X_train.shape[0], l1accuracy_test.result().numpy()))"
      ],
      "metadata": {
        "id": "6zTaoWBxO4D-"
      },
      "execution_count": null,
      "outputs": []
    },
    {
      "cell_type": "code",
      "source": [
        "np.random.seed(975008436)\n",
        "tf.random.set_seed(975008436)"
      ],
      "metadata": {
        "id": "dn8trMO45vTn"
      },
      "execution_count": null,
      "outputs": []
    },
    {
      "cell_type": "markdown",
      "source": [
        "No regularization 7"
      ],
      "metadata": {
        "id": "1zXRtPJqBL4s"
      }
    },
    {
      "cell_type": "code",
      "source": [
        "# save results into here\n",
        "train_loss_results_7 = []\n",
        "train_accuracy_results_7 = []\n",
        "val_loss_results_7 = []\n",
        "val_accuracy_results_7 = []\n",
        "train_mse_results_7 = []\n",
        "val_mse_results_7 = []\n",
        "\n",
        "# Initialize model using GPU\n",
        "mlp_on_gpu = MLP(size_input, size_first_hidden, size_second_hidden, size_output, device='gpu')\n",
        "\n",
        "time_start = time.time()\n",
        "for epoch in range(NUM_EPOCHS):\n",
        "  loss_total_gpu = tf.zeros([1,1], dtype=tf.float32)\n",
        "  lt = 0\n",
        "  train_ds = tf.data.Dataset.from_tensor_slices((X_train, y_train)).shuffle(25, seed=epoch*(975008430)).batch(80)\n",
        "  for inputs, outputs in train_ds:\n",
        "    preds = mlp_on_gpu.forward(inputs)\n",
        "    loss_total_gpu = loss_total_gpu + mlp_on_gpu.loss(preds, outputs)\n",
        "    lt = lt + mlp_on_gpu.loss(preds, outputs)\n",
        "    mlp_on_gpu.backward(inputs, outputs)\n",
        "    accuracy_train = tf.keras.metrics.Accuracy()\n",
        "    accuracy_train.update_state(preds, outputs)\n",
        "    accuracy_train.result().numpy()\n",
        "    mse_train = tf.keras.metrics.mean_squared_error(preds, outputs)\n",
        "  val_loss_total = tf.Variable(0, dtype=tf.float32)\n",
        "  val_ds = tf.data.Dataset.from_tensor_slices((X_validation, y_validation)).shuffle(25, seed=epoch*(975008430)).batch(80)\n",
        "  for input, outputs in val_ds:\n",
        "    preds_val = mlp_on_gpu.forward(inputs)\n",
        "    val_loss_total = val_loss_total + mlp_on_gpu.loss(preds_val, outputs)\n",
        "    accuracy_val = tf.keras.metrics.Accuracy()\n",
        "    accuracy_val.update_state(preds_val, outputs)\n",
        "    accuracy_val.result().numpy()\n",
        "    mse_val = tf.keras.metrics.mean_squared_error(preds_val, outputs)\n",
        "   # End epoch\n",
        "  train_loss_results_7.append(np.sum(loss_total_gpu) / X_train.shape[0])\n",
        "  train_accuracy_results_7.append(accuracy_train.result())\n",
        "  val_loss_results_7.append(np.sum(val_loss_total)/ X_train.shape[0])\n",
        "  val_accuracy_results_7.append(accuracy_val.result())\n",
        "  train_mse_results_7.append(np.sum(mse_train))\n",
        "  val_mse_results_7.append(np.sum(mse_val))\n",
        "  print('Number of Epoch = {} - Average Training Loss (CE) = {:.5f}, Training Accuracy {:5f}'.format(epoch + 1, np.sum(loss_total_gpu) / X_train.shape[0], accuracy_train.result().numpy()))\n",
        "  print('Average Validation Loss (CE) = {:.5f}, Validation Accuracy = {:.5f}'.format(np.sum(val_loss_total)/ X_train.shape[0], accuracy_val.result().numpy()))\n",
        "time_taken = time.time() - time_start\n",
        "\n",
        "print('\\nTotal time taken (in seconds): {:.2f}'.format(time_taken))\n",
        "test_loss_total_7 = tf.Variable(0, dtype=tf.float32)\n",
        "test_ds_outputs_7 = []\n",
        "test_ds_trues_7 = []\n",
        "#test_loss_total = 0.0\n",
        "for inputs, outputs in test_ds:\n",
        "  preds = mlp_on_gpu.forward(inputs)\n",
        "  #b = mlp_on_default.loss(preds, outputs)\n",
        "  test_loss_total_7 = test_loss_total_7 + mlp_on_gpu.loss(preds, outputs)\n",
        "  accuracy_test_7 = tf.keras.metrics.Accuracy()\n",
        "  accuracy_test_7.update_state(preds, outputs)\n",
        "  accuracy_test_7.result().numpy()\n",
        "  test_ds_outputs_7.append(outputs)\n",
        "  test_ds_trues_7.append(y_test)\n",
        "print('Test CE Loss = {:.5f}, Test Accuracy = {:.5f}'.format(np.sum(test_loss_total) / X_train.shape[0], accuracy_test.result().numpy()))"
      ],
      "metadata": {
        "id": "sPvEPXMiCImC"
      },
      "execution_count": null,
      "outputs": []
    },
    {
      "cell_type": "markdown",
      "source": [
        "L2 7"
      ],
      "metadata": {
        "id": "EQeEY5w4J8nl"
      }
    },
    {
      "cell_type": "code",
      "source": [
        "# save results into here to plot\n",
        "l2train_loss_results_7 = []\n",
        "l2train_accuracy_results_7 = []\n",
        "l2val_loss_results_7 = []\n",
        "l2val_accuracy_results_7 = []\n",
        "l2train_mse_results_7 = []\n",
        "l2val_mse_results_7 = []\n",
        "\n",
        "# Initialize model using GPU\n",
        "mlpl2_on_gpu = MLPl2(size_input, size_first_hidden, size_second_hidden, size_output, device='gpu')\n",
        "\n",
        "time_start = time.time()\n",
        "for epoch in range(NUM_EPOCHS):\n",
        "  loss_total_gpu = tf.zeros([1,1], dtype=tf.float32)\n",
        "  lt = 0\n",
        "  train_ds = tf.data.Dataset.from_tensor_slices((X_train, y_train)).shuffle(25, seed=epoch*(975008430)).batch(80)\n",
        "  for inputs, outputs in train_ds:\n",
        "    preds = mlpl2_on_gpu.forward(inputs)\n",
        "    loss_total_gpu = loss_total_gpu + mlpl2_on_gpu.loss(preds, outputs)\n",
        "    lt = lt + mlpl2_on_gpu.loss(preds, outputs)\n",
        "    mlpl2_on_gpu.backward(inputs, outputs)\n",
        "    accuracy_train = tf.keras.metrics.Accuracy()\n",
        "    accuracy_train.update_state(preds, outputs)\n",
        "    accuracy_train.result().numpy()\n",
        "    mse_train = tf.keras.metrics.mean_squared_error(preds, outputs)\n",
        "  val_loss_total = tf.Variable(0, dtype=tf.float32)\n",
        "  val_ds = tf.data.Dataset.from_tensor_slices((X_validation, y_validation)).shuffle(25, seed=epoch*(975008430)).batch(80)\n",
        "  for input, outputs in val_ds:\n",
        "    preds_val = mlpl2_on_gpu.forward(inputs)\n",
        "    val_loss_total = val_loss_total + mlpl2_on_gpu.loss(preds_val, outputs)\n",
        "    accuracy_val = tf.keras.metrics.Accuracy()\n",
        "    accuracy_val.update_state(preds_val, outputs)\n",
        "    accuracy_val.result().numpy()\n",
        "    mse_val = tf.keras.metrics.mean_squared_error(preds_val, outputs)\n",
        "   # End epoch\n",
        "  l2train_loss_results_7.append(np.sum(loss_total_gpu)/ X_train.shape[0])\n",
        "  l2train_accuracy_results_7.append(accuracy_train.result())\n",
        "  l2val_loss_results_7.append(np.sum(val_loss_total)/ X_train.shape[0])\n",
        "  l2val_accuracy_results_7.append(accuracy_val.result())\n",
        "  l2train_mse_results_7.append(np.sum(mse_train))\n",
        "  l2val_mse_results_7.append(np.sum(mse_val))\n",
        "  print('Number of Epoch = {} - Average Training Loss (CE) = {:.5f}, Training Accuracy {:5f}'.format(epoch + 1, np.sum(loss_total_gpu)/ X_train.shape[0], accuracy_train.result().numpy()))\n",
        "  print('Average Validation Loss (CE) = {:.5f}, Validation Accuracy = {:.5f}'.format(np.sum(val_loss_total)/ X_train.shape[0], accuracy_val.result().numpy()))\n",
        "time_taken = time.time() - time_start\n",
        "\n",
        "print('\\nTotal time taken (in seconds): {:.2f}'.format(time_taken))\n",
        "\n",
        "l2test_loss_total_7 = tf.Variable(0, dtype=tf.float32)\n",
        "l2test_ds_outputs_7 = []\n",
        "l2test_ds_trues_7 = []\n",
        "#test_loss_total = 0.0\n",
        "for inputs, outputs in test_ds:\n",
        "  preds = mlpl2_on_gpu.forward(inputs)\n",
        "  #b = mlp_on_default.loss(preds, outputs)\n",
        "  l2test_loss_total_7 = l2test_loss_total_7 + mlpl2_on_gpu.loss(preds, outputs)\n",
        "  l2accuracy_test_7 = tf.keras.metrics.Accuracy()\n",
        "  l2accuracy_test_7.update_state(preds, outputs)\n",
        "  l2accuracy_test_7.result().numpy()\n",
        "  l2test_ds_outputs_7.append(outputs)\n",
        "  l2test_ds_trues_7.append(y_test)\n",
        "print('Test CE Loss = {:.5f}, Test Accuracy = {:.5f}'.format(np.sum(l2test_loss_total) / X_train.shape[0], l2accuracy_test.result().numpy()))"
      ],
      "metadata": {
        "id": "aD-vpdYOJ-L7"
      },
      "execution_count": null,
      "outputs": []
    },
    {
      "cell_type": "markdown",
      "source": [
        "L1 7"
      ],
      "metadata": {
        "id": "CjkFReAsPJ4Y"
      }
    },
    {
      "cell_type": "code",
      "source": [
        "# save results into here\n",
        "l1train_loss_results_7 = []\n",
        "l1train_accuracy_results_7 = []\n",
        "l1val_loss_results_7 = []\n",
        "l1val_accuracy_results_7 = []\n",
        "l1train_mse_results_7 = []\n",
        "l1val_mse_results_7 = []\n",
        "\n",
        "# Initialize model using GPU\n",
        "mlpl1_on_gpu = MLPl1(size_input, size_first_hidden, size_second_hidden, size_output, device='gpu')\n",
        "\n",
        "time_start = time.time()\n",
        "for epoch in range(NUM_EPOCHS):\n",
        "  loss_total_gpu = tf.zeros([1,1], dtype=tf.float32)\n",
        "  lt = 0\n",
        "  train_ds = tf.data.Dataset.from_tensor_slices((X_train, y_train)).shuffle(25, seed=epoch*(975008430)).batch(80)\n",
        "  for inputs, outputs in train_ds:\n",
        "    preds = mlpl1_on_gpu.forward(inputs)\n",
        "    loss_total_gpu = loss_total_gpu + mlpl1_on_gpu.loss(preds, outputs)\n",
        "    lt = lt + mlpl1_on_gpu.loss(preds, outputs)\n",
        "    mlpl1_on_gpu.backward(inputs, outputs)\n",
        "    accuracy_train = tf.keras.metrics.Accuracy()\n",
        "    accuracy_train.update_state(preds, outputs)\n",
        "    accuracy_train.result().numpy()\n",
        "    mse_train = tf.keras.metrics.mean_squared_error(preds, outputs)\n",
        "  val_loss_total = tf.Variable(0, dtype=tf.float32)\n",
        "  val_ds = tf.data.Dataset.from_tensor_slices((X_validation, y_validation)).shuffle(25, seed=epoch*(975008430)).batch(80)\n",
        "  for input, outputs in val_ds:\n",
        "    preds_val = mlpl1_on_gpu.forward(inputs)\n",
        "    val_loss_total = val_loss_total + mlpl1_on_gpu.loss(preds_val, outputs)\n",
        "    accuracy_val = tf.keras.metrics.Accuracy()\n",
        "    accuracy_val.update_state(preds_val, outputs)\n",
        "    accuracy_val.result().numpy()\n",
        "    mse_val = tf.keras.metrics.mean_squared_error(preds_val, outputs)\n",
        "   # End epoch\n",
        "  l1train_loss_results_7.append(np.sum(loss_total_gpu) / X_train.shape[0])\n",
        "  l1train_accuracy_results_7.append(accuracy_train.result())\n",
        "  l1val_loss_results_7.append(np.sum(val_loss_total)/ X_train.shape[0])\n",
        "  l1val_accuracy_results_7.append(accuracy_val.result())\n",
        "  l1train_mse_results_7.append(np.sum(mse_train)/ X_train.shape[0])\n",
        "  l1val_mse_results_7.append(np.sum(mse_val)/ X_train.shape[0])\n",
        "  print('Number of Epoch = {} - Average Training Loss (CE) = {:.5f}, Training Accuracy {:5f}'.format(epoch + 1, np.sum(loss_total_gpu) / X_train.shape[0], accuracy_train.result().numpy()))\n",
        "  print('Average Validation Loss (CE) = {:.5f}, Validation Accuracy = {:.5f}'.format(np.sum(val_loss_total)/ X_train.shape[0], accuracy_val.result().numpy()))\n",
        "time_taken = time.time() - time_start\n",
        "\n",
        "print('\\nTotal time taken (in seconds): {:.2f}'.format(time_taken))\n",
        "\n",
        "l1test_loss_total_7 = tf.Variable(0, dtype=tf.float32)\n",
        "l1test_ds_outputs_7 = []\n",
        "l1test_ds_trues_7 = []\n",
        "#test_loss_total = 0.0\n",
        "for inputs, outputs in test_ds:\n",
        "  preds = mlpl1_on_gpu.forward(inputs)\n",
        "  #b = mlp_on_default.loss(preds, outputs)\n",
        "  l1test_loss_total_7 = l1test_loss_total_7 + mlpl1_on_gpu.loss(preds, outputs)\n",
        "  l1accuracy_test_7 = tf.keras.metrics.Accuracy()\n",
        "  l1accuracy_test_7.update_state(preds, outputs)\n",
        "  l1accuracy_test_7.result().numpy()\n",
        "  l1test_ds_outputs_7.append(outputs)\n",
        "  l1test_ds_trues_7.append(y_test)\n",
        "print('Test CE Loss = {:.5f}, Test Accuracy = {:.5f}'.format(np.sum(l1test_loss_total) / X_train.shape[0], l1accuracy_test.result().numpy()))"
      ],
      "metadata": {
        "id": "WJ3TTb8vPLyu"
      },
      "execution_count": null,
      "outputs": []
    },
    {
      "cell_type": "code",
      "source": [
        "np.random.seed(975008437)\n",
        "tf.random.set_seed(975008437)"
      ],
      "metadata": {
        "id": "SkFmBBHR5wz1"
      },
      "execution_count": null,
      "outputs": []
    },
    {
      "cell_type": "markdown",
      "source": [
        "No regularization 8"
      ],
      "metadata": {
        "id": "gi7ymkstBMwB"
      }
    },
    {
      "cell_type": "code",
      "source": [
        "# save results into here\n",
        "train_loss_results_8 = []\n",
        "train_accuracy_results_8 = []\n",
        "val_loss_results_8 = []\n",
        "val_accuracy_results_8 = []\n",
        "train_mse_results_8 = []\n",
        "val_mse_results_8 = []\n",
        "\n",
        "# Initialize model using GPU\n",
        "mlp_on_gpu = MLP(size_input, size_first_hidden, size_second_hidden, size_output, device='gpu')\n",
        "\n",
        "time_start = time.time()\n",
        "for epoch in range(NUM_EPOCHS):\n",
        "  loss_total_gpu = tf.zeros([1,1], dtype=tf.float32)\n",
        "  lt = 0\n",
        "  train_ds = tf.data.Dataset.from_tensor_slices((X_train, y_train)).shuffle(25, seed=epoch*(975008430)).batch(80)\n",
        "  for inputs, outputs in train_ds:\n",
        "    preds = mlp_on_gpu.forward(inputs)\n",
        "    loss_total_gpu = loss_total_gpu + mlp_on_gpu.loss(preds, outputs)\n",
        "    lt = lt + mlp_on_gpu.loss(preds, outputs)\n",
        "    mlp_on_gpu.backward(inputs, outputs)\n",
        "    accuracy_train = tf.keras.metrics.Accuracy()\n",
        "    accuracy_train.update_state(preds, outputs)\n",
        "    accuracy_train.result().numpy()\n",
        "    mse_train = tf.keras.metrics.mean_squared_error(preds, outputs)\n",
        "  val_loss_total = tf.Variable(0, dtype=tf.float32)\n",
        "  val_ds = tf.data.Dataset.from_tensor_slices((X_validation, y_validation)).shuffle(25, seed=epoch*(975008430)).batch(80)\n",
        "  for input, outputs in val_ds:\n",
        "    preds_val = mlp_on_gpu.forward(inputs)\n",
        "    val_loss_total = val_loss_total + mlp_on_gpu.loss(preds_val, outputs)\n",
        "    accuracy_val = tf.keras.metrics.Accuracy()\n",
        "    accuracy_val.update_state(preds_val, outputs)\n",
        "    accuracy_val.result().numpy()\n",
        "    mse_val = tf.keras.metrics.mean_squared_error(preds_val, outputs)\n",
        "   # End epoch\n",
        "  train_loss_results_8.append(np.sum(loss_total_gpu) / X_train.shape[0])\n",
        "  train_accuracy_results_8.append(accuracy_train.result())\n",
        "  val_loss_results_8.append(np.sum(val_loss_total)/ X_train.shape[0])\n",
        "  val_accuracy_results_8.append(accuracy_val.result())\n",
        "  train_mse_results_8.append(np.sum(mse_train))\n",
        "  val_mse_results_8.append(np.sum(mse_val))\n",
        "  print('Number of Epoch = {} - Average Training Loss (CE) = {:.5f}, Training Accuracy {:5f}'.format(epoch + 1, np.sum(loss_total_gpu) / X_train.shape[0], accuracy_train.result().numpy()))\n",
        "  print('Average Validation Loss (CE) = {:.5f}, Validation Accuracy = {:.5f}'.format(np.sum(val_loss_total)/ X_train.shape[0], accuracy_val.result().numpy()))\n",
        "time_taken = time.time() - time_start\n",
        "\n",
        "print('\\nTotal time taken (in seconds): {:.2f}'.format(time_taken))\n",
        "test_loss_total_8 = tf.Variable(0, dtype=tf.float32)\n",
        "test_ds_outputs_8 = []\n",
        "test_ds_trues_8 = []\n",
        "#test_loss_total = 0.0\n",
        "for inputs, outputs in test_ds:\n",
        "  preds = mlp_on_gpu.forward(inputs)\n",
        "  #b = mlp_on_default.loss(preds, outputs)\n",
        "  test_loss_total_8 = test_loss_total_8 + mlp_on_gpu.loss(preds, outputs)\n",
        "  accuracy_test_8 = tf.keras.metrics.Accuracy()\n",
        "  accuracy_test_8.update_state(preds, outputs)\n",
        "  accuracy_test_8.result().numpy()\n",
        "  test_ds_outputs_8.append(outputs)\n",
        "  test_ds_trues_8.append(y_test)\n",
        "print('Test CE Loss = {:.5f}, Test Accuracy = {:.5f}'.format(np.sum(test_loss_total) / X_train.shape[0], accuracy_test.result().numpy()))"
      ],
      "metadata": {
        "id": "9pb_eGZfCRYT"
      },
      "execution_count": null,
      "outputs": []
    },
    {
      "cell_type": "markdown",
      "source": [
        "L2 8"
      ],
      "metadata": {
        "id": "tjHD1DqTKFAq"
      }
    },
    {
      "cell_type": "code",
      "source": [
        "# save results into here to plot\n",
        "l2train_loss_results_8 = []\n",
        "l2train_accuracy_results_8 = []\n",
        "l2val_loss_results_8 = []\n",
        "l2val_accuracy_results_8 = []\n",
        "l2train_mse_results_8 = []\n",
        "l2val_mse_results_8 = []\n",
        "\n",
        "# Initialize model using GPU\n",
        "mlpl2_on_gpu = MLPl2(size_input, size_first_hidden, size_second_hidden, size_output, device='gpu')\n",
        "\n",
        "time_start = time.time()\n",
        "for epoch in range(NUM_EPOCHS):\n",
        "  loss_total_gpu = tf.zeros([1,1], dtype=tf.float32)\n",
        "  lt = 0\n",
        "  train_ds = tf.data.Dataset.from_tensor_slices((X_train, y_train)).shuffle(25, seed=epoch*(975008430)).batch(80)\n",
        "  for inputs, outputs in train_ds:\n",
        "    preds = mlpl2_on_gpu.forward(inputs)\n",
        "    loss_total_gpu = loss_total_gpu + mlpl2_on_gpu.loss(preds, outputs)\n",
        "    lt = lt + mlpl2_on_gpu.loss(preds, outputs)\n",
        "    mlpl2_on_gpu.backward(inputs, outputs)\n",
        "    accuracy_train = tf.keras.metrics.Accuracy()\n",
        "    accuracy_train.update_state(preds, outputs)\n",
        "    accuracy_train.result().numpy()\n",
        "    mse_train = tf.keras.metrics.mean_squared_error(preds, outputs)\n",
        "  val_loss_total = tf.Variable(0, dtype=tf.float32)\n",
        "  val_ds = tf.data.Dataset.from_tensor_slices((X_validation, y_validation)).shuffle(25, seed=epoch*(975008430)).batch(80)\n",
        "  for input, outputs in val_ds:\n",
        "    preds_val = mlpl2_on_gpu.forward(inputs)\n",
        "    val_loss_total = val_loss_total + mlpl2_on_gpu.loss(preds_val, outputs)\n",
        "    accuracy_val = tf.keras.metrics.Accuracy()\n",
        "    accuracy_val.update_state(preds_val, outputs)\n",
        "    accuracy_val.result().numpy()\n",
        "    mse_val = tf.keras.metrics.mean_squared_error(preds_val, outputs)\n",
        "   # End epoch\n",
        "  l2train_loss_results_8.append(np.sum(loss_total_gpu)/ X_train.shape[0])\n",
        "  l2train_accuracy_results_8.append(accuracy_train.result())\n",
        "  l2val_loss_results_8.append(np.sum(val_loss_total)/ X_train.shape[0])\n",
        "  l2val_accuracy_results_8.append(accuracy_val.result())\n",
        "  l2train_mse_results_8.append(np.sum(mse_train))\n",
        "  l2val_mse_results_8.append(np.sum(mse_val))\n",
        "  print('Number of Epoch = {} - Average Training Loss (CE) = {:.5f}, Training Accuracy {:5f}'.format(epoch + 1, np.sum(loss_total_gpu)/ X_train.shape[0], accuracy_train.result().numpy()))\n",
        "  print('Average Validation Loss (CE) = {:.5f}, Validation Accuracy = {:.5f}'.format(np.sum(val_loss_total)/ X_train.shape[0], accuracy_val.result().numpy()))\n",
        "time_taken = time.time() - time_start\n",
        "\n",
        "print('\\nTotal time taken (in seconds): {:.2f}'.format(time_taken))\n",
        "\n",
        "l2test_loss_total_8 = tf.Variable(0, dtype=tf.float32)\n",
        "l2test_ds_outputs_8 = []\n",
        "l2test_ds_trues_8 = []\n",
        "#test_loss_total = 0.0\n",
        "for inputs, outputs in test_ds:\n",
        "  preds = mlpl2_on_gpu.forward(inputs)\n",
        "  #b = mlp_on_default.loss(preds, outputs)\n",
        "  l2test_loss_total_8 = l2test_loss_total_8 + mlpl2_on_gpu.loss(preds, outputs)\n",
        "  l2accuracy_test_8 = tf.keras.metrics.Accuracy()\n",
        "  l2accuracy_test_8.update_state(preds, outputs)\n",
        "  l2accuracy_test_8.result().numpy()\n",
        "  l2test_ds_outputs_8.append(outputs)\n",
        "  l2test_ds_trues_8.append(y_test)\n",
        "print('Test CE Loss = {:.5f}, Test Accuracy = {:.5f}'.format(np.sum(l2test_loss_total) / X_train.shape[0], l2accuracy_test.result().numpy()))"
      ],
      "metadata": {
        "id": "XNXzw1i-KGIO"
      },
      "execution_count": null,
      "outputs": []
    },
    {
      "cell_type": "markdown",
      "source": [
        "L1 8"
      ],
      "metadata": {
        "id": "1Qur8owtPXPo"
      }
    },
    {
      "cell_type": "code",
      "source": [
        "# save results into here\n",
        "l1train_loss_results_8 = []\n",
        "l1train_accuracy_results_8 = []\n",
        "l1val_loss_results_8 = []\n",
        "l1val_accuracy_results_8 = []\n",
        "l1train_mse_results_8 = []\n",
        "l1val_mse_results_8 = []\n",
        "\n",
        "# Initialize model using GPU\n",
        "mlpl1_on_gpu = MLPl1(size_input, size_first_hidden, size_second_hidden, size_output, device='gpu')\n",
        "\n",
        "time_start = time.time()\n",
        "for epoch in range(NUM_EPOCHS):\n",
        "  loss_total_gpu = tf.zeros([1,1], dtype=tf.float32)\n",
        "  lt = 0\n",
        "  train_ds = tf.data.Dataset.from_tensor_slices((X_train, y_train)).shuffle(25, seed=epoch*(975008430)).batch(80)\n",
        "  for inputs, outputs in train_ds:\n",
        "    preds = mlpl1_on_gpu.forward(inputs)\n",
        "    loss_total_gpu = loss_total_gpu + mlpl1_on_gpu.loss(preds, outputs)\n",
        "    lt = lt + mlpl1_on_gpu.loss(preds, outputs)\n",
        "    mlpl1_on_gpu.backward(inputs, outputs)\n",
        "    accuracy_train = tf.keras.metrics.Accuracy()\n",
        "    accuracy_train.update_state(preds, outputs)\n",
        "    accuracy_train.result().numpy()\n",
        "    mse_train = tf.keras.metrics.mean_squared_error(preds, outputs)\n",
        "  val_loss_total = tf.Variable(0, dtype=tf.float32)\n",
        "  val_ds = tf.data.Dataset.from_tensor_slices((X_validation, y_validation)).shuffle(25, seed=epoch*(975008430)).batch(80)\n",
        "  for input, outputs in val_ds:\n",
        "    preds_val = mlpl1_on_gpu.forward(inputs)\n",
        "    val_loss_total = val_loss_total + mlpl1_on_gpu.loss(preds_val, outputs)\n",
        "    accuracy_val = tf.keras.metrics.Accuracy()\n",
        "    accuracy_val.update_state(preds_val, outputs)\n",
        "    accuracy_val.result().numpy()\n",
        "    mse_val = tf.keras.metrics.mean_squared_error(preds_val, outputs)\n",
        "   # End epoch\n",
        "  l1train_loss_results_8.append(np.sum(loss_total_gpu) / X_train.shape[0])\n",
        "  l1train_accuracy_results_8.append(accuracy_train.result())\n",
        "  l1val_loss_results_8.append(np.sum(val_loss_total)/ X_train.shape[0])\n",
        "  l1val_accuracy_results_8.append(accuracy_val.result())\n",
        "  l1train_mse_results_8.append(np.sum(mse_train)/ X_train.shape[0])\n",
        "  l1val_mse_results_8.append(np.sum(mse_val)/ X_train.shape[0])\n",
        "  print('Number of Epoch = {} - Average Training Loss (CE) = {:.5f}, Training Accuracy {:5f}'.format(epoch + 1, np.sum(loss_total_gpu) / X_train.shape[0], accuracy_train.result().numpy()))\n",
        "  print('Average Validation Loss (CE) = {:.5f}, Validation Accuracy = {:.5f}'.format(np.sum(val_loss_total)/ X_train.shape[0], accuracy_val.result().numpy()))\n",
        "time_taken = time.time() - time_start\n",
        "\n",
        "print('\\nTotal time taken (in seconds): {:.2f}'.format(time_taken))\n",
        "\n",
        "l1test_loss_total_8 = tf.Variable(0, dtype=tf.float32)\n",
        "l1test_ds_outputs_8 = []\n",
        "l1test_ds_trues_8 = []\n",
        "#test_loss_total = 0.0\n",
        "for inputs, outputs in test_ds:\n",
        "  preds = mlpl1_on_gpu.forward(inputs)\n",
        "  #b = mlp_on_default.loss(preds, outputs)\n",
        "  l1test_loss_total_8 = l1test_loss_total_8 + mlpl1_on_gpu.loss(preds, outputs)\n",
        "  l1accuracy_test_8 = tf.keras.metrics.Accuracy()\n",
        "  l1accuracy_test_8.update_state(preds, outputs)\n",
        "  l1accuracy_test_8.result().numpy()\n",
        "  l1test_ds_outputs_8.append(outputs)\n",
        "  l1test_ds_trues_8.append(y_test)\n",
        "print('Test CE Loss = {:.5f}, Test Accuracy = {:.5f}'.format(np.sum(l1test_loss_total) / X_train.shape[0], l1accuracy_test.result().numpy()))"
      ],
      "metadata": {
        "id": "ttj-PgiJPY5G"
      },
      "execution_count": null,
      "outputs": []
    },
    {
      "cell_type": "code",
      "source": [
        "np.random.seed(975008438)\n",
        "tf.random.set_seed(975008438)"
      ],
      "metadata": {
        "id": "r_zLJ89n5yQ9"
      },
      "execution_count": null,
      "outputs": []
    },
    {
      "cell_type": "markdown",
      "source": [
        "No regularization 9"
      ],
      "metadata": {
        "id": "vU9bBCusBNy9"
      }
    },
    {
      "cell_type": "code",
      "source": [
        "# save results into here\n",
        "train_loss_results_9 = []\n",
        "train_accuracy_results_9 = []\n",
        "val_loss_results_9 = []\n",
        "val_accuracy_results_9 = []\n",
        "train_mse_results_9 = []\n",
        "val_mse_results_9 = []\n",
        "\n",
        "# Initialize model using GPU\n",
        "mlp_on_gpu = MLP(size_input, size_first_hidden, size_second_hidden, size_output, device='gpu')\n",
        "\n",
        "time_start = time.time()\n",
        "for epoch in range(NUM_EPOCHS):\n",
        "  loss_total_gpu = tf.zeros([1,1], dtype=tf.float32)\n",
        "  lt = 0\n",
        "  train_ds = tf.data.Dataset.from_tensor_slices((X_train, y_train)).shuffle(25, seed=epoch*(975008430)).batch(80)\n",
        "  for inputs, outputs in train_ds:\n",
        "    preds = mlp_on_gpu.forward(inputs)\n",
        "    loss_total_gpu = loss_total_gpu + mlp_on_gpu.loss(preds, outputs)\n",
        "    lt = lt + mlp_on_gpu.loss(preds, outputs)\n",
        "    mlp_on_gpu.backward(inputs, outputs)\n",
        "    accuracy_train = tf.keras.metrics.Accuracy()\n",
        "    accuracy_train.update_state(preds, outputs)\n",
        "    accuracy_train.result().numpy()\n",
        "    mse_train = tf.keras.metrics.mean_squared_error(preds, outputs)\n",
        "  val_loss_total = tf.Variable(0, dtype=tf.float32)\n",
        "  val_ds = tf.data.Dataset.from_tensor_slices((X_validation, y_validation)).shuffle(25, seed=epoch*(975008430)).batch(80)\n",
        "  for input, outputs in val_ds:\n",
        "    preds_val = mlp_on_gpu.forward(inputs)\n",
        "    val_loss_total = val_loss_total + mlp_on_gpu.loss(preds_val, outputs)\n",
        "    accuracy_val = tf.keras.metrics.Accuracy()\n",
        "    accuracy_val.update_state(preds_val, outputs)\n",
        "    accuracy_val.result().numpy()\n",
        "    mse_val = tf.keras.metrics.mean_squared_error(preds_val, outputs)\n",
        "   # End epoch\n",
        "  train_loss_results_9.append(np.sum(loss_total_gpu) / X_train.shape[0])\n",
        "  train_accuracy_results_9.append(accuracy_train.result())\n",
        "  val_loss_results_9.append(np.sum(val_loss_total)/ X_train.shape[0])\n",
        "  val_accuracy_results_9.append(accuracy_val.result())\n",
        "  train_mse_results_9.append(np.sum(mse_train))\n",
        "  val_mse_results_9.append(np.sum(mse_val))\n",
        "  print('Number of Epoch = {} - Average Training Loss (CE) = {:.5f}, Training Accuracy {:5f}'.format(epoch + 1, np.sum(loss_total_gpu) / X_train.shape[0], accuracy_train.result().numpy()))\n",
        "  print('Average Validation Loss (CE) = {:.5f}, Validation Accuracy = {:.5f}'.format(np.sum(val_loss_total)/ X_train.shape[0], accuracy_val.result().numpy()))\n",
        "time_taken = time.time() - time_start\n",
        "\n",
        "print('\\nTotal time taken (in seconds): {:.2f}'.format(time_taken))\n",
        "test_loss_total_9 = tf.Variable(0, dtype=tf.float32)\n",
        "test_ds_outputs_9 = []\n",
        "test_ds_trues_9 = []\n",
        "#test_loss_total = 0.0\n",
        "for inputs, outputs in test_ds:\n",
        "  preds = mlp_on_gpu.forward(inputs)\n",
        "  #b = mlp_on_default.loss(preds, outputs)\n",
        "  test_loss_total_9 = test_loss_total_9 + mlp_on_gpu.loss(preds, outputs)\n",
        "  accuracy_test_9 = tf.keras.metrics.Accuracy()\n",
        "  accuracy_test_9.update_state(preds, outputs)\n",
        "  accuracy_test_9.result().numpy()\n",
        "  test_ds_outputs_9.append(outputs)\n",
        "  test_ds_trues_9.append(y_test)\n",
        "print('Test CE Loss = {:.5f}, Test Accuracy = {:.5f}'.format(np.sum(test_loss_total) / X_train.shape[0], accuracy_test.result().numpy()))"
      ],
      "metadata": {
        "id": "PJipkabqCQM5"
      },
      "execution_count": null,
      "outputs": []
    },
    {
      "cell_type": "markdown",
      "source": [
        "L2 9"
      ],
      "metadata": {
        "id": "Ugc0NDzvKKYR"
      }
    },
    {
      "cell_type": "code",
      "source": [
        "# save results into here to plot\n",
        "l2train_loss_results_9 = []\n",
        "l2train_accuracy_results_9 = []\n",
        "l2val_loss_results_9 = []\n",
        "l2val_accuracy_results_9 = []\n",
        "l2train_mse_results_9 = []\n",
        "l2val_mse_results_9 = []\n",
        "\n",
        "# Initialize model using GPU\n",
        "mlpl2_on_gpu = MLPl2(size_input, size_first_hidden, size_second_hidden, size_output, device='gpu')\n",
        "\n",
        "time_start = time.time()\n",
        "for epoch in range(NUM_EPOCHS):\n",
        "  loss_total_gpu = tf.zeros([1,1], dtype=tf.float32)\n",
        "  lt = 0\n",
        "  train_ds = tf.data.Dataset.from_tensor_slices((X_train, y_train)).shuffle(25, seed=epoch*(975008430)).batch(80)\n",
        "  for inputs, outputs in train_ds:\n",
        "    preds = mlpl2_on_gpu.forward(inputs)\n",
        "    loss_total_gpu = loss_total_gpu + mlpl2_on_gpu.loss(preds, outputs)\n",
        "    lt = lt + mlpl2_on_gpu.loss(preds, outputs)\n",
        "    mlpl2_on_gpu.backward(inputs, outputs)\n",
        "    accuracy_train = tf.keras.metrics.Accuracy()\n",
        "    accuracy_train.update_state(preds, outputs)\n",
        "    accuracy_train.result().numpy()\n",
        "    mse_train = tf.keras.metrics.mean_squared_error(preds, outputs)\n",
        "  val_loss_total = tf.Variable(0, dtype=tf.float32)\n",
        "  val_ds = tf.data.Dataset.from_tensor_slices((X_validation, y_validation)).shuffle(25, seed=epoch*(975008430)).batch(80)\n",
        "  for input, outputs in val_ds:\n",
        "    preds_val = mlpl2_on_gpu.forward(inputs)\n",
        "    val_loss_total = val_loss_total + mlpl2_on_gpu.loss(preds_val, outputs)\n",
        "    accuracy_val = tf.keras.metrics.Accuracy()\n",
        "    accuracy_val.update_state(preds_val, outputs)\n",
        "    accuracy_val.result().numpy()\n",
        "    mse_val = tf.keras.metrics.mean_squared_error(preds_val, outputs)\n",
        "   # End epoch\n",
        "  l2train_loss_results_9.append(np.sum(loss_total_gpu)/ X_train.shape[0])\n",
        "  l2train_accuracy_results_9.append(accuracy_train.result())\n",
        "  l2val_loss_results_9.append(np.sum(val_loss_total)/ X_train.shape[0])\n",
        "  l2val_accuracy_results_9.append(accuracy_val.result())\n",
        "  l2train_mse_results_9.append(np.sum(mse_train))\n",
        "  l2val_mse_results_9.append(np.sum(mse_val))\n",
        "  print('Number of Epoch = {} - Average Training Loss (CE) = {:.5f}, Training Accuracy {:5f}'.format(epoch + 1, np.sum(loss_total_gpu)/ X_train.shape[0], accuracy_train.result().numpy()))\n",
        "  print('Average Validation Loss (CE) = {:.5f}, Validation Accuracy = {:.5f}'.format(np.sum(val_loss_total)/ X_train.shape[0], accuracy_val.result().numpy()))\n",
        "time_taken = time.time() - time_start\n",
        "\n",
        "print('\\nTotal time taken (in seconds): {:.2f}'.format(time_taken))\n",
        "\n",
        "l2test_loss_total_9 = tf.Variable(0, dtype=tf.float32)\n",
        "l2test_ds_outputs_9 = []\n",
        "l2test_ds_trues_9 = []\n",
        "#test_loss_total = 0.0\n",
        "for inputs, outputs in test_ds:\n",
        "  preds = mlpl2_on_gpu.forward(inputs)\n",
        "  #b = mlp_on_default.loss(preds, outputs)\n",
        "  l2test_loss_total_9 = l2test_loss_total_4 + mlpl2_on_gpu.loss(preds, outputs)\n",
        "  l2accuracy_test_9 = tf.keras.metrics.Accuracy()\n",
        "  l2accuracy_test_9.update_state(preds, outputs)\n",
        "  l2accuracy_test_9.result().numpy()\n",
        "  l2test_ds_outputs_9.append(outputs)\n",
        "  l2test_ds_trues_9.append(y_test)\n",
        "print('Test CE Loss = {:.5f}, Test Accuracy = {:.5f}'.format(np.sum(l2test_loss_total) / X_train.shape[0], l2accuracy_test.result().numpy()))"
      ],
      "metadata": {
        "id": "wH-VbKE8KLru"
      },
      "execution_count": null,
      "outputs": []
    },
    {
      "cell_type": "markdown",
      "source": [
        "L1 9"
      ],
      "metadata": {
        "id": "0F2BLQV4PwfZ"
      }
    },
    {
      "cell_type": "code",
      "source": [
        "# save results into here\n",
        "l1train_loss_results_9 = []\n",
        "l1train_accuracy_results_9 = []\n",
        "l1val_loss_results_9 = []\n",
        "l1val_accuracy_results_9 = []\n",
        "l1train_mse_results_9 = []\n",
        "l1val_mse_results_9 = []\n",
        "\n",
        "# Initialize model using GPU\n",
        "mlpl1_on_gpu = MLPl1(size_input, size_first_hidden, size_second_hidden, size_output, device='gpu')\n",
        "\n",
        "time_start = time.time()\n",
        "for epoch in range(NUM_EPOCHS):\n",
        "  loss_total_gpu = tf.zeros([1,1], dtype=tf.float32)\n",
        "  lt = 0\n",
        "  train_ds = tf.data.Dataset.from_tensor_slices((X_train, y_train)).shuffle(25, seed=epoch*(975008430)).batch(80)\n",
        "  for inputs, outputs in train_ds:\n",
        "    preds = mlpl1_on_gpu.forward(inputs)\n",
        "    loss_total_gpu = loss_total_gpu + mlpl1_on_gpu.loss(preds, outputs)\n",
        "    lt = lt + mlpl1_on_gpu.loss(preds, outputs)\n",
        "    mlpl1_on_gpu.backward(inputs, outputs)\n",
        "    accuracy_train = tf.keras.metrics.Accuracy()\n",
        "    accuracy_train.update_state(preds, outputs)\n",
        "    accuracy_train.result().numpy()\n",
        "    mse_train = tf.keras.metrics.mean_squared_error(preds, outputs)\n",
        "  val_loss_total = tf.Variable(0, dtype=tf.float32)\n",
        "  val_ds = tf.data.Dataset.from_tensor_slices((X_validation, y_validation)).shuffle(25, seed=epoch*(975008430)).batch(80)\n",
        "  for input, outputs in val_ds:\n",
        "    preds_val = mlpl1_on_gpu.forward(inputs)\n",
        "    val_loss_total = val_loss_total + mlpl1_on_gpu.loss(preds_val, outputs)\n",
        "    accuracy_val = tf.keras.metrics.Accuracy()\n",
        "    accuracy_val.update_state(preds_val, outputs)\n",
        "    accuracy_val.result().numpy()\n",
        "    mse_val = tf.keras.metrics.mean_squared_error(preds_val, outputs)\n",
        "   # End epoch\n",
        "  l1train_loss_results_9.append(np.sum(loss_total_gpu) / X_train.shape[0])\n",
        "  l1train_accuracy_results_9.append(accuracy_train.result())\n",
        "  l1val_loss_results_9.append(np.sum(val_loss_total)/ X_train.shape[0])\n",
        "  l1val_accuracy_results_9.append(accuracy_val.result())\n",
        "  l1train_mse_results_9.append(np.sum(mse_train)/ X_train.shape[0])\n",
        "  l1val_mse_results_9.append(np.sum(mse_val)/ X_train.shape[0])\n",
        "  print('Number of Epoch = {} - Average Training Loss (CE) = {:.5f}, Training Accuracy {:5f}'.format(epoch + 1, np.sum(loss_total_gpu) / X_train.shape[0], accuracy_train.result().numpy()))\n",
        "  print('Average Validation Loss (CE) = {:.5f}, Validation Accuracy = {:.5f}'.format(np.sum(val_loss_total)/ X_train.shape[0], accuracy_val.result().numpy()))\n",
        "time_taken = time.time() - time_start\n",
        "\n",
        "print('\\nTotal time taken (in seconds): {:.2f}'.format(time_taken))\n",
        "\n",
        "l1test_loss_total_9 = tf.Variable(0, dtype=tf.float32)\n",
        "l1test_ds_outputs_9 = []\n",
        "l1test_ds_trues_9 = []\n",
        "#test_loss_total = 0.0\n",
        "for inputs, outputs in test_ds:\n",
        "  preds = mlpl1_on_gpu.forward(inputs)\n",
        "  #b = mlp_on_default.loss(preds, outputs)\n",
        "  l1test_loss_total_9 = l1test_loss_total_9 + mlpl1_on_gpu.loss(preds, outputs)\n",
        "  l1accuracy_test_9 = tf.keras.metrics.Accuracy()\n",
        "  l1accuracy_test_9.update_state(preds, outputs)\n",
        "  l1accuracy_test_9.result().numpy()\n",
        "  l1test_ds_outputs_9.append(outputs)\n",
        "  l1test_ds_trues_9.append(y_test)\n",
        "print('Test CE Loss = {:.5f}, Test Accuracy = {:.5f}'.format(np.sum(l1test_loss_total) / X_train.shape[0], l1accuracy_test.result().numpy()))"
      ],
      "metadata": {
        "id": "I_kcyjGSPx3y"
      },
      "execution_count": null,
      "outputs": []
    },
    {
      "cell_type": "code",
      "source": [
        "np.random.seed(975008439)\n",
        "tf.random.set_seed(975008439)"
      ],
      "metadata": {
        "id": "iPJXyzoy5zx8"
      },
      "execution_count": null,
      "outputs": []
    },
    {
      "cell_type": "markdown",
      "source": [
        "No regularization 10"
      ],
      "metadata": {
        "id": "6HMEo2lOBOpi"
      }
    },
    {
      "cell_type": "code",
      "source": [
        "# save results into here\n",
        "train_loss_results_10 = []\n",
        "train_accuracy_results_10 = []\n",
        "val_loss_results_10 = []\n",
        "val_accuracy_results_10 = []\n",
        "train_mse_results_10 = []\n",
        "val_mse_results_10 = []\n",
        "\n",
        "# Initialize model using GPU\n",
        "mlp_on_gpu = MLP(size_input, size_first_hidden, size_second_hidden, size_output, device='gpu')\n",
        "\n",
        "time_start = time.time()\n",
        "for epoch in range(NUM_EPOCHS):\n",
        "  loss_total_gpu = tf.zeros([1,1], dtype=tf.float32)\n",
        "  lt = 0\n",
        "  train_ds = tf.data.Dataset.from_tensor_slices((X_train, y_train)).shuffle(25, seed=epoch*(975008430)).batch(80)\n",
        "  for inputs, outputs in train_ds:\n",
        "    preds = mlp_on_gpu.forward(inputs)\n",
        "    loss_total_gpu = loss_total_gpu + mlp_on_gpu.loss(preds, outputs)\n",
        "    lt = lt + mlp_on_gpu.loss(preds, outputs)\n",
        "    mlp_on_gpu.backward(inputs, outputs)\n",
        "    accuracy_train = tf.keras.metrics.Accuracy()\n",
        "    accuracy_train.update_state(preds, outputs)\n",
        "    accuracy_train.result().numpy()\n",
        "    mse_train = tf.keras.metrics.mean_squared_error(preds, outputs)\n",
        "  val_loss_total = tf.Variable(0, dtype=tf.float32)\n",
        "  val_ds = tf.data.Dataset.from_tensor_slices((X_validation, y_validation)).shuffle(25, seed=epoch*(975008430)).batch(80)\n",
        "  for input, outputs in val_ds:\n",
        "    preds_val = mlp_on_gpu.forward(inputs)\n",
        "    val_loss_total = val_loss_total + mlp_on_gpu.loss(preds_val, outputs)\n",
        "    accuracy_val = tf.keras.metrics.Accuracy()\n",
        "    accuracy_val.update_state(preds_val, outputs)\n",
        "    accuracy_val.result().numpy()\n",
        "    mse_val = tf.keras.metrics.mean_squared_error(preds_val, outputs)\n",
        "   # End epoch\n",
        "  train_loss_results_10.append(np.sum(loss_total_gpu) / X_train.shape[0])\n",
        "  train_accuracy_results_10.append(accuracy_train.result())\n",
        "  val_loss_results_10.append(np.sum(val_loss_total)/ X_train.shape[0])\n",
        "  val_accuracy_results_10.append(accuracy_val.result())\n",
        "  train_mse_results_10.append(np.sum(mse_train))\n",
        "  val_mse_results_10.append(np.sum(mse_val))\n",
        "  print('Number of Epoch = {} - Average Training Loss (CE) = {:.5f}, Training Accuracy {:5f}'.format(epoch + 1, np.sum(loss_total_gpu) / X_train.shape[0], accuracy_train.result().numpy()))\n",
        "  print('Average Validation Loss (CE) = {:.5f}, Validation Accuracy = {:.5f}'.format(np.sum(val_loss_total)/ X_train.shape[0], accuracy_val.result().numpy()))\n",
        "time_taken = time.time() - time_start\n",
        "\n",
        "print('\\nTotal time taken (in seconds): {:.2f}'.format(time_taken))\n",
        "test_loss_total_10 = tf.Variable(0, dtype=tf.float32)\n",
        "test_ds_outputs_10 = []\n",
        "test_ds_trues_10 = []\n",
        "#test_loss_total = 0.0\n",
        "for inputs, outputs in test_ds:\n",
        "  preds = mlp_on_gpu.forward(inputs)\n",
        "  #b = mlp_on_default.loss(preds, outputs)\n",
        "  test_loss_total_10 = test_loss_total_10 + mlp_on_gpu.loss(preds, outputs)\n",
        "  accuracy_test_10 = tf.keras.metrics.Accuracy()\n",
        "  accuracy_test_10.update_state(preds, outputs)\n",
        "  accuracy_test_10.result().numpy()\n",
        "  test_ds_outputs_10.append(outputs)\n",
        "  test_ds_trues_10.append(y_test)\n",
        "print('Test CE Loss = {:.5f}, Test Accuracy = {:.5f}'.format(np.sum(test_loss_total) / X_train.shape[0], accuracy_test.result().numpy()))"
      ],
      "metadata": {
        "id": "0noGzQ7fCKFp"
      },
      "execution_count": null,
      "outputs": []
    },
    {
      "cell_type": "markdown",
      "source": [
        "L2 10"
      ],
      "metadata": {
        "id": "tSB7KotnKOSU"
      }
    },
    {
      "cell_type": "code",
      "source": [
        "# save results into here to plot\n",
        "l2train_loss_results_10 = []\n",
        "l2train_accuracy_results_10 = []\n",
        "l2val_loss_results_10 = []\n",
        "l2val_accuracy_results_10 = []\n",
        "l2train_mse_results_10 = []\n",
        "l2val_mse_results_10 = []\n",
        "\n",
        "# Initialize model using GPU\n",
        "mlpl2_on_gpu = MLPl2(size_input, size_first_hidden, size_second_hidden, size_output, device='gpu')\n",
        "\n",
        "time_start = time.time()\n",
        "for epoch in range(NUM_EPOCHS):\n",
        "  loss_total_gpu = tf.zeros([1,1], dtype=tf.float32)\n",
        "  lt = 0\n",
        "  train_ds = tf.data.Dataset.from_tensor_slices((X_train, y_train)).shuffle(25, seed=epoch*(975008430)).batch(80)\n",
        "  for inputs, outputs in train_ds:\n",
        "    preds = mlpl2_on_gpu.forward(inputs)\n",
        "    loss_total_gpu = loss_total_gpu + mlpl2_on_gpu.loss(preds, outputs)\n",
        "    lt = lt + mlpl2_on_gpu.loss(preds, outputs)\n",
        "    mlpl2_on_gpu.backward(inputs, outputs)\n",
        "    accuracy_train = tf.keras.metrics.Accuracy()\n",
        "    accuracy_train.update_state(preds, outputs)\n",
        "    accuracy_train.result().numpy()\n",
        "    mse_train = tf.keras.metrics.mean_squared_error(preds, outputs)\n",
        "  val_loss_total = tf.Variable(0, dtype=tf.float32)\n",
        "  val_ds = tf.data.Dataset.from_tensor_slices((X_validation, y_validation)).shuffle(25, seed=epoch*(975008430)).batch(80)\n",
        "  for input, outputs in val_ds:\n",
        "    preds_val = mlpl2_on_gpu.forward(inputs)\n",
        "    val_loss_total = val_loss_total + mlpl2_on_gpu.loss(preds_val, outputs)\n",
        "    accuracy_val = tf.keras.metrics.Accuracy()\n",
        "    accuracy_val.update_state(preds_val, outputs)\n",
        "    accuracy_val.result().numpy()\n",
        "    mse_val = tf.keras.metrics.mean_squared_error(preds_val, outputs)\n",
        "   # End epoch\n",
        "  l2train_loss_results_10.append(np.sum(loss_total_gpu)/ X_train.shape[0])\n",
        "  l2train_accuracy_results_10.append(accuracy_train.result())\n",
        "  l2val_loss_results_10.append(np.sum(val_loss_total)/ X_train.shape[0])\n",
        "  l2val_accuracy_results_10.append(accuracy_val.result())\n",
        "  l2train_mse_results_10.append(np.sum(mse_train))\n",
        "  l2val_mse_results_10.append(np.sum(mse_val))\n",
        "  print('Number of Epoch = {} - Average Training Loss (CE) = {:.5f}, Training Accuracy {:5f}'.format(epoch + 1, np.sum(loss_total_gpu)/ X_train.shape[0], accuracy_train.result().numpy()))\n",
        "  print('Average Validation Loss (CE) = {:.5f}, Validation Accuracy = {:.5f}'.format(np.sum(val_loss_total)/ X_train.shape[0], accuracy_val.result().numpy()))\n",
        "time_taken = time.time() - time_start\n",
        "\n",
        "print('\\nTotal time taken (in seconds): {:.2f}'.format(time_taken))\n",
        "\n",
        "l2test_loss_total_10 = tf.Variable(0, dtype=tf.float32)\n",
        "l2test_ds_outputs_10 = []\n",
        "l2test_ds_trues_10 = []\n",
        "#test_loss_total = 0.0\n",
        "for inputs, outputs in test_ds:\n",
        "  preds = mlpl2_on_gpu.forward(inputs)\n",
        "  #b = mlp_on_default.loss(preds, outputs)\n",
        "  l2test_loss_total_10 = l2test_loss_total_10 + mlpl2_on_gpu.loss(preds, outputs)\n",
        "  l2accuracy_test_10 = tf.keras.metrics.Accuracy()\n",
        "  l2accuracy_test_10.update_state(preds, outputs)\n",
        "  l2accuracy_test_10.result().numpy()\n",
        "  l2test_ds_outputs_10.append(outputs)\n",
        "  l2test_ds_trues_10.append(y_test)\n",
        "print('Test CE Loss = {:.5f}, Test Accuracy = {:.5f}'.format(np.sum(l2test_loss_total) / X_train.shape[0], l2accuracy_test.result().numpy()))"
      ],
      "metadata": {
        "id": "N83ONph5KP8R"
      },
      "execution_count": null,
      "outputs": []
    },
    {
      "cell_type": "markdown",
      "source": [
        "L1 10"
      ],
      "metadata": {
        "id": "qwqe5WwWQELK"
      }
    },
    {
      "cell_type": "code",
      "source": [
        "# save results into here\n",
        "l1train_loss_results_10 = []\n",
        "l1train_accuracy_results_10 = []\n",
        "l1val_loss_results_10 = []\n",
        "l1val_accuracy_results_10 = []\n",
        "l1train_mse_results_10 = []\n",
        "l1val_mse_results_10 = []\n",
        "\n",
        "# Initialize model using GPU\n",
        "mlpl1_on_gpu = MLPl1(size_input, size_first_hidden, size_second_hidden, size_output, device='gpu')\n",
        "\n",
        "time_start = time.time()\n",
        "for epoch in range(NUM_EPOCHS):\n",
        "  loss_total_gpu = tf.zeros([1,1], dtype=tf.float32)\n",
        "  lt = 0\n",
        "  train_ds = tf.data.Dataset.from_tensor_slices((X_train, y_train)).shuffle(25, seed=epoch*(975008430)).batch(80)\n",
        "  for inputs, outputs in train_ds:\n",
        "    preds = mlpl1_on_gpu.forward(inputs)\n",
        "    loss_total_gpu = loss_total_gpu + mlpl1_on_gpu.loss(preds, outputs)\n",
        "    lt = lt + mlpl1_on_gpu.loss(preds, outputs)\n",
        "    mlpl1_on_gpu.backward(inputs, outputs)\n",
        "    accuracy_train = tf.keras.metrics.Accuracy()\n",
        "    accuracy_train.update_state(preds, outputs)\n",
        "    accuracy_train.result().numpy()\n",
        "    mse_train = tf.keras.metrics.mean_squared_error(preds, outputs)\n",
        "  val_loss_total = tf.Variable(0, dtype=tf.float32)\n",
        "  val_ds = tf.data.Dataset.from_tensor_slices((X_validation, y_validation)).shuffle(25, seed=epoch*(975008430)).batch(80)\n",
        "  for input, outputs in val_ds:\n",
        "    preds_val = mlpl1_on_gpu.forward(inputs)\n",
        "    val_loss_total = val_loss_total + mlpl1_on_gpu.loss(preds_val, outputs)\n",
        "    accuracy_val = tf.keras.metrics.Accuracy()\n",
        "    accuracy_val.update_state(preds_val, outputs)\n",
        "    accuracy_val.result().numpy()\n",
        "    mse_val = tf.keras.metrics.mean_squared_error(preds_val, outputs)\n",
        "   # End epoch\n",
        "  l1train_loss_results_10.append(np.sum(loss_total_gpu) / X_train.shape[0])\n",
        "  l1train_accuracy_results_10.append(accuracy_train.result())\n",
        "  l1val_loss_results_10.append(np.sum(val_loss_total)/ X_train.shape[0])\n",
        "  l1val_accuracy_results_10.append(accuracy_val.result())\n",
        "  l1train_mse_results_10.append(np.sum(mse_train)/ X_train.shape[0])\n",
        "  l1val_mse_results_10.append(np.sum(mse_val)/ X_train.shape[0])\n",
        "  print('Number of Epoch = {} - Average Training Loss (CE) = {:.5f}, Training Accuracy {:5f}'.format(epoch + 1, np.sum(loss_total_gpu) / X_train.shape[0], accuracy_train.result().numpy()))\n",
        "  print('Average Validation Loss (CE) = {:.5f}, Validation Accuracy = {:.5f}'.format(np.sum(val_loss_total)/ X_train.shape[0], accuracy_val.result().numpy()))\n",
        "time_taken = time.time() - time_start\n",
        "\n",
        "print('\\nTotal time taken (in seconds): {:.2f}'.format(time_taken))\n",
        "\n",
        "l1test_loss_total_10 = tf.Variable(0, dtype=tf.float32)\n",
        "l1test_ds_outputs_10 = []\n",
        "l1test_ds_trues_10 = []\n",
        "#test_loss_total = 0.0\n",
        "for inputs, outputs in test_ds:\n",
        "  preds = mlpl1_on_gpu.forward(inputs)\n",
        "  #b = mlp_on_default.loss(preds, outputs)\n",
        "  l1test_loss_total_10 = l1test_loss_total_10 + mlpl1_on_gpu.loss(preds, outputs)\n",
        "  l1accuracy_test_10 = tf.keras.metrics.Accuracy()\n",
        "  l1accuracy_test_10.update_state(preds, outputs)\n",
        "  l1accuracy_test_10.result().numpy()\n",
        "  l1test_ds_outputs_10.append(outputs)\n",
        "  l1test_ds_trues_10.append(y_test)\n",
        "print('Test CE Loss = {:.5f}, Test Accuracy = {:.5f}'.format(np.sum(l1test_loss_total) / X_train.shape[0], l1accuracy_test.result().numpy()))"
      ],
      "metadata": {
        "id": "3FoiqVlqQDzO"
      },
      "execution_count": null,
      "outputs": []
    },
    {
      "cell_type": "markdown",
      "source": [
        "Mean and Variance of accuracy for test rounds for each of 10 models for each of the three types of models"
      ],
      "metadata": {
        "id": "H0ZnFeDWQXg6"
      }
    },
    {
      "cell_type": "code",
      "source": [
        "test_accs = [accuracy_test.result().numpy(), accuracy_test_2.result().numpy(), accuracy_test_3.result().numpy(), accuracy_test_4.result().numpy(), accuracy_test_5.result().numpy(), accuracy_test_6.result().numpy(), accuracy_test_7.result().numpy(), accuracy_test_8.result().numpy(), accuracy_test_9.result().numpy(), accuracy_test_10.result().numpy()]\n",
        "# issue with statistics.variance being fed numpy array\n",
        "test_accs_for_var = (0.8875, 0.85, 0.8875, 0.85, 0.825, 0.85625, 0.86875, 0.825, 0.8125, 0.84375)\n",
        "l1test_accs = [l1accuracy_test.result().numpy(), l1accuracy_test_2.result().numpy(), l1accuracy_test_3.result().numpy(), l1accuracy_test_4.result().numpy(), l1accuracy_test_5.result().numpy(), l1accuracy_test_6.result().numpy(), l1accuracy_test_7.result().numpy(), l1accuracy_test_8.result().numpy(), l1accuracy_test_9.result().numpy(), l1accuracy_test_10.result().numpy()]\n",
        "l1test_accs_for_var = (0.78125, 0.825, 0.80625, 0.79375, 0.80625, 0.825, 0.7875, 0.79375, 0.80625, 0.81875)\n",
        "l2test_accs = [l2accuracy_test.result().numpy(), l2accuracy_test_2.result().numpy(), l2accuracy_test_3.result().numpy(), l2accuracy_test_4.result().numpy(), l2accuracy_test_5.result().numpy(), l2accuracy_test_6.result().numpy(), l2accuracy_test_7.result().numpy(), l2accuracy_test_8.result().numpy(), l2accuracy_test_9.result().numpy(), l2accuracy_test_10.result().numpy()]\n",
        "l2test_accs_for_var = (0.85625, 0.8, 0.78125, 0.80625, 0.80625, 0.825, 0.8125, 0.8, 0.8, 0.84375)"
      ],
      "metadata": {
        "id": "twgWF1pShCAC"
      },
      "execution_count": null,
      "outputs": []
    },
    {
      "cell_type": "code",
      "source": [
        "test_acc_mean = statistics.mean(test_accs)\n",
        "test_acc_var = statistics.variance(test_accs_for_var)\n",
        "test_acc_stdev = statistics.stdev(test_accs_for_var)\n",
        "print(test_acc_mean)\n",
        "print(test_acc_var)\n",
        "print(test_acc_stdev)\n",
        "print(statistics.mean(l2test_accs))\n",
        "print(statistics.variance(l2test_accs_for_var))\n",
        "print(statistics.stdev(l2test_accs_for_var))\n",
        "print(statistics.mean(l1test_accs))\n",
        "print(statistics.variance(l1test_accs_for_var))\n",
        "print(statistics.stdev(l1test_accs_for_var))"
      ],
      "metadata": {
        "id": "x7mlMtiUDWy6"
      },
      "execution_count": null,
      "outputs": []
    },
    {
      "cell_type": "code",
      "source": [
        "test_rounds = [1, 2, 3, 4, 5, 6, 7, 8, 9, 10]\n",
        "plt.scatter(test_rounds, test_accs)\n",
        "plt.xlabel = 'Trial'\n",
        "plt.ylabel = 'Accuracy'\n",
        "txt=\"Mean: .8506, Variance: .0007, St. Dev.: .0256\"\n",
        "plt.figtext(0.5, 0.01, txt, wrap=True, horizontalalignment='center', fontsize=12)\n",
        "plt.show()\n",
        "\n",
        "test_rounds = [1, 2, 3, 4, 5, 6, 7, 8, 9, 10]\n",
        "plt.scatter(test_rounds, l2test_accs)\n",
        "plt.xlabel = 'Trial'\n",
        "plt.ylabel = 'Accuracy'\n",
        "plt.title = 'L2'\n",
        "txt=\"Mean: .8131, Variance: .0005, St. Dev.: .0225\"\n",
        "plt.figtext(0.5, 0.01, txt, wrap=True, horizontalalignment='center', fontsize=12)\n",
        "plt.show()\n",
        "\n",
        "test_rounds = [1, 2, 3, 4, 5, 6, 7, 8, 9, 10]\n",
        "plt.scatter(test_rounds, l1test_accs)\n",
        "plt.xlabel = 'Trial'\n",
        "plt.ylabel = 'Accuracy'\n",
        "plt.title = 'L1'\n",
        "txt=\"Mean: .8043, Variance: .0002, St. Dev.: .0153\"\n",
        "plt.figtext(0.5, 0.01, txt, wrap=True, horizontalalignment='center', fontsize=12)\n",
        "plt.show()"
      ],
      "metadata": {
        "id": "HMikKYj3yJnN"
      },
      "execution_count": null,
      "outputs": []
    }
  ],
  "metadata": {
    "accelerator": "GPU",
    "colab": {
      "collapsed_sections": [],
      "name": "IST597HW00010.ipynb",
      "provenance": []
    },
    "kernelspec": {
      "display_name": "Python 3",
      "name": "python3"
    },
    "language_info": {
      "name": "python"
    }
  },
  "nbformat": 4,
  "nbformat_minor": 0
}